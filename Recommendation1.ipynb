{
 "cells": [
  {
   "cell_type": "code",
   "execution_count": 1,
   "metadata": {},
   "outputs": [],
   "source": [
    "import pandas as pd\n",
    "import numpy as np"
   ]
  },
  {
   "cell_type": "code",
   "execution_count": 2,
   "metadata": {},
   "outputs": [],
   "source": [
    "chemin_bd = r\"./bd_ignore/\""
   ]
  },
  {
   "cell_type": "code",
   "execution_count": 3,
   "metadata": {},
   "outputs": [],
   "source": [
    "df_merge2_gros = pd.read_csv(chemin_bd + 'resultat/df_merge2a.csv')"
   ]
  },
  {
   "cell_type": "code",
   "execution_count": 6,
   "metadata": {},
   "outputs": [],
   "source": [
    "df_merge2_gros2 = df_merge2_gros.copy()"
   ]
  },
  {
   "cell_type": "code",
   "execution_count": 8,
   "metadata": {},
   "outputs": [
    {
     "data": {
      "text/plain": [
       "array(['1', '45', '\\\\N', '3', '2', '13', '6', '5', '4', '40', '10', '9',\n",
       "       '11', '16', '8', '14', '7', '24', '100', '15', '17', '70', '90',\n",
       "       '12', '20', '120', '18', '19', '44', '38', '58', '22', '33', '25',\n",
       "       '50', '28', '34', '35', '42', '23', '30', '51', '52', '60', '36',\n",
       "       '92', '56', '26', '53', '31', '41', '48', '68', '21', '29', '71',\n",
       "       '43', '46', '27', '32', '113', '55', '150', '300', '121', '89',\n",
       "       '37', '69', '54', '64', '47', '96', '49', '61', '39', '101', '57',\n",
       "       '99', '110', '85', '88', '86', '170', '63', '72', '78', '75',\n",
       "       '450', '148', '80', '124', '220', '59', '112', '1428', '84', '65',\n",
       "       '74', '105', '310', '73', '82', '81', '199', '139', '109', '67',\n",
       "       '219', '195', '440', '77', '293', '97', '79', '62', '66', '250',\n",
       "       '421', '360', '180', '93', '163', '400', '95', '83', '116', '320',\n",
       "       '125', '76', '127', '138', '460', '350', '374', '480', '330', '87',\n",
       "       '130', '600', '240', '117', '410', '135', '146', '104', '418',\n",
       "       '106', '242', '223', '489', '102', '200', '98', '122', '115',\n",
       "       '207', '166', '238', '111', '145', '131', '243', '133', '172',\n",
       "       '167', '103', '94', '355', '206', '91', '157', '107', '165', '248',\n",
       "       '235', '119', '184', '118', '108', '114', '380', '128', '143',\n",
       "       '155', '137', '183', '210', '136', '417', '141', '162', '153',\n",
       "       '129', '123', '151', '182', '140', '359', '126', '132', '179',\n",
       "       '260', '230', '168', '160', '144', '159', '185', '156', '215',\n",
       "       '177', '213', '149', '225', '147', '266', '152', '217', '158',\n",
       "       '226', '134', '194', '216', '227', '231', '218', '246', '281',\n",
       "       '208', '228', '229', '212', '236', '306', '257', '245', '197',\n",
       "       '255', '142', '323', '305', '328', '176', '232', '258', '256',\n",
       "       '303', '308', '224', '294', '268', '204', '298', '299', '264',\n",
       "       '211', '302', '263', '265', '205', '154', '237', '285', '269',\n",
       "       '267', '247', '186', '241', '289', '283', '290', '270', '251',\n",
       "       '278', '196', '279', '261', '275', '280', '244', '189', '169',\n",
       "       '284', '295', '201', '221', '192', '252', '171', '193', '287',\n",
       "       '361', '175', '174', '173', '315', '190', '164', '239', '178',\n",
       "       '161', '181', '188', '497', '327', '317', '191', '209', '434',\n",
       "       '234', '288', '438', '393', '378', '316', '340', '203', '253',\n",
       "       '344', '540', '476', '451', '321', '348', '890', '309', '653',\n",
       "       '431', '390', '202', '187', '370', '396', '282', '467', '286',\n",
       "       '770', '311', '500', '373', '596', '750', '273', '442', '599',\n",
       "       '333', '614', '385', '780', '510', '271', '274', '262', '420',\n",
       "       '291', '366', '742', '673', '358', '301', '233', '198', '752',\n",
       "       '504', '520', '720', '313', '413', '700', '222', '391', '428',\n",
       "       '437', '416', '367', '569', '371', '376', '870', '312', '407',\n",
       "       '331', '375', '436', '353', '357', '873', '1290', '345', '318',\n",
       "       '335', '624', '398', '272', '567', '606', '214', '384', '834',\n",
       "       '522', '439', '314', '515', '620', '528', '336', '341', '568',\n",
       "       '571', '556', '386', '383', '650', '343', '277', '698', '401',\n",
       "       '377', '672', '465', '622', '296', '1352', '1320', '395', '339',\n",
       "       '415', '259', '351', '1620', '388', '325', '254', '455', '554',\n",
       "       '612', '616', '349', '458', '660', '1500', '475', '778', '1080',\n",
       "       '495', '347', '382', '1800', '577', '307', '276', '2800', '491',\n",
       "       '338', '840', '406', '776', '369', '297', '804', '445', '615',\n",
       "       '392', '663', '693', '580', '544', '5220', '545', '640', '446',\n",
       "       '372', '629', '678', '1300', '352', '689', '793', '2925', '608',\n",
       "       '1170', '0', '701', '657', '249', '346', '738', '1970', '1200',\n",
       "       '646', '459', '820', '704', '630', '408', '999', '402', '715',\n",
       "       '514', '1664', '960', '1215', '625', '1710', '1035', '550', '1370',\n",
       "       '1350', '1410', '1380', '1100', '364', '516', '705', '1196', '443',\n",
       "       '765', '502', '8400', '541', '594', '414', '652', '1442', '598',\n",
       "       '526', '487', '1773', '1932', '466', '4800', '363', '3900', '2150',\n",
       "       '403', '552', '527', '636', '425', '575', '519', '530', '412',\n",
       "       '506', '547', '800', '900', '441', '469', '429', '490', '551',\n",
       "       '784', '990', '585', '623', '525', '337', '570', '1325', '324',\n",
       "       '409', '1444', '479', '675', '1682', '362', '943', '933', '521',\n",
       "       '1050', '1440', '468', '668', '712', '619', '950', '559', '736',\n",
       "       '368', '405', '830', '452', '397', '1000', '1452', '676', '850',\n",
       "       '507', '641', '342', '329', '553', '494', '332', '711', '484',\n",
       "       '901', '930', '485', '292', '3000', '1560', '1680', '814', '605',\n",
       "       '432', '590', '717', '998', '853', '1669', '558', '1210', '771',\n",
       "       '1040', '326', '365', '304', '488', '695', '319', '447', '565',\n",
       "       '381', '1020', '1234', '582', '645', '498', '810', '1005', '334',\n",
       "       '14400', '481', '680', '379', '474', '448', '535', '512', '654',\n",
       "       '1700', '799', '2007', '670', '913', '707', '661', '659', '524',\n",
       "       '529', '572', '43200', '936', '1008', '536', '1285', '2565',\n",
       "       '1151', '740', '354', '549', '627', '714', '5460', '453', '1175',\n",
       "       '356', '471', '322', '542', '3825', '499', '1329', '1260', '1416',\n",
       "       '430', '2160', '1750', '808', '1755', '1980', '2112', '716', '424'],\n",
       "      dtype=object)"
      ]
     },
     "execution_count": 8,
     "metadata": {},
     "output_type": "execute_result"
    }
   ],
   "source": [
    "df_merge2_gros2['runtimeMinutes'].unique()"
   ]
  },
  {
   "cell_type": "code",
   "execution_count": 5,
   "metadata": {},
   "outputs": [
    {
     "data": {
      "text/html": [
       "<div>\n",
       "<style scoped>\n",
       "    .dataframe tbody tr th:only-of-type {\n",
       "        vertical-align: middle;\n",
       "    }\n",
       "\n",
       "    .dataframe tbody tr th {\n",
       "        vertical-align: top;\n",
       "    }\n",
       "\n",
       "    .dataframe thead th {\n",
       "        text-align: right;\n",
       "    }\n",
       "</style>\n",
       "<table border=\"1\" class=\"dataframe\">\n",
       "  <thead>\n",
       "    <tr style=\"text-align: right;\">\n",
       "      <th></th>\n",
       "      <th>tconst</th>\n",
       "      <th>titleType</th>\n",
       "      <th>originalTitle</th>\n",
       "      <th>startYear</th>\n",
       "      <th>genres</th>\n",
       "      <th>primaryName</th>\n",
       "    </tr>\n",
       "  </thead>\n",
       "  <tbody>\n",
       "    <tr>\n",
       "      <th>0</th>\n",
       "      <td>tt0000005</td>\n",
       "      <td>short</td>\n",
       "      <td>Blacksmith Scene</td>\n",
       "      <td>1893.0</td>\n",
       "      <td>Comedy,Short</td>\n",
       "      <td>Charles Kayser</td>\n",
       "    </tr>\n",
       "    <tr>\n",
       "      <th>1</th>\n",
       "      <td>tt0000005</td>\n",
       "      <td>short</td>\n",
       "      <td>Blacksmith Scene</td>\n",
       "      <td>1893.0</td>\n",
       "      <td>Comedy,Short</td>\n",
       "      <td>John Ott</td>\n",
       "    </tr>\n",
       "    <tr>\n",
       "      <th>2</th>\n",
       "      <td>tt0000007</td>\n",
       "      <td>short</td>\n",
       "      <td>Corbett and Courtney Before the Kinetograph</td>\n",
       "      <td>1894.0</td>\n",
       "      <td>Short,Sport</td>\n",
       "      <td>James J. Corbett</td>\n",
       "    </tr>\n",
       "    <tr>\n",
       "      <th>3</th>\n",
       "      <td>tt0000007</td>\n",
       "      <td>short</td>\n",
       "      <td>Corbett and Courtney Before the Kinetograph</td>\n",
       "      <td>1894.0</td>\n",
       "      <td>Short,Sport</td>\n",
       "      <td>Peter Courtney</td>\n",
       "    </tr>\n",
       "    <tr>\n",
       "      <th>4</th>\n",
       "      <td>tt0000008</td>\n",
       "      <td>short</td>\n",
       "      <td>Edison Kinetoscopic Record of a Sneeze</td>\n",
       "      <td>1894.0</td>\n",
       "      <td>Documentary,Short</td>\n",
       "      <td>Fred Ott</td>\n",
       "    </tr>\n",
       "    <tr>\n",
       "      <th>...</th>\n",
       "      <td>...</td>\n",
       "      <td>...</td>\n",
       "      <td>...</td>\n",
       "      <td>...</td>\n",
       "      <td>...</td>\n",
       "      <td>...</td>\n",
       "    </tr>\n",
       "    <tr>\n",
       "      <th>32534733</th>\n",
       "      <td>tt9916880</td>\n",
       "      <td>tvEpisode</td>\n",
       "      <td>Horrid Henry Knows It All</td>\n",
       "      <td>2014.0</td>\n",
       "      <td>Adventure,Animation,Comedy</td>\n",
       "      <td>Joanna Ruiz</td>\n",
       "    </tr>\n",
       "    <tr>\n",
       "      <th>32534734</th>\n",
       "      <td>tt9916880</td>\n",
       "      <td>tvEpisode</td>\n",
       "      <td>Horrid Henry Knows It All</td>\n",
       "      <td>2014.0</td>\n",
       "      <td>Adventure,Animation,Comedy</td>\n",
       "      <td>Joanna Ruiz</td>\n",
       "    </tr>\n",
       "    <tr>\n",
       "      <th>32534735</th>\n",
       "      <td>tt9916880</td>\n",
       "      <td>tvEpisode</td>\n",
       "      <td>Horrid Henry Knows It All</td>\n",
       "      <td>2014.0</td>\n",
       "      <td>Adventure,Animation,Comedy</td>\n",
       "      <td>Joanna Ruiz</td>\n",
       "    </tr>\n",
       "    <tr>\n",
       "      <th>32534736</th>\n",
       "      <td>tt9916880</td>\n",
       "      <td>tvEpisode</td>\n",
       "      <td>Horrid Henry Knows It All</td>\n",
       "      <td>2014.0</td>\n",
       "      <td>Adventure,Animation,Comedy</td>\n",
       "      <td>Emma Tate</td>\n",
       "    </tr>\n",
       "    <tr>\n",
       "      <th>32534737</th>\n",
       "      <td>tt9916880</td>\n",
       "      <td>tvEpisode</td>\n",
       "      <td>Horrid Henry Knows It All</td>\n",
       "      <td>2014.0</td>\n",
       "      <td>Adventure,Animation,Comedy</td>\n",
       "      <td>Emma Tate</td>\n",
       "    </tr>\n",
       "  </tbody>\n",
       "</table>\n",
       "<p>32534738 rows × 6 columns</p>\n",
       "</div>"
      ],
      "text/plain": [
       "             tconst  titleType                                originalTitle  \\\n",
       "0         tt0000005      short                             Blacksmith Scene   \n",
       "1         tt0000005      short                             Blacksmith Scene   \n",
       "2         tt0000007      short  Corbett and Courtney Before the Kinetograph   \n",
       "3         tt0000007      short  Corbett and Courtney Before the Kinetograph   \n",
       "4         tt0000008      short       Edison Kinetoscopic Record of a Sneeze   \n",
       "...             ...        ...                                          ...   \n",
       "32534733  tt9916880  tvEpisode                    Horrid Henry Knows It All   \n",
       "32534734  tt9916880  tvEpisode                    Horrid Henry Knows It All   \n",
       "32534735  tt9916880  tvEpisode                    Horrid Henry Knows It All   \n",
       "32534736  tt9916880  tvEpisode                    Horrid Henry Knows It All   \n",
       "32534737  tt9916880  tvEpisode                    Horrid Henry Knows It All   \n",
       "\n",
       "          startYear                      genres       primaryName  \n",
       "0            1893.0                Comedy,Short    Charles Kayser  \n",
       "1            1893.0                Comedy,Short          John Ott  \n",
       "2            1894.0                 Short,Sport  James J. Corbett  \n",
       "3            1894.0                 Short,Sport    Peter Courtney  \n",
       "4            1894.0           Documentary,Short          Fred Ott  \n",
       "...             ...                         ...               ...  \n",
       "32534733     2014.0  Adventure,Animation,Comedy       Joanna Ruiz  \n",
       "32534734     2014.0  Adventure,Animation,Comedy       Joanna Ruiz  \n",
       "32534735     2014.0  Adventure,Animation,Comedy       Joanna Ruiz  \n",
       "32534736     2014.0  Adventure,Animation,Comedy         Emma Tate  \n",
       "32534737     2014.0  Adventure,Animation,Comedy         Emma Tate  \n",
       "\n",
       "[32534738 rows x 6 columns]"
      ]
     },
     "execution_count": 5,
     "metadata": {},
     "output_type": "execute_result"
    }
   ],
   "source": [
    "df_merge2_gros2.drop(columns=['Unnamed: 0','runtimeMinutes', 'nconst', 'category', 'primaryProfession'])"
   ]
  },
  {
   "cell_type": "code",
   "execution_count": null,
   "metadata": {},
   "outputs": [],
   "source": [
    "df_merge2_gros2.to_csv(chemin_bd+\"resultat2/df_merge2_gros2.csv\", index=False)"
   ]
  },
  {
   "cell_type": "code",
   "execution_count": null,
   "metadata": {},
   "outputs": [],
   "source": [
    "df_recom1 = pd.read_csv(chemin_bd+\"resultat2/df_merge2_gros2.csv\")"
   ]
  },
  {
   "cell_type": "code",
   "execution_count": null,
   "metadata": {},
   "outputs": [],
   "source": [
    "df_recom1.info()"
   ]
  },
  {
   "cell_type": "code",
   "execution_count": null,
   "metadata": {},
   "outputs": [],
   "source": [
    "df_recom1['startYear']"
   ]
  },
  {
   "cell_type": "code",
   "execution_count": null,
   "metadata": {},
   "outputs": [],
   "source": [
    "df_recom1 = df_recom1.drop(columns = ['Unnamed: 0', 'runtimeMinutes', 'nconst', 'category'])"
   ]
  },
  {
   "cell_type": "code",
   "execution_count": null,
   "metadata": {},
   "outputs": [],
   "source": [
    "df_recom2 = df_recom1[df_recom1['startYear'] > 1990]"
   ]
  },
  {
   "cell_type": "code",
   "execution_count": null,
   "metadata": {},
   "outputs": [],
   "source": [
    "df_recom2"
   ]
  },
  {
   "cell_type": "code",
   "execution_count": null,
   "metadata": {},
   "outputs": [],
   "source": [
    "df_recom2 = df_recom2.rename(columns={'tconst': 'imdb_id'})"
   ]
  },
  {
   "cell_type": "code",
   "execution_count": null,
   "metadata": {},
   "outputs": [],
   "source": [
    "df_tmdb_full = pd.read_csv(chemin_bd+\"tmdb_full.csv\")"
   ]
  },
  {
   "cell_type": "code",
   "execution_count": null,
   "metadata": {},
   "outputs": [],
   "source": [
    "df_tmdb_moins = df_tmdb_full.drop(columns = ['backdrop_path', 'budget','id', 'runtime', 'status', 'video', 'vote_average',\n",
    "                   'vote_count','production_companies_name', 'production_companies_country', 'popularity', 'production_countries'])"
   ]
  },
  {
   "cell_type": "code",
   "execution_count": null,
   "metadata": {},
   "outputs": [],
   "source": [
    "# Supprimer les lignes où 'release_date' est nul\n",
    "df_tmdb_moins = df_tmdb_moins[df_tmdb_moins['release_date'].notna()]"
   ]
  },
  {
   "cell_type": "code",
   "execution_count": null,
   "metadata": {},
   "outputs": [],
   "source": [
    "# Convertir la colonne 'release_date' en format datetime\n",
    "df_tmdb_moins['release_date'] = pd.to_datetime(df_tmdb_moins['release_date'], errors='coerce')\n",
    "\n",
    "# Sélectionner les lignes où 'release_date' est après 1990\n",
    "df_tmdb_1990 = df_tmdb_moins[df_tmdb_moins['release_date'] > '1990-01-01']"
   ]
  },
  {
   "cell_type": "code",
   "execution_count": null,
   "metadata": {},
   "outputs": [],
   "source": [
    "df_tmdb_1990.isna().sum()"
   ]
  },
  {
   "cell_type": "code",
   "execution_count": null,
   "metadata": {},
   "outputs": [],
   "source": [
    "merge_recom = pd.merge(df_tmdb_1990, df_recom2, on='imdb_id', how='inner')"
   ]
  },
  {
   "cell_type": "code",
   "execution_count": null,
   "metadata": {},
   "outputs": [],
   "source": [
    "merge_recom.isna().sum()"
   ]
  },
  {
   "cell_type": "code",
   "execution_count": null,
   "metadata": {},
   "outputs": [],
   "source": [
    "len(merge_recom)"
   ]
  },
  {
   "cell_type": "code",
   "execution_count": null,
   "metadata": {},
   "outputs": [],
   "source": [
    "merge_recom.to_csv(chemin_bd+\"resultat2/merge_recom.csv\", index=False)"
   ]
  },
  {
   "cell_type": "code",
   "execution_count": null,
   "metadata": {},
   "outputs": [],
   "source": [
    "df_merge_recom = pd.read_csv(chemin_bd+\"resultat2/merge_recom.csv\")"
   ]
  },
  {
   "cell_type": "code",
   "execution_count": null,
   "metadata": {},
   "outputs": [],
   "source": [
    "df_merge_recom['genres_y'].unique"
   ]
  }
 ],
 "metadata": {
  "kernelspec": {
   "display_name": "base",
   "language": "python",
   "name": "python3"
  },
  "language_info": {
   "codemirror_mode": {
    "name": "ipython",
    "version": 3
   },
   "file_extension": ".py",
   "mimetype": "text/x-python",
   "name": "python",
   "nbconvert_exporter": "python",
   "pygments_lexer": "ipython3",
   "version": "3.12.4"
  }
 },
 "nbformat": 4,
 "nbformat_minor": 2
}
