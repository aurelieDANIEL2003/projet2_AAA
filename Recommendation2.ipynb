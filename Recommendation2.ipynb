{
 "cells": [
  {
   "cell_type": "code",
   "execution_count": 2,
   "metadata": {},
   "outputs": [],
   "source": [
    "import pandas as pd\n",
    "import numpy as np\n",
    "import warnings"
   ]
  },
  {
   "cell_type": "code",
   "execution_count": 3,
   "metadata": {},
   "outputs": [],
   "source": [
    "warnings.filterwarnings(\"ignore\")\n",
    "from sklearn.preprocessing import StandardScaler\n",
    "from sklearn.model_selection import train_test_split"
   ]
  },
  {
   "cell_type": "code",
   "execution_count": 4,
   "metadata": {},
   "outputs": [],
   "source": [
    "# Modèles\n",
    "from sklearn.linear_model import LogisticRegression\n",
    "from sklearn.tree import DecisionTreeClassifier\n",
    "from sklearn.ensemble import RandomForestClassifier\n",
    "from sklearn.neighbors import KNeighborsClassifier\n",
    "\n",
    "# Ce dont on a besoin\n",
    "from sklearn.metrics import accuracy_score, precision_score, recall_score, f1_score\n",
    "from sklearn.model_selection import cross_val_score, GridSearchCV"
   ]
  },
  {
   "cell_type": "code",
   "execution_count": 5,
   "metadata": {},
   "outputs": [],
   "source": [
    "from sklearn.model_selection import train_test_split, StratifiedKFold\n",
    "from sklearn.linear_model import LogisticRegression"
   ]
  },
  {
   "cell_type": "code",
   "execution_count": 6,
   "metadata": {},
   "outputs": [],
   "source": [
    "chemin_bd = r\"./bd_ignore/\""
   ]
  },
  {
   "cell_type": "code",
   "execution_count": null,
   "metadata": {},
   "outputs": [],
   "source": []
  },
  {
   "cell_type": "code",
   "execution_count": 7,
   "metadata": {},
   "outputs": [],
   "source": [
    "df_merge_recom = pd.read_csv(chemin_bd+\"resultat2/merge_recom.csv\")"
   ]
  },
  {
   "cell_type": "code",
   "execution_count": 8,
   "metadata": {},
   "outputs": [
    {
     "name": "stdout",
     "output_type": "stream",
     "text": [
      "<class 'pandas.core.frame.DataFrame'>\n",
      "RangeIndex: 1312795 entries, 0 to 1312794\n",
      "Data columns (total 19 columns):\n",
      " #   Column             Non-Null Count    Dtype  \n",
      "---  ------             --------------    -----  \n",
      " 0   adult              1312795 non-null  bool   \n",
      " 1   genres_x           1312795 non-null  object \n",
      " 2   homepage           249722 non-null   object \n",
      " 3   imdb_id            1312795 non-null  object \n",
      " 4   original_language  1312795 non-null  object \n",
      " 5   original_title     1312795 non-null  object \n",
      " 6   overview           1223340 non-null  object \n",
      " 7   poster_path        1193852 non-null  object \n",
      " 8   release_date       1312795 non-null  object \n",
      " 9   revenue            1312795 non-null  int64  \n",
      " 10  spoken_languages   1312795 non-null  object \n",
      " 11  tagline            380932 non-null   object \n",
      " 12  title              1312795 non-null  object \n",
      " 13  titleType          1312795 non-null  object \n",
      " 14  originalTitle      1312795 non-null  object \n",
      " 15  startYear          1312795 non-null  float64\n",
      " 16  genres_y           1312795 non-null  object \n",
      " 17  primaryName        1312795 non-null  object \n",
      " 18  primaryProfession  1312795 non-null  object \n",
      "dtypes: bool(1), float64(1), int64(1), object(16)\n",
      "memory usage: 181.5+ MB\n"
     ]
    }
   ],
   "source": [
    "df_merge_recom.info()"
   ]
  },
  {
   "cell_type": "code",
   "execution_count": 8,
   "metadata": {},
   "outputs": [
    {
     "data": {
      "text/html": [
       "<div>\n",
       "<style scoped>\n",
       "    .dataframe tbody tr th:only-of-type {\n",
       "        vertical-align: middle;\n",
       "    }\n",
       "\n",
       "    .dataframe tbody tr th {\n",
       "        vertical-align: top;\n",
       "    }\n",
       "\n",
       "    .dataframe thead th {\n",
       "        text-align: right;\n",
       "    }\n",
       "</style>\n",
       "<table border=\"1\" class=\"dataframe\">\n",
       "  <thead>\n",
       "    <tr style=\"text-align: right;\">\n",
       "      <th></th>\n",
       "      <th>adult</th>\n",
       "      <th>genres_x</th>\n",
       "      <th>homepage</th>\n",
       "      <th>imdb_id</th>\n",
       "      <th>original_language</th>\n",
       "      <th>original_title</th>\n",
       "      <th>overview</th>\n",
       "      <th>poster_path</th>\n",
       "      <th>release_date</th>\n",
       "      <th>revenue</th>\n",
       "      <th>spoken_languages</th>\n",
       "      <th>tagline</th>\n",
       "      <th>title</th>\n",
       "      <th>titleType</th>\n",
       "      <th>originalTitle</th>\n",
       "      <th>startYear</th>\n",
       "      <th>genres_y</th>\n",
       "      <th>primaryName</th>\n",
       "      <th>primaryProfession</th>\n",
       "    </tr>\n",
       "  </thead>\n",
       "  <tbody>\n",
       "    <tr>\n",
       "      <th>0</th>\n",
       "      <td>False</td>\n",
       "      <td>['Crime', 'Comedy']</td>\n",
       "      <td>https://www.miramax.com/movie/four-rooms/</td>\n",
       "      <td>tt0113101</td>\n",
       "      <td>en</td>\n",
       "      <td>Four Rooms</td>\n",
       "      <td>It's Ted the Bellhop's first night on the job....</td>\n",
       "      <td>/75aHn1NOYXh4M7L5shoeQ6NGykP.jpg</td>\n",
       "      <td>1995-12-09</td>\n",
       "      <td>4257354</td>\n",
       "      <td>['en']</td>\n",
       "      <td>Twelve outrageous guests. Four scandalous requ...</td>\n",
       "      <td>Four Rooms</td>\n",
       "      <td>movie</td>\n",
       "      <td>Four Rooms</td>\n",
       "      <td>1995.0</td>\n",
       "      <td>Comedy</td>\n",
       "      <td>Tim Roth</td>\n",
       "      <td>actor,producer,director</td>\n",
       "    </tr>\n",
       "    <tr>\n",
       "      <th>1</th>\n",
       "      <td>False</td>\n",
       "      <td>['Crime', 'Comedy']</td>\n",
       "      <td>https://www.miramax.com/movie/four-rooms/</td>\n",
       "      <td>tt0113101</td>\n",
       "      <td>en</td>\n",
       "      <td>Four Rooms</td>\n",
       "      <td>It's Ted the Bellhop's first night on the job....</td>\n",
       "      <td>/75aHn1NOYXh4M7L5shoeQ6NGykP.jpg</td>\n",
       "      <td>1995-12-09</td>\n",
       "      <td>4257354</td>\n",
       "      <td>['en']</td>\n",
       "      <td>Twelve outrageous guests. Four scandalous requ...</td>\n",
       "      <td>Four Rooms</td>\n",
       "      <td>movie</td>\n",
       "      <td>Four Rooms</td>\n",
       "      <td>1995.0</td>\n",
       "      <td>Comedy</td>\n",
       "      <td>Antonio Banderas</td>\n",
       "      <td>actor,producer,writer</td>\n",
       "    </tr>\n",
       "    <tr>\n",
       "      <th>2</th>\n",
       "      <td>False</td>\n",
       "      <td>['Crime', 'Comedy']</td>\n",
       "      <td>https://www.miramax.com/movie/four-rooms/</td>\n",
       "      <td>tt0113101</td>\n",
       "      <td>en</td>\n",
       "      <td>Four Rooms</td>\n",
       "      <td>It's Ted the Bellhop's first night on the job....</td>\n",
       "      <td>/75aHn1NOYXh4M7L5shoeQ6NGykP.jpg</td>\n",
       "      <td>1995-12-09</td>\n",
       "      <td>4257354</td>\n",
       "      <td>['en']</td>\n",
       "      <td>Twelve outrageous guests. Four scandalous requ...</td>\n",
       "      <td>Four Rooms</td>\n",
       "      <td>movie</td>\n",
       "      <td>Four Rooms</td>\n",
       "      <td>1995.0</td>\n",
       "      <td>Comedy</td>\n",
       "      <td>Sammi Davis</td>\n",
       "      <td>actress,camera_department,producer</td>\n",
       "    </tr>\n",
       "    <tr>\n",
       "      <th>3</th>\n",
       "      <td>False</td>\n",
       "      <td>['Crime', 'Comedy']</td>\n",
       "      <td>https://www.miramax.com/movie/four-rooms/</td>\n",
       "      <td>tt0113101</td>\n",
       "      <td>en</td>\n",
       "      <td>Four Rooms</td>\n",
       "      <td>It's Ted the Bellhop's first night on the job....</td>\n",
       "      <td>/75aHn1NOYXh4M7L5shoeQ6NGykP.jpg</td>\n",
       "      <td>1995-12-09</td>\n",
       "      <td>4257354</td>\n",
       "      <td>['en']</td>\n",
       "      <td>Twelve outrageous guests. Four scandalous requ...</td>\n",
       "      <td>Four Rooms</td>\n",
       "      <td>movie</td>\n",
       "      <td>Four Rooms</td>\n",
       "      <td>1995.0</td>\n",
       "      <td>Comedy</td>\n",
       "      <td>Amanda De Cadenet</td>\n",
       "      <td>actress,producer,director</td>\n",
       "    </tr>\n",
       "    <tr>\n",
       "      <th>4</th>\n",
       "      <td>False</td>\n",
       "      <td>['Crime', 'Comedy']</td>\n",
       "      <td>https://www.miramax.com/movie/four-rooms/</td>\n",
       "      <td>tt0113101</td>\n",
       "      <td>en</td>\n",
       "      <td>Four Rooms</td>\n",
       "      <td>It's Ted the Bellhop's first night on the job....</td>\n",
       "      <td>/75aHn1NOYXh4M7L5shoeQ6NGykP.jpg</td>\n",
       "      <td>1995-12-09</td>\n",
       "      <td>4257354</td>\n",
       "      <td>['en']</td>\n",
       "      <td>Twelve outrageous guests. Four scandalous requ...</td>\n",
       "      <td>Four Rooms</td>\n",
       "      <td>movie</td>\n",
       "      <td>Four Rooms</td>\n",
       "      <td>1995.0</td>\n",
       "      <td>Comedy</td>\n",
       "      <td>Valeria Golino</td>\n",
       "      <td>actress,producer,director</td>\n",
       "    </tr>\n",
       "    <tr>\n",
       "      <th>...</th>\n",
       "      <td>...</td>\n",
       "      <td>...</td>\n",
       "      <td>...</td>\n",
       "      <td>...</td>\n",
       "      <td>...</td>\n",
       "      <td>...</td>\n",
       "      <td>...</td>\n",
       "      <td>...</td>\n",
       "      <td>...</td>\n",
       "      <td>...</td>\n",
       "      <td>...</td>\n",
       "      <td>...</td>\n",
       "      <td>...</td>\n",
       "      <td>...</td>\n",
       "      <td>...</td>\n",
       "      <td>...</td>\n",
       "      <td>...</td>\n",
       "      <td>...</td>\n",
       "      <td>...</td>\n",
       "    </tr>\n",
       "    <tr>\n",
       "      <th>1312790</th>\n",
       "      <td>False</td>\n",
       "      <td>['Science Fiction']</td>\n",
       "      <td>NaN</td>\n",
       "      <td>tt27688034</td>\n",
       "      <td>ko</td>\n",
       "      <td>더 문</td>\n",
       "      <td>A man on Earth discovers a man in outer space....</td>\n",
       "      <td>/1tw43TQ3fgKP6QW9uyOvclWInkd.jpg</td>\n",
       "      <td>2023-08-02</td>\n",
       "      <td>0</td>\n",
       "      <td>['ko']</td>\n",
       "      <td>NaN</td>\n",
       "      <td>The Moon</td>\n",
       "      <td>movie</td>\n",
       "      <td>Deo mun</td>\n",
       "      <td>2023.0</td>\n",
       "      <td>Action,Adventure,Drama</td>\n",
       "      <td>Park Byeong-eun</td>\n",
       "      <td>actor</td>\n",
       "    </tr>\n",
       "    <tr>\n",
       "      <th>1312791</th>\n",
       "      <td>False</td>\n",
       "      <td>['Science Fiction']</td>\n",
       "      <td>NaN</td>\n",
       "      <td>tt27688034</td>\n",
       "      <td>ko</td>\n",
       "      <td>더 문</td>\n",
       "      <td>A man on Earth discovers a man in outer space....</td>\n",
       "      <td>/1tw43TQ3fgKP6QW9uyOvclWInkd.jpg</td>\n",
       "      <td>2023-08-02</td>\n",
       "      <td>0</td>\n",
       "      <td>['ko']</td>\n",
       "      <td>NaN</td>\n",
       "      <td>The Moon</td>\n",
       "      <td>movie</td>\n",
       "      <td>Deo mun</td>\n",
       "      <td>2023.0</td>\n",
       "      <td>Action,Adventure,Drama</td>\n",
       "      <td>Choi Byung-mo</td>\n",
       "      <td>actor</td>\n",
       "    </tr>\n",
       "    <tr>\n",
       "      <th>1312792</th>\n",
       "      <td>False</td>\n",
       "      <td>['Science Fiction']</td>\n",
       "      <td>NaN</td>\n",
       "      <td>tt27688034</td>\n",
       "      <td>ko</td>\n",
       "      <td>더 문</td>\n",
       "      <td>A man on Earth discovers a man in outer space....</td>\n",
       "      <td>/1tw43TQ3fgKP6QW9uyOvclWInkd.jpg</td>\n",
       "      <td>2023-08-02</td>\n",
       "      <td>0</td>\n",
       "      <td>['ko']</td>\n",
       "      <td>NaN</td>\n",
       "      <td>The Moon</td>\n",
       "      <td>movie</td>\n",
       "      <td>Deo mun</td>\n",
       "      <td>2023.0</td>\n",
       "      <td>Action,Adventure,Drama</td>\n",
       "      <td>Jonathan Ehren Groff</td>\n",
       "      <td>actor</td>\n",
       "    </tr>\n",
       "    <tr>\n",
       "      <th>1312793</th>\n",
       "      <td>False</td>\n",
       "      <td>['Science Fiction']</td>\n",
       "      <td>NaN</td>\n",
       "      <td>tt27688034</td>\n",
       "      <td>ko</td>\n",
       "      <td>더 문</td>\n",
       "      <td>A man on Earth discovers a man in outer space....</td>\n",
       "      <td>/1tw43TQ3fgKP6QW9uyOvclWInkd.jpg</td>\n",
       "      <td>2023-08-02</td>\n",
       "      <td>0</td>\n",
       "      <td>['ko']</td>\n",
       "      <td>NaN</td>\n",
       "      <td>The Moon</td>\n",
       "      <td>movie</td>\n",
       "      <td>Deo mun</td>\n",
       "      <td>2023.0</td>\n",
       "      <td>Action,Adventure,Drama</td>\n",
       "      <td>Paul de Havilland</td>\n",
       "      <td>actor,producer</td>\n",
       "    </tr>\n",
       "    <tr>\n",
       "      <th>1312794</th>\n",
       "      <td>False</td>\n",
       "      <td>['Science Fiction']</td>\n",
       "      <td>NaN</td>\n",
       "      <td>tt27688034</td>\n",
       "      <td>ko</td>\n",
       "      <td>더 문</td>\n",
       "      <td>A man on Earth discovers a man in outer space....</td>\n",
       "      <td>/1tw43TQ3fgKP6QW9uyOvclWInkd.jpg</td>\n",
       "      <td>2023-08-02</td>\n",
       "      <td>0</td>\n",
       "      <td>['ko']</td>\n",
       "      <td>NaN</td>\n",
       "      <td>The Moon</td>\n",
       "      <td>movie</td>\n",
       "      <td>Deo mun</td>\n",
       "      <td>2023.0</td>\n",
       "      <td>Action,Adventure,Drama</td>\n",
       "      <td>Daniel C Kennedy</td>\n",
       "      <td>actor,writer,producer</td>\n",
       "    </tr>\n",
       "  </tbody>\n",
       "</table>\n",
       "<p>1312795 rows × 19 columns</p>\n",
       "</div>"
      ],
      "text/plain": [
       "         adult             genres_x  \\\n",
       "0        False  ['Crime', 'Comedy']   \n",
       "1        False  ['Crime', 'Comedy']   \n",
       "2        False  ['Crime', 'Comedy']   \n",
       "3        False  ['Crime', 'Comedy']   \n",
       "4        False  ['Crime', 'Comedy']   \n",
       "...        ...                  ...   \n",
       "1312790  False  ['Science Fiction']   \n",
       "1312791  False  ['Science Fiction']   \n",
       "1312792  False  ['Science Fiction']   \n",
       "1312793  False  ['Science Fiction']   \n",
       "1312794  False  ['Science Fiction']   \n",
       "\n",
       "                                          homepage     imdb_id  \\\n",
       "0        https://www.miramax.com/movie/four-rooms/   tt0113101   \n",
       "1        https://www.miramax.com/movie/four-rooms/   tt0113101   \n",
       "2        https://www.miramax.com/movie/four-rooms/   tt0113101   \n",
       "3        https://www.miramax.com/movie/four-rooms/   tt0113101   \n",
       "4        https://www.miramax.com/movie/four-rooms/   tt0113101   \n",
       "...                                            ...         ...   \n",
       "1312790                                        NaN  tt27688034   \n",
       "1312791                                        NaN  tt27688034   \n",
       "1312792                                        NaN  tt27688034   \n",
       "1312793                                        NaN  tt27688034   \n",
       "1312794                                        NaN  tt27688034   \n",
       "\n",
       "        original_language original_title  \\\n",
       "0                      en     Four Rooms   \n",
       "1                      en     Four Rooms   \n",
       "2                      en     Four Rooms   \n",
       "3                      en     Four Rooms   \n",
       "4                      en     Four Rooms   \n",
       "...                   ...            ...   \n",
       "1312790                ko            더 문   \n",
       "1312791                ko            더 문   \n",
       "1312792                ko            더 문   \n",
       "1312793                ko            더 문   \n",
       "1312794                ko            더 문   \n",
       "\n",
       "                                                  overview  \\\n",
       "0        It's Ted the Bellhop's first night on the job....   \n",
       "1        It's Ted the Bellhop's first night on the job....   \n",
       "2        It's Ted the Bellhop's first night on the job....   \n",
       "3        It's Ted the Bellhop's first night on the job....   \n",
       "4        It's Ted the Bellhop's first night on the job....   \n",
       "...                                                    ...   \n",
       "1312790  A man on Earth discovers a man in outer space....   \n",
       "1312791  A man on Earth discovers a man in outer space....   \n",
       "1312792  A man on Earth discovers a man in outer space....   \n",
       "1312793  A man on Earth discovers a man in outer space....   \n",
       "1312794  A man on Earth discovers a man in outer space....   \n",
       "\n",
       "                              poster_path release_date  revenue  \\\n",
       "0        /75aHn1NOYXh4M7L5shoeQ6NGykP.jpg   1995-12-09  4257354   \n",
       "1        /75aHn1NOYXh4M7L5shoeQ6NGykP.jpg   1995-12-09  4257354   \n",
       "2        /75aHn1NOYXh4M7L5shoeQ6NGykP.jpg   1995-12-09  4257354   \n",
       "3        /75aHn1NOYXh4M7L5shoeQ6NGykP.jpg   1995-12-09  4257354   \n",
       "4        /75aHn1NOYXh4M7L5shoeQ6NGykP.jpg   1995-12-09  4257354   \n",
       "...                                   ...          ...      ...   \n",
       "1312790  /1tw43TQ3fgKP6QW9uyOvclWInkd.jpg   2023-08-02        0   \n",
       "1312791  /1tw43TQ3fgKP6QW9uyOvclWInkd.jpg   2023-08-02        0   \n",
       "1312792  /1tw43TQ3fgKP6QW9uyOvclWInkd.jpg   2023-08-02        0   \n",
       "1312793  /1tw43TQ3fgKP6QW9uyOvclWInkd.jpg   2023-08-02        0   \n",
       "1312794  /1tw43TQ3fgKP6QW9uyOvclWInkd.jpg   2023-08-02        0   \n",
       "\n",
       "        spoken_languages                                            tagline  \\\n",
       "0                 ['en']  Twelve outrageous guests. Four scandalous requ...   \n",
       "1                 ['en']  Twelve outrageous guests. Four scandalous requ...   \n",
       "2                 ['en']  Twelve outrageous guests. Four scandalous requ...   \n",
       "3                 ['en']  Twelve outrageous guests. Four scandalous requ...   \n",
       "4                 ['en']  Twelve outrageous guests. Four scandalous requ...   \n",
       "...                  ...                                                ...   \n",
       "1312790           ['ko']                                                NaN   \n",
       "1312791           ['ko']                                                NaN   \n",
       "1312792           ['ko']                                                NaN   \n",
       "1312793           ['ko']                                                NaN   \n",
       "1312794           ['ko']                                                NaN   \n",
       "\n",
       "              title titleType originalTitle  startYear  \\\n",
       "0        Four Rooms     movie    Four Rooms     1995.0   \n",
       "1        Four Rooms     movie    Four Rooms     1995.0   \n",
       "2        Four Rooms     movie    Four Rooms     1995.0   \n",
       "3        Four Rooms     movie    Four Rooms     1995.0   \n",
       "4        Four Rooms     movie    Four Rooms     1995.0   \n",
       "...             ...       ...           ...        ...   \n",
       "1312790    The Moon     movie       Deo mun     2023.0   \n",
       "1312791    The Moon     movie       Deo mun     2023.0   \n",
       "1312792    The Moon     movie       Deo mun     2023.0   \n",
       "1312793    The Moon     movie       Deo mun     2023.0   \n",
       "1312794    The Moon     movie       Deo mun     2023.0   \n",
       "\n",
       "                       genres_y           primaryName  \\\n",
       "0                        Comedy              Tim Roth   \n",
       "1                        Comedy      Antonio Banderas   \n",
       "2                        Comedy           Sammi Davis   \n",
       "3                        Comedy     Amanda De Cadenet   \n",
       "4                        Comedy        Valeria Golino   \n",
       "...                         ...                   ...   \n",
       "1312790  Action,Adventure,Drama       Park Byeong-eun   \n",
       "1312791  Action,Adventure,Drama         Choi Byung-mo   \n",
       "1312792  Action,Adventure,Drama  Jonathan Ehren Groff   \n",
       "1312793  Action,Adventure,Drama     Paul de Havilland   \n",
       "1312794  Action,Adventure,Drama      Daniel C Kennedy   \n",
       "\n",
       "                          primaryProfession  \n",
       "0                   actor,producer,director  \n",
       "1                     actor,producer,writer  \n",
       "2        actress,camera_department,producer  \n",
       "3                 actress,producer,director  \n",
       "4                 actress,producer,director  \n",
       "...                                     ...  \n",
       "1312790                               actor  \n",
       "1312791                               actor  \n",
       "1312792                               actor  \n",
       "1312793                      actor,producer  \n",
       "1312794               actor,writer,producer  \n",
       "\n",
       "[1312795 rows x 19 columns]"
      ]
     },
     "execution_count": 8,
     "metadata": {},
     "output_type": "execute_result"
    }
   ],
   "source": [
    "df_merge_recom"
   ]
  },
  {
   "cell_type": "code",
   "execution_count": 9,
   "metadata": {},
   "outputs": [],
   "source": [
    "df_merge_recom21 = df_merge_recom.drop(columns=['adult', 'original_language', 'spoken_languages', \n",
    "                                                'tagline', 'title', 'originalTitle', 'genres_x', 'revenue', \n",
    "                                                'release_date', 'primaryProfession'])"
   ]
  },
  {
   "cell_type": "code",
   "execution_count": 10,
   "metadata": {},
   "outputs": [],
   "source": [
    "df_merge_recom21.to_csv(chemin_bd+\"resultat2/df_merge_recom21.csv\", index=False)"
   ]
  },
  {
   "cell_type": "code",
   "execution_count": 10,
   "metadata": {},
   "outputs": [],
   "source": [
    "df_merge_recom22 = pd.read_csv(chemin_bd+\"resultat2/df_merge_recom21.csv\")"
   ]
  },
  {
   "cell_type": "code",
   "execution_count": 13,
   "metadata": {},
   "outputs": [
    {
     "data": {
      "text/plain": [
       "homepage          1063073\n",
       "imdb_id                 0\n",
       "original_title          0\n",
       "overview            89455\n",
       "poster_path        118943\n",
       "titleType               0\n",
       "startYear               0\n",
       "genres_y                0\n",
       "primaryName             0\n",
       "dtype: int64"
      ]
     },
     "execution_count": 13,
     "metadata": {},
     "output_type": "execute_result"
    }
   ],
   "source": [
    "df_merge_recom22.isna().sum()"
   ]
  },
  {
   "cell_type": "code",
   "execution_count": 11,
   "metadata": {},
   "outputs": [],
   "source": [
    "df_merge_recom22['homepage'] = df_merge_recom22['homepage'].fillna('None')\n",
    "df_merge_recom22['poster_path'] = df_merge_recom22['poster_path'].fillna('None')\n",
    "df_merge_recom22['overview'] = df_merge_recom22['overview'].fillna('None')"
   ]
  },
  {
   "cell_type": "code",
   "execution_count": 15,
   "metadata": {},
   "outputs": [
    {
     "name": "stdout",
     "output_type": "stream",
     "text": [
      "<class 'pandas.core.frame.DataFrame'>\n",
      "RangeIndex: 1312795 entries, 0 to 1312794\n",
      "Data columns (total 9 columns):\n",
      " #   Column          Non-Null Count    Dtype  \n",
      "---  ------          --------------    -----  \n",
      " 0   homepage        1312795 non-null  object \n",
      " 1   imdb_id         1312795 non-null  object \n",
      " 2   original_title  1312795 non-null  object \n",
      " 3   overview        1312795 non-null  object \n",
      " 4   poster_path     1312795 non-null  object \n",
      " 5   titleType       1312795 non-null  object \n",
      " 6   startYear       1312795 non-null  float64\n",
      " 7   genres_y        1312795 non-null  object \n",
      " 8   primaryName     1312795 non-null  object \n",
      "dtypes: float64(1), object(8)\n",
      "memory usage: 90.1+ MB\n"
     ]
    }
   ],
   "source": [
    "df_merge_recom22.info()"
   ]
  },
  {
   "cell_type": "code",
   "execution_count": 12,
   "metadata": {},
   "outputs": [],
   "source": [
    "caracteristiques = ['titleType', 'startYear', 'genres_y', 'primaryName']"
   ]
  },
  {
   "cell_type": "code",
   "execution_count": 13,
   "metadata": {},
   "outputs": [],
   "source": [
    "merge_filmR = df_merge_recom22[df_merge_recom22['titleType'] == 'movie']\n",
    "merge_serieR = df_merge_recom22[df_merge_recom22['titleType'] == 'tvSeries']"
   ]
  },
  {
   "cell_type": "code",
   "execution_count": null,
   "metadata": {},
   "outputs": [],
   "source": [
    "def encodage_X(X, type='standard'):\n",
    "  index = X.index\n",
    "  X_num = X.select_dtypes('number')\n",
    "  X_cat = X.select_dtypes(['object', 'category', 'string'])\n",
    "  # Comme ça les dates, on n'y touche pas\n",
    "\n",
    "  if type == 'standard':\n",
    "    from sklearn.preprocessing import StandardScaler\n",
    "    SN = StandardScaler()\n",
    "    X_num_SN = pd.DataFrame(SN.fit_transform(X_num), columns=X_num.columns, index=index)\n",
    "\n",
    "  else:\n",
    "    from sklearn.preprocessing import MinMaxScaler\n",
    "    SN = MinMaxScaler()\n",
    "    X_num_SN = pd.DataFrame(SN.fit_transform(X_num), columns=X_num.columns, index=index)\n",
    "\n",
    "  X_cat_dummies = pd.get_dummies(X_cat)\n",
    "  X_encoded = pd.concat([X_num_SN, X_cat_dummies], axis=1)\n",
    "\n",
    "  return X_encoded, SN"
   ]
  },
  {
   "cell_type": "code",
   "execution_count": 14,
   "metadata": {},
   "outputs": [],
   "source": [
    "X = merge_filmR[caracteristiques]\n",
    "# ne prend que les colonnes qui sont dans caracteristiques"
   ]
  },
  {
   "cell_type": "code",
   "execution_count": 22,
   "metadata": {},
   "outputs": [
    {
     "ename": "",
     "evalue": "",
     "output_type": "error",
     "traceback": [
      "\u001b[1;31mLe noyau s’est bloqué lors de l’exécution du code dans une cellule active ou une cellule précédente. \n",
      "\u001b[1;31mVeuillez vérifier le code dans la ou les cellules pour identifier une cause possible de l’échec. \n",
      "\u001b[1;31mCliquez <a href='https://aka.ms/vscodeJupyterKernelCrash'>ici</a> pour plus d’informations. \n",
      "\u001b[1;31mPour plus d’informations, consultez Jupyter <a href='command:jupyter.viewOutput'>log</a>."
     ]
    }
   ],
   "source": [
    "\n",
    "\n",
    "X_encoded, SN = encodage_X(X, type='normalisation')"
   ]
  },
  {
   "cell_type": "code",
   "execution_count": null,
   "metadata": {},
   "outputs": [],
   "source": []
  },
  {
   "cell_type": "code",
   "execution_count": null,
   "metadata": {},
   "outputs": [],
   "source": []
  },
  {
   "cell_type": "code",
   "execution_count": null,
   "metadata": {},
   "outputs": [],
   "source": [
    "# on met toutes les données dans une colonne et de maniere unique avec .set"
   ]
  },
  {
   "cell_type": "code",
   "execution_count": null,
   "metadata": {},
   "outputs": [],
   "source": [
    "df_merge_recom22 = df_merge_recom22.groupby(\n",
    "    'imdb_id', sort=False, as_index=False\n",
    ").agg({\n",
    "    'primaryName': set,  # Affiche uniquement des valeurs uniques\n",
    "    'genres_y': set,\n",
    "    'startYear': set,\n",
    "    'titleType': set,\n",
    "    'poster_path': set,\n",
    "    'overview': set,\n",
    "    'original_title': set,  # Applique automatiquement l'unicité\n",
    "    'homepage':set\n",
    "    \n",
    "})\n",
    "\n"
   ]
  },
  {
   "cell_type": "code",
   "execution_count": null,
   "metadata": {},
   "outputs": [],
   "source": [
    "df_merge_recom22.info()"
   ]
  },
  {
   "cell_type": "code",
   "execution_count": null,
   "metadata": {},
   "outputs": [],
   "source": [
    "df_merge_recom22['primaryName']=df_merge_recom22['primaryName'].apply(lambda x : str(x).replace('{','').replace('}',''))\n",
    "df_merge_recom22['genres_y']=df_merge_recom22['genres_y'].apply(lambda x : str(x).replace('{','').replace('}',''))\n",
    "df_merge_recom22['startYear']=df_merge_recom22['startYear'].apply(lambda x : str(x).replace('{','').replace('}',''))\n",
    "df_merge_recom22['titleType']=df_merge_recom22['titleType'].apply(lambda x : str(x).replace('{','').replace('}',''))\n",
    "df_merge_recom22['poster_path']=df_merge_recom22['poster_path'].apply(lambda x : str(x).replace('{','').replace('}',''))\n",
    "df_merge_recom22['overview']=df_merge_recom22['overview'].apply(lambda x : str(x).replace('{', '').replace('}',''))\n",
    "df_merge_recom22['original_title']=df_merge_recom22['original_title'].apply(lambda x : str(x).replace('{','').replace('}',''))\n",
    "df_merge_recom22['homepage']=df_merge_recom22['homepage'].apply(lambda x : str(x).replace('{','').replace('}',''))\n"
   ]
  },
  {
   "cell_type": "code",
   "execution_count": null,
   "metadata": {},
   "outputs": [],
   "source": [
    "df_merge_recom22['primaryName']=df_merge_recom22['primaryName'].apply(lambda x : str(x).replace(\"'\",'').replace(\"'\",''))\n",
    "df_merge_recom22['genres_y']=df_merge_recom22['genres_y'].apply(lambda x : str(x).replace(\"'\",'').replace(\"'\",''))\n",
    "df_merge_recom22['startYear']=df_merge_recom22['startYear'].apply(lambda x : str(x).replace(\"'\",'').replace(\"'\",''))\n",
    "df_merge_recom22['titleType']=df_merge_recom22['titleType'].apply(lambda x : str(x).replace(\"'\",'').replace(\"'\",''))\n",
    "df_merge_recom22['poster_path']=df_merge_recom22['poster_path'].apply(lambda x : str(x).replace(\"'\",'').replace(\"'\",''))\n",
    "df_merge_recom22['overview']=df_merge_recom22['overview'].apply(lambda x : str(x).replace(\"'\",'').replace(\"'\",''))\n",
    "df_merge_recom22['original_title']=df_merge_recom22['original_title'].apply(lambda x : str(x).replace(\"'\",'').replace(\"'\",''))\n",
    "df_merge_recom22['homepage']=df_merge_recom22['homepage'].apply(lambda x : str(x).replace(\"'\",'').replace(\"'\",''))"
   ]
  },
  {
   "cell_type": "code",
   "execution_count": null,
   "metadata": {},
   "outputs": [],
   "source": [
    "df_merge_recom22"
   ]
  },
  {
   "cell_type": "code",
   "execution_count": null,
   "metadata": {},
   "outputs": [],
   "source": [
    "# standardidation des données"
   ]
  },
  {
   "cell_type": "code",
   "execution_count": null,
   "metadata": {},
   "outputs": [],
   "source": [
    "df_merge_recom222 = df_merge_recom22.copy()"
   ]
  },
  {
   "cell_type": "code",
   "execution_count": null,
   "metadata": {},
   "outputs": [],
   "source": [
    "df_merge_recom222.replace('nan', np.nan)"
   ]
  },
  {
   "cell_type": "code",
   "execution_count": null,
   "metadata": {},
   "outputs": [],
   "source": [
    "df_merge_recom222.apply(lambda col: col.str.contains('NaN', na=False)).any().any()"
   ]
  },
  {
   "cell_type": "code",
   "execution_count": null,
   "metadata": {},
   "outputs": [],
   "source": [
    "# Trouver les lignes et colonnes contenant 'NaN'\n",
    "nan_positions = df_merge_recom222.apply(lambda col: col.str.contains('NaN', na=False))\n",
    "\n",
    "# Afficher les positions\n",
    "rows_with_nan = nan_positions.any(axis=1)  # Lignes avec 'NaN'\n",
    "cols_with_nan = nan_positions.any(axis=0)  # Colonnes avec 'NaN'\n",
    "\n",
    "print(\"Lignes contenant 'NaN':\", df_merge_recom222[rows_with_nan])\n",
    "print(\"Colonnes contenant 'NaN':\", cols_with_nan[cols_with_nan].index.tolist())"
   ]
  },
  {
   "cell_type": "code",
   "execution_count": null,
   "metadata": {},
   "outputs": [],
   "source": [
    "#df_merge_recom222.drop(row:)"
   ]
  },
  {
   "cell_type": "code",
   "execution_count": null,
   "metadata": {},
   "outputs": [],
   "source": []
  },
  {
   "cell_type": "code",
   "execution_count": null,
   "metadata": {},
   "outputs": [],
   "source": []
  },
  {
   "cell_type": "code",
   "execution_count": null,
   "metadata": {},
   "outputs": [],
   "source": [
    "X= df_merge_recom22.drop(columns=['imdb_id','primaryName'])\n",
    "y=\tdf_merge_recom22['imdb_id']"
   ]
  },
  {
   "cell_type": "code",
   "execution_count": null,
   "metadata": {},
   "outputs": [],
   "source": [
    "from sklearn.model_selection import train_test_split\n",
    "\n",
    "X_train, X_test, y_train, y_test = train_test_split(X, y, test_size=0.25)"
   ]
  },
  {
   "cell_type": "code",
   "execution_count": null,
   "metadata": {},
   "outputs": [],
   "source": [
    "df_merge_recom22.info()"
   ]
  },
  {
   "cell_type": "code",
   "execution_count": null,
   "metadata": {},
   "outputs": [],
   "source": []
  },
  {
   "cell_type": "code",
   "execution_count": null,
   "metadata": {},
   "outputs": [],
   "source": []
  },
  {
   "cell_type": "code",
   "execution_count": null,
   "metadata": {},
   "outputs": [],
   "source": [
    "#essai5"
   ]
  },
  {
   "cell_type": "code",
   "execution_count": null,
   "metadata": {},
   "outputs": [],
   "source": [
    "from sklearn.preprocessing import MinMaxScaler\n",
    "\n",
    "scaler = MinMaxScaler()\n",
    "df_merge_recom22['imdb_normalise'] = scaler.fit_transform(df_merge_recom22[['imdb_id']])"
   ]
  },
  {
   "cell_type": "code",
   "execution_count": null,
   "metadata": {},
   "outputs": [],
   "source": [
    "# similarite"
   ]
  },
  {
   "cell_type": "code",
   "execution_count": null,
   "metadata": {},
   "outputs": [],
   "source": [
    "RecomX= df_merge_recom22.drop(columns=['imdb_id','primaryName'])"
   ]
  },
  {
   "cell_type": "code",
   "execution_count": null,
   "metadata": {},
   "outputs": [],
   "source": [
    "def encodage_X(X, type='standard'):\n",
    "  index = X.index\n",
    "  X_num = X.select_dtypes('number')\n",
    "  X_cat = X.select_dtypes(['object', 'category', 'string'])\n",
    "  # Comme ça les dates, on n'y touche pas\n",
    "\n",
    "  if type == 'standard':\n",
    "    from sklearn.preprocessing import StandardScaler\n",
    "    SN = StandardScaler()\n",
    "    X_num_SN = pd.DataFrame(SN.fit_transform(X_num), columns=X_num.columns, index=index)\n",
    "\n",
    "  else:\n",
    "    from sklearn.preprocessing import MinMaxScaler\n",
    "    SN = MinMaxScaler()\n",
    "    X_num_SN = pd.DataFrame(SN.fit_transform(X_num), columns=X_num.columns, index=index)\n",
    "\n",
    "  X_cat_dummies = pd.get_dummies(X_cat)\n",
    "  X_encoded = pd.concat([X_num_SN, X_cat_dummies], axis=1)\n",
    "\n",
    "  return X_encoded, SN"
   ]
  },
  {
   "cell_type": "code",
   "execution_count": null,
   "metadata": {},
   "outputs": [],
   "source": [
    "X_encoded, SN = encodage_X()"
   ]
  },
  {
   "cell_type": "code",
   "execution_count": null,
   "metadata": {},
   "outputs": [],
   "source": [
    "from sklearn.neighbors import NearestNeighbors\n",
    "\n",
    "# Création et ajustement du modèle NearestNeighbors\n",
    "nn = NearestNeighbors(n_neighbors=3, metric='euclidean')\n",
    "nn.fit(X_encoded)\n",
    "\n",
    "imdb2 = ['6061', '19474']\n",
    "\n",
    "for name in champion_legendary :\n",
    "  # Recherche des films similaires à un imdb2\n",
    "  df_merge_recom22.index =   df_merge_recom22[df_merge_recom22['name'] == name].index[0]\n",
    "[df_merge_recom22['name'] == name].index[0] \n",
    "recom_feature = X_encoded.iloc[df_merge_recom22.index].values.reshape(1, -1)\n",
    "  # Recherche des plus proches voisins\n",
    "distances, indices = nn.kneighbors(recom_feature)\n",
    "print(f\"\\nFilms les plus similaires à un {name}:\")\n",
    "for distance, index in zip(distances[0][1:], indices[0][1:]):\n",
    "    print(f\"{df_merge_recom22['Name'].iloc[index]} (Distance: {distance:.2f})\")\n",
    "    recom_film = df_merge_recom22.iloc[index]\n",
    "    print(recom_film)"
   ]
  },
  {
   "cell_type": "code",
   "execution_count": null,
   "metadata": {},
   "outputs": [],
   "source": []
  },
  {
   "cell_type": "code",
   "execution_count": null,
   "metadata": {},
   "outputs": [],
   "source": []
  },
  {
   "cell_type": "code",
   "execution_count": null,
   "metadata": {},
   "outputs": [],
   "source": []
  },
  {
   "cell_type": "code",
   "execution_count": null,
   "metadata": {},
   "outputs": [],
   "source": []
  },
  {
   "cell_type": "code",
   "execution_count": null,
   "metadata": {},
   "outputs": [],
   "source": [
    "#Version test ana"
   ]
  },
  {
   "cell_type": "code",
   "execution_count": null,
   "metadata": {},
   "outputs": [],
   "source": [
    "pd.DataFrame(merge_filmR['genres_y'].unique())"
   ]
  },
  {
   "cell_type": "code",
   "execution_count": null,
   "metadata": {},
   "outputs": [],
   "source": [
    "df_film_test = merge_filmR.copy()"
   ]
  },
  {
   "cell_type": "code",
   "execution_count": null,
   "metadata": {},
   "outputs": [],
   "source": [
    "# supprime les lignes contenant le genre documentaire\n",
    "\n",
    "df_film_test = df_film_test[~df_film_test.genres_y.str.contains('Documentary').dropna()]"
   ]
  },
  {
   "cell_type": "code",
   "execution_count": null,
   "metadata": {},
   "outputs": [],
   "source": [
    "df_film_test = df_film_test[~df_film_test.genres_y.str.contains('Biography').dropna()]"
   ]
  },
  {
   "cell_type": "code",
   "execution_count": null,
   "metadata": {},
   "outputs": [],
   "source": [
    "df_film_test2[['genre_1', 'genre_2', 'genre_3'] ]= df_film_test[df_film_test.genres_y.split(\",\", expand=True)]"
   ]
  },
  {
   "cell_type": "code",
   "execution_count": 55,
   "metadata": {},
   "outputs": [
    {
     "ename": "",
     "evalue": "",
     "output_type": "error",
     "traceback": [
      "\u001b[1;31mLe noyau s’est bloqué lors de l’exécution du code dans une cellule active ou une cellule précédente. \n",
      "\u001b[1;31mVeuillez vérifier le code dans la ou les cellules pour identifier une cause possible de l’échec. \n",
      "\u001b[1;31mCliquez <a href='https://aka.ms/vscodeJupyterKernelCrash'>ici</a> pour plus d’informations. \n",
      "\u001b[1;31mPour plus d’informations, consultez Jupyter <a href='command:jupyter.viewOutput'>log</a>."
     ]
    }
   ],
   "source": [
    "# et ça échoue toujours\n",
    "\n",
    "X2 = df_film_test[caracteristiques]\n",
    "# ne prend que les colonnes qui sont dans caracteristiques\n",
    "\n",
    "X_encoded, SN = encodage_X(X2, type='normalisation')"
   ]
  },
  {
   "cell_type": "code",
   "execution_count": null,
   "metadata": {},
   "outputs": [],
   "source": []
  },
  {
   "cell_type": "code",
   "execution_count": null,
   "metadata": {},
   "outputs": [],
   "source": []
  },
  {
   "cell_type": "code",
   "execution_count": null,
   "metadata": {},
   "outputs": [],
   "source": []
  },
  {
   "cell_type": "code",
   "execution_count": null,
   "metadata": {},
   "outputs": [],
   "source": []
  },
  {
   "cell_type": "code",
   "execution_count": 17,
   "metadata": {},
   "outputs": [
    {
     "name": "stdout",
     "output_type": "stream",
     "text": [
      "<class 'pandas.core.frame.DataFrame'>\n",
      "Index: 1007762 entries, 0 to 1312794\n",
      "Data columns (total 4 columns):\n",
      " #   Column       Non-Null Count    Dtype  \n",
      "---  ------       --------------    -----  \n",
      " 0   titleType    1007762 non-null  object \n",
      " 1   startYear    1007762 non-null  float64\n",
      " 2   genres_y     1007762 non-null  object \n",
      " 3   primaryName  1007762 non-null  object \n",
      "dtypes: float64(1), object(3)\n",
      "memory usage: 38.4+ MB\n",
      "None\n"
     ]
    },
    {
     "ename": "",
     "evalue": "",
     "output_type": "error",
     "traceback": [
      "\u001b[1;31mLe noyau s’est bloqué lors de l’exécution du code dans une cellule active ou une cellule précédente. \n",
      "\u001b[1;31mVeuillez vérifier le code dans la ou les cellules pour identifier une cause possible de l’échec. \n",
      "\u001b[1;31mCliquez <a href='https://aka.ms/vscodeJupyterKernelCrash'>ici</a> pour plus d’informations. \n",
      "\u001b[1;31mPour plus d’informations, consultez Jupyter <a href='command:jupyter.viewOutput'>log</a>."
     ]
    }
   ],
   "source": [
    "# test anissa\n",
    "\n",
    "def encodage_X2(X, type='standard'):\n",
    "  index = X.index\n",
    "  X_num = X.select_dtypes('number')\n",
    "  X_cat = X.select_dtypes(['object', 'category', 'string'])\n",
    "  # Comme ça les dates, on n'y touche pas\n",
    "\n",
    "\n",
    "  if type == 'standard':\n",
    "    from sklearn.preprocessing import StandardScaler\n",
    "    SN = StandardScaler()\n",
    "    X_num_SN = pd.DataFrame(SN.fit_transform(X_num), columns=X_num.columns, index=index)\n",
    "\n",
    "\n",
    "  else:\n",
    "    from sklearn.preprocessing import MinMaxScaler\n",
    "    SN = MinMaxScaler()\n",
    "    X_num_SN = pd.DataFrame(SN.fit_transform(X_num), columns=X_num.columns, index=index)\n",
    "\n",
    "  X_cat_dummies = pd.get_dummies(X_cat)\n",
    "  #X_encoded = pd.concat([X_num_SN, X_cat_dummies], axis=1)\n",
    "\n",
    "  X_cat_encoded = X_cat.apply(lambda col: pd.factorize(col)[0])\n",
    "  #.apply(lambda x : str(x) ///df[\"A\"] = df[\"A\"].apply(lambda x: x-2)\n",
    "  # Recodage des colonnes en valeurs numériques à l’aide de la méthode factorize titanic['sex']= titanic['sex'].factorize()[0]\n",
    "  X_encoded = pd.concat([X_num_SN, X_cat_encoded], axis=1)\n",
    "\n",
    "\n",
    "  return X_encoded, SN\n",
    "print(X.info())  # Affiche les types et mémoire utilisée\n",
    "X_encoded, SN = encodage_X2(X, type='normalisation')\n",
    "print(X_encoded.info())"
   ]
  },
  {
   "cell_type": "code",
   "execution_count": null,
   "metadata": {},
   "outputs": [],
   "source": [
    "X_encoded"
   ]
  }
 ],
 "metadata": {
  "kernelspec": {
   "display_name": "base",
   "language": "python",
   "name": "python3"
  },
  "language_info": {
   "codemirror_mode": {
    "name": "ipython",
    "version": 3
   },
   "file_extension": ".py",
   "mimetype": "text/x-python",
   "name": "python",
   "nbconvert_exporter": "python",
   "pygments_lexer": "ipython3",
   "version": "3.12.4"
  }
 },
 "nbformat": 4,
 "nbformat_minor": 2
}
