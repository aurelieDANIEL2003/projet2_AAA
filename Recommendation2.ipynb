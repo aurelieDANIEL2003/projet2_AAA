{
 "cells": [
  {
   "cell_type": "code",
   "execution_count": null,
   "metadata": {},
   "outputs": [],
   "source": [
    "import pandas as pd\n",
    "import numpy as np\n",
    "import warnings"
   ]
  },
  {
   "cell_type": "code",
   "execution_count": null,
   "metadata": {},
   "outputs": [],
   "source": [
    "warnings.filterwarnings(\"ignore\")\n",
    "from sklearn.preprocessing import StandardScaler\n",
    "from sklearn.model_selection import train_test_split"
   ]
  },
  {
   "cell_type": "code",
   "execution_count": null,
   "metadata": {},
   "outputs": [],
   "source": [
    "# Modèles\n",
    "from sklearn.linear_model import LogisticRegression\n",
    "from sklearn.tree import DecisionTreeClassifier\n",
    "from sklearn.ensemble import RandomForestClassifier\n",
    "from sklearn.neighbors import KNeighborsClassifier\n",
    "\n",
    "# Ce dont on a besoin\n",
    "from sklearn.metrics import accuracy_score, precision_score, recall_score, f1_score\n",
    "from sklearn.model_selection import cross_val_score, GridSearchCV"
   ]
  },
  {
   "cell_type": "code",
   "execution_count": null,
   "metadata": {},
   "outputs": [],
   "source": [
    "from sklearn.model_selection import train_test_split, StratifiedKFold\n",
    "from sklearn.linear_model import LogisticRegression"
   ]
  },
  {
   "cell_type": "code",
   "execution_count": null,
   "metadata": {},
   "outputs": [],
   "source": [
    "chemin_bd = r\"./bd_ignore/\""
   ]
  },
  {
   "cell_type": "code",
   "execution_count": null,
   "metadata": {},
   "outputs": [],
   "source": []
  },
  {
   "cell_type": "code",
   "execution_count": null,
   "metadata": {},
   "outputs": [],
   "source": [
    "df_merge_recom = pd.read_csv(chemin_bd+\"resultat2/merge_recom.csv\")"
   ]
  },
  {
   "cell_type": "code",
   "execution_count": null,
   "metadata": {},
   "outputs": [],
   "source": [
    "df_merge_recom.info()"
   ]
  },
  {
   "cell_type": "code",
   "execution_count": null,
   "metadata": {},
   "outputs": [],
   "source": [
    "df_merge_recom"
   ]
  },
  {
   "cell_type": "code",
   "execution_count": null,
   "metadata": {},
   "outputs": [],
   "source": [
    "df_merge_recom21 = df_merge_recom.drop(columns=['adult', 'original_language', 'spoken_languages', \n",
    "                                                'tagline', 'title', 'originalTitle', 'genres_x', 'revenue', \n",
    "                                                'release_date', 'primaryProfession'])"
   ]
  },
  {
   "cell_type": "code",
   "execution_count": null,
   "metadata": {},
   "outputs": [],
   "source": [
    "df_merge_recom21.to_csv(chemin_bd+\"resultat2/df_merge_recom21.csv\", index=False)"
   ]
  },
  {
   "cell_type": "code",
   "execution_count": null,
   "metadata": {},
   "outputs": [],
   "source": [
    "df_merge_recom22 = pd.read_csv(chemin_bd+\"resultat2/df_merge_recom21.csv\")"
   ]
  },
  {
   "cell_type": "code",
   "execution_count": null,
   "metadata": {},
   "outputs": [],
   "source": [
    "df_merge_recom22.isna().sum()"
   ]
  },
  {
   "cell_type": "code",
   "execution_count": null,
   "metadata": {},
   "outputs": [],
   "source": [
    "df_merge_recom22['homepage'] = df_merge_recom22['homepage'].fillna('None')\n",
    "df_merge_recom22['poster_path'] = df_merge_recom22['poster_path'].fillna('None')\n",
    "df_merge_recom22['overview'] = df_merge_recom22['overview'].fillna('None')"
   ]
  },
  {
   "cell_type": "code",
   "execution_count": null,
   "metadata": {},
   "outputs": [],
   "source": [
    "df_merge_recom22.info()"
   ]
  },
  {
   "cell_type": "code",
   "execution_count": null,
   "metadata": {},
   "outputs": [],
   "source": [
    "caracteristiques = ['titleType', 'startYear', 'genres_y', 'primaryName']"
   ]
  },
  {
   "cell_type": "code",
   "execution_count": null,
   "metadata": {},
   "outputs": [],
   "source": [
    "merge_filmR = df_merge_recom22[df_merge_recom22['titleType'] == 'movie']\n",
    "merge_serieR = df_merge_recom22[df_merge_recom22['titleType'] == 'tvSeries']"
   ]
  },
  {
   "cell_type": "code",
   "execution_count": null,
   "metadata": {},
   "outputs": [],
   "source": [
    "def encodage_X(X, type='standard'):\n",
    "  index = X.index\n",
    "  X_num = X.select_dtypes('number')\n",
    "  X_cat = X.select_dtypes(['object', 'category', 'string'])\n",
    "  # Comme ça les dates, on n'y touche pas\n",
    "\n",
    "  if type == 'standard':\n",
    "    from sklearn.preprocessing import StandardScaler\n",
    "    SN = StandardScaler()\n",
    "    X_num_SN = pd.DataFrame(SN.fit_transform(X_num), columns=X_num.columns, index=index)\n",
    "\n",
    "  else:\n",
    "    from sklearn.preprocessing import MinMaxScaler\n",
    "    SN = MinMaxScaler()\n",
    "    X_num_SN = pd.DataFrame(SN.fit_transform(X_num), columns=X_num.columns, index=index)\n",
    "\n",
    "  X_cat_dummies = pd.get_dummies(X_cat)\n",
    "  X_encoded = pd.concat([X_num_SN, X_cat_dummies], axis=1)\n",
    "\n",
    "  return X_encoded, SN"
   ]
  },
  {
   "cell_type": "code",
   "execution_count": null,
   "metadata": {},
   "outputs": [],
   "source": [
    "X = merge_filmR[caracteristiques]\n",
    "# ne prend que les colonnes qui sont dans caracteristiques\n",
    "\n",
    "X_encoded, SN = encodage_X(X, type='normalisation')"
   ]
  },
  {
   "cell_type": "code",
   "execution_count": null,
   "metadata": {},
   "outputs": [],
   "source": []
  },
  {
   "cell_type": "code",
   "execution_count": null,
   "metadata": {},
   "outputs": [],
   "source": []
  },
  {
   "cell_type": "code",
   "execution_count": null,
   "metadata": {},
   "outputs": [],
   "source": []
  },
  {
   "cell_type": "code",
   "execution_count": null,
   "metadata": {},
   "outputs": [],
   "source": [
    "# on met toutes les données dans une colonne et de maniere unique avec .set"
   ]
  },
  {
   "cell_type": "code",
   "execution_count": null,
   "metadata": {},
   "outputs": [],
   "source": [
    "df_merge_recom22 = df_merge_recom22.groupby(\n",
    "    'imdb_id', sort=False, as_index=False\n",
    ").agg({\n",
    "    'primaryName': set,  # Affiche uniquement des valeurs uniques\n",
    "    'genres_y': set,\n",
    "    'startYear': set,\n",
    "    'titleType': set,\n",
    "    'poster_path': set,\n",
    "    'overview': set,\n",
    "    'original_title': set,  # Applique automatiquement l'unicité\n",
    "    'homepage':set\n",
    "    \n",
    "})\n",
    "\n"
   ]
  },
  {
   "cell_type": "code",
   "execution_count": null,
   "metadata": {},
   "outputs": [],
   "source": [
    "df_merge_recom22.info()"
   ]
  },
  {
   "cell_type": "code",
   "execution_count": null,
   "metadata": {},
   "outputs": [],
   "source": [
    "df_merge_recom22['primaryName']=df_merge_recom22['primaryName'].apply(lambda x : str(x).replace('{','').replace('}',''))\n",
    "df_merge_recom22['genres_y']=df_merge_recom22['genres_y'].apply(lambda x : str(x).replace('{','').replace('}',''))\n",
    "df_merge_recom22['startYear']=df_merge_recom22['startYear'].apply(lambda x : str(x).replace('{','').replace('}',''))\n",
    "df_merge_recom22['titleType']=df_merge_recom22['titleType'].apply(lambda x : str(x).replace('{','').replace('}',''))\n",
    "df_merge_recom22['poster_path']=df_merge_recom22['poster_path'].apply(lambda x : str(x).replace('{','').replace('}',''))\n",
    "df_merge_recom22['overview']=df_merge_recom22['overview'].apply(lambda x : str(x).replace('{', '').replace('}',''))\n",
    "df_merge_recom22['original_title']=df_merge_recom22['original_title'].apply(lambda x : str(x).replace('{','').replace('}',''))\n",
    "df_merge_recom22['homepage']=df_merge_recom22['homepage'].apply(lambda x : str(x).replace('{','').replace('}',''))\n"
   ]
  },
  {
   "cell_type": "code",
   "execution_count": null,
   "metadata": {},
   "outputs": [],
   "source": [
    "df_merge_recom22['primaryName']=df_merge_recom22['primaryName'].apply(lambda x : str(x).replace(\"'\",'').replace(\"'\",''))\n",
    "df_merge_recom22['genres_y']=df_merge_recom22['genres_y'].apply(lambda x : str(x).replace(\"'\",'').replace(\"'\",''))\n",
    "df_merge_recom22['startYear']=df_merge_recom22['startYear'].apply(lambda x : str(x).replace(\"'\",'').replace(\"'\",''))\n",
    "df_merge_recom22['titleType']=df_merge_recom22['titleType'].apply(lambda x : str(x).replace(\"'\",'').replace(\"'\",''))\n",
    "df_merge_recom22['poster_path']=df_merge_recom22['poster_path'].apply(lambda x : str(x).replace(\"'\",'').replace(\"'\",''))\n",
    "df_merge_recom22['overview']=df_merge_recom22['overview'].apply(lambda x : str(x).replace(\"'\",'').replace(\"'\",''))\n",
    "df_merge_recom22['original_title']=df_merge_recom22['original_title'].apply(lambda x : str(x).replace(\"'\",'').replace(\"'\",''))\n",
    "df_merge_recom22['homepage']=df_merge_recom22['homepage'].apply(lambda x : str(x).replace(\"'\",'').replace(\"'\",''))"
   ]
  },
  {
   "cell_type": "code",
   "execution_count": null,
   "metadata": {},
   "outputs": [],
   "source": [
    "df_merge_recom22"
   ]
  },
  {
   "cell_type": "code",
   "execution_count": null,
   "metadata": {},
   "outputs": [],
   "source": [
    "# standardidation des données"
   ]
  },
  {
   "cell_type": "code",
   "execution_count": null,
   "metadata": {},
   "outputs": [],
   "source": [
    "df_merge_recom222 = df_merge_recom22.copy()"
   ]
  },
  {
   "cell_type": "code",
   "execution_count": null,
   "metadata": {},
   "outputs": [],
   "source": [
    "df_merge_recom222.replace('nan', np.nan)"
   ]
  },
  {
   "cell_type": "code",
   "execution_count": null,
   "metadata": {},
   "outputs": [],
   "source": [
    "df_merge_recom222.apply(lambda col: col.str.contains('NaN', na=False)).any().any()"
   ]
  },
  {
   "cell_type": "code",
   "execution_count": null,
   "metadata": {},
   "outputs": [],
   "source": [
    "# Trouver les lignes et colonnes contenant 'NaN'\n",
    "nan_positions = df_merge_recom222.apply(lambda col: col.str.contains('NaN', na=False))\n",
    "\n",
    "# Afficher les positions\n",
    "rows_with_nan = nan_positions.any(axis=1)  # Lignes avec 'NaN'\n",
    "cols_with_nan = nan_positions.any(axis=0)  # Colonnes avec 'NaN'\n",
    "\n",
    "print(\"Lignes contenant 'NaN':\", df_merge_recom222[rows_with_nan])\n",
    "print(\"Colonnes contenant 'NaN':\", cols_with_nan[cols_with_nan].index.tolist())"
   ]
  },
  {
   "cell_type": "code",
   "execution_count": null,
   "metadata": {},
   "outputs": [],
   "source": [
    "#df_merge_recom222.drop(row:)"
   ]
  },
  {
   "cell_type": "code",
   "execution_count": null,
   "metadata": {},
   "outputs": [],
   "source": []
  },
  {
   "cell_type": "code",
   "execution_count": null,
   "metadata": {},
   "outputs": [],
   "source": []
  },
  {
   "cell_type": "code",
   "execution_count": null,
   "metadata": {},
   "outputs": [],
   "source": [
    "X= df_merge_recom22.drop(columns=['imdb_id','primaryName'])\n",
    "y=\tdf_merge_recom22['imdb_id']"
   ]
  },
  {
   "cell_type": "code",
   "execution_count": null,
   "metadata": {},
   "outputs": [],
   "source": [
    "from sklearn.model_selection import train_test_split\n",
    "\n",
    "X_train, X_test, y_train, y_test = train_test_split(X, y, test_size=0.25)"
   ]
  },
  {
   "cell_type": "code",
   "execution_count": null,
   "metadata": {},
   "outputs": [],
   "source": [
    "df_merge_recom22.info()"
   ]
  },
  {
   "cell_type": "code",
   "execution_count": null,
   "metadata": {},
   "outputs": [],
   "source": []
  },
  {
   "cell_type": "code",
   "execution_count": null,
   "metadata": {},
   "outputs": [],
   "source": []
  },
  {
   "cell_type": "code",
   "execution_count": null,
   "metadata": {},
   "outputs": [],
   "source": [
    "#essai5"
   ]
  },
  {
   "cell_type": "code",
   "execution_count": null,
   "metadata": {},
   "outputs": [],
   "source": [
    "from sklearn.preprocessing import MinMaxScaler\n",
    "\n",
    "scaler = MinMaxScaler()\n",
    "df_merge_recom22['imdb_normalise'] = scaler.fit_transform(df_merge_recom22[['imdb_id']])"
   ]
  },
  {
   "cell_type": "code",
   "execution_count": null,
   "metadata": {},
   "outputs": [],
   "source": [
    "# similarite"
   ]
  },
  {
   "cell_type": "code",
   "execution_count": null,
   "metadata": {},
   "outputs": [],
   "source": [
    "RecomX= df_merge_recom22.drop(columns=['imdb_id','primaryName'])"
   ]
  },
  {
   "cell_type": "code",
   "execution_count": null,
   "metadata": {},
   "outputs": [],
   "source": [
    "def encodage_X(X, type='standard'):\n",
    "  index = X.index\n",
    "  X_num = X.select_dtypes('number')\n",
    "  X_cat = X.select_dtypes(['object', 'category', 'string'])\n",
    "  # Comme ça les dates, on n'y touche pas\n",
    "\n",
    "  if type == 'standard':\n",
    "    from sklearn.preprocessing import StandardScaler\n",
    "    SN = StandardScaler()\n",
    "    X_num_SN = pd.DataFrame(SN.fit_transform(X_num), columns=X_num.columns, index=index)\n",
    "\n",
    "  else:\n",
    "    from sklearn.preprocessing import MinMaxScaler\n",
    "    SN = MinMaxScaler()\n",
    "    X_num_SN = pd.DataFrame(SN.fit_transform(X_num), columns=X_num.columns, index=index)\n",
    "\n",
    "  X_cat_dummies = pd.get_dummies(X_cat)\n",
    "  X_encoded = pd.concat([X_num_SN, X_cat_dummies], axis=1)\n",
    "\n",
    "  return X_encoded, SN"
   ]
  },
  {
   "cell_type": "code",
   "execution_count": null,
   "metadata": {},
   "outputs": [],
   "source": [
    "X_encoded, SN = encodage_X()"
   ]
  },
  {
   "cell_type": "code",
   "execution_count": null,
   "metadata": {},
   "outputs": [],
   "source": [
    "from sklearn.neighbors import NearestNeighbors\n",
    "\n",
    "# Création et ajustement du modèle NearestNeighbors\n",
    "nn = NearestNeighbors(n_neighbors=3, metric='euclidean')\n",
    "nn.fit(X_encoded)\n",
    "\n",
    "imdb2 = ['6061', '19474']\n",
    "\n",
    "for name in champion_legendary :\n",
    "  # Recherche des films similaires à un imdb2\n",
    "  df_merge_recom22.index =   df_merge_recom22[df_merge_recom22['name'] == name].index[0]\n",
    "[df_merge_recom22['name'] == name].index[0] \n",
    "recom_feature = X_encoded.iloc[df_merge_recom22.index].values.reshape(1, -1)\n",
    "  # Recherche des plus proches voisins\n",
    "distances, indices = nn.kneighbors(recom_feature)\n",
    "print(f\"\\nFilms les plus similaires à un {name}:\")\n",
    "for distance, index in zip(distances[0][1:], indices[0][1:]):\n",
    "    print(f\"{df_merge_recom22['Name'].iloc[index]} (Distance: {distance:.2f})\")\n",
    "    recom_film = df_merge_recom22.iloc[index]\n",
    "    print(recom_film)"
   ]
  }
 ],
 "metadata": {
  "language_info": {
   "name": "python"
  }
 },
 "nbformat": 4,
 "nbformat_minor": 2
}
