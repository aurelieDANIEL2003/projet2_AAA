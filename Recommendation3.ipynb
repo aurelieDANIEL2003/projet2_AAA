{
 "cells": [
  {
   "cell_type": "code",
   "execution_count": 15,
   "metadata": {},
   "outputs": [],
   "source": [
    "import pandas as pd\n",
    "import numpy as np\n",
    "import warnings\n",
    "import seaborn as sns\n",
    "import matplotlib.pyplot as plt"
   ]
  },
  {
   "cell_type": "code",
   "execution_count": 16,
   "metadata": {},
   "outputs": [],
   "source": [
    "warnings.filterwarnings(\"ignore\")\n",
    "from sklearn.preprocessing import StandardScaler\n",
    "from sklearn.model_selection import train_test_split"
   ]
  },
  {
   "cell_type": "code",
   "execution_count": 17,
   "metadata": {},
   "outputs": [],
   "source": [
    "# Modèles\n",
    "from sklearn.linear_model import LogisticRegression\n",
    "from sklearn.tree import DecisionTreeClassifier\n",
    "from sklearn.ensemble import RandomForestClassifier\n",
    "from sklearn.neighbors import KNeighborsClassifier\n",
    "from sklearn.neighbors import NearestNeighbors\n",
    "\n",
    "# Ce dont on a besoin\n",
    "from sklearn.metrics import accuracy_score, precision_score, recall_score, f1_score\n",
    "from sklearn.model_selection import cross_val_score, GridSearchCV"
   ]
  },
  {
   "cell_type": "code",
   "execution_count": 18,
   "metadata": {},
   "outputs": [],
   "source": [
    "from sklearn.model_selection import train_test_split, StratifiedKFold\n",
    "from sklearn.linear_model import LogisticRegression"
   ]
  },
  {
   "cell_type": "code",
   "execution_count": 19,
   "metadata": {},
   "outputs": [],
   "source": [
    "chemin_bd = r\"./bd_ignore/\""
   ]
  },
  {
   "cell_type": "code",
   "execution_count": 20,
   "metadata": {},
   "outputs": [],
   "source": [
    "df_merge_recom22 = pd.read_csv(chemin_bd+\"resultat2/df_merge_recom21.csv\")"
   ]
  },
  {
   "cell_type": "code",
   "execution_count": 21,
   "metadata": {},
   "outputs": [],
   "source": [
    "df_merge_recom22 =df_merge_recom22.drop(columns=['startYear','homepage','overview','poster_path'])"
   ]
  },
  {
   "cell_type": "code",
   "execution_count": 22,
   "metadata": {},
   "outputs": [],
   "source": [
    "df_merge_recom22 = df_merge_recom22.fillna('None')"
   ]
  },
  {
   "cell_type": "code",
   "execution_count": null,
   "metadata": {},
   "outputs": [],
   "source": [
    "#df_merge_recom22 = df_merge_recom22[df_merge_recom22['genre'].isin(['Action', 'Comedy', 'Thriller'])]"
   ]
  },
  {
   "cell_type": "code",
   "execution_count": 23,
   "metadata": {},
   "outputs": [],
   "source": [
    "merge_filmR = df_merge_recom22[df_merge_recom22['titleType'] == 'movie']\n",
    "merge_serieR = df_merge_recom22[df_merge_recom22['titleType'] == 'tvSeries']"
   ]
  },
  {
   "cell_type": "code",
   "execution_count": 24,
   "metadata": {},
   "outputs": [
    {
     "data": {
      "text/html": [
       "<div>\n",
       "<style scoped>\n",
       "    .dataframe tbody tr th:only-of-type {\n",
       "        vertical-align: middle;\n",
       "    }\n",
       "\n",
       "    .dataframe tbody tr th {\n",
       "        vertical-align: top;\n",
       "    }\n",
       "\n",
       "    .dataframe thead th {\n",
       "        text-align: right;\n",
       "    }\n",
       "</style>\n",
       "<table border=\"1\" class=\"dataframe\">\n",
       "  <thead>\n",
       "    <tr style=\"text-align: right;\">\n",
       "      <th></th>\n",
       "      <th>original_title</th>\n",
       "      <th>primaryName</th>\n",
       "    </tr>\n",
       "  </thead>\n",
       "  <tbody>\n",
       "    <tr>\n",
       "      <th>0</th>\n",
       "      <td>\"BLESSED\"</td>\n",
       "      <td>[Kevin Bradley, Jason Dill, Sage Elsesser, Mar...</td>\n",
       "    </tr>\n",
       "    <tr>\n",
       "      <th>1</th>\n",
       "      <td>\"Gumdrop\", a short horror</td>\n",
       "      <td>[Tom Remick, Stan Wankowski, Luke Remick, Dani...</td>\n",
       "    </tr>\n",
       "    <tr>\n",
       "      <th>2</th>\n",
       "      <td>\"それ\" がいる森</td>\n",
       "      <td>[Masaki Aiba, Noriko Eguchi, Fumiyo Kohinata, ...</td>\n",
       "    </tr>\n",
       "    <tr>\n",
       "      <th>3</th>\n",
       "      <td>\"隠れビッチ\" やってました。</td>\n",
       "      <td>[Yui Sakuma, Nijirô Murakami, Suzuka Ohgo, Yût...</td>\n",
       "    </tr>\n",
       "    <tr>\n",
       "      <th>4</th>\n",
       "      <td>#1</td>\n",
       "      <td>[Austin Adelman, Alden Moody, Jennifer Lundin,...</td>\n",
       "    </tr>\n",
       "    <tr>\n",
       "      <th>...</th>\n",
       "      <td>...</td>\n",
       "      <td>...</td>\n",
       "    </tr>\n",
       "    <tr>\n",
       "      <th>144204</th>\n",
       "      <td>ＳＭ集団（ロウ）責め</td>\n",
       "      <td>[Rio Serizawa, Yutaka Ikejima, Momori Asano, K...</td>\n",
       "    </tr>\n",
       "    <tr>\n",
       "      <th>144205</th>\n",
       "      <td>Ｗの女 幻妖の甘い罠</td>\n",
       "      <td>[Meguri, Rin Aoki, Shôko Kudô, Takashi Naha, S...</td>\n",
       "    </tr>\n",
       "    <tr>\n",
       "      <th>144206</th>\n",
       "      <td>ＸＸ　美しき獲物</td>\n",
       "      <td>[Kei Marimura, Makiko Watanabe, Ren Ôsugi, Ats...</td>\n",
       "    </tr>\n",
       "    <tr>\n",
       "      <th>144207</th>\n",
       "      <td>ｄビデオスペシャル　仮面ライダー4号</td>\n",
       "      <td>[Ryoma Takeuchi, Ryoma Takeuchi, Rio Uchida, Y...</td>\n",
       "    </tr>\n",
       "    <tr>\n",
       "      <th>144208</th>\n",
       "      <td>ﾀｸｼｰﾄﾞﾗｲﾊﾞｰの推理日誌37 東京~浜松 ﾄﾞﾗｲﾌﾞﾚｺｰﾀﾞｰが録画した二重殺人の謎</td>\n",
       "      <td>[Tsunehiko Watase, Miho Hayashi, Shingo Kazami...</td>\n",
       "    </tr>\n",
       "  </tbody>\n",
       "</table>\n",
       "<p>144209 rows × 2 columns</p>\n",
       "</div>"
      ],
      "text/plain": [
       "                                          original_title  \\\n",
       "0                                              \"BLESSED\"   \n",
       "1                              \"Gumdrop\", a short horror   \n",
       "2                                              \"それ\" がいる森   \n",
       "3                                        \"隠れビッチ\" やってました。   \n",
       "4                                                     #1   \n",
       "...                                                  ...   \n",
       "144204                                        ＳＭ集団（ロウ）責め   \n",
       "144205                                        Ｗの女 幻妖の甘い罠   \n",
       "144206                                          ＸＸ　美しき獲物   \n",
       "144207                                ｄビデオスペシャル　仮面ライダー4号   \n",
       "144208  ﾀｸｼｰﾄﾞﾗｲﾊﾞｰの推理日誌37 東京~浜松 ﾄﾞﾗｲﾌﾞﾚｺｰﾀﾞｰが録画した二重殺人の謎   \n",
       "\n",
       "                                              primaryName  \n",
       "0       [Kevin Bradley, Jason Dill, Sage Elsesser, Mar...  \n",
       "1       [Tom Remick, Stan Wankowski, Luke Remick, Dani...  \n",
       "2       [Masaki Aiba, Noriko Eguchi, Fumiyo Kohinata, ...  \n",
       "3       [Yui Sakuma, Nijirô Murakami, Suzuka Ohgo, Yût...  \n",
       "4       [Austin Adelman, Alden Moody, Jennifer Lundin,...  \n",
       "...                                                   ...  \n",
       "144204  [Rio Serizawa, Yutaka Ikejima, Momori Asano, K...  \n",
       "144205  [Meguri, Rin Aoki, Shôko Kudô, Takashi Naha, S...  \n",
       "144206  [Kei Marimura, Makiko Watanabe, Ren Ôsugi, Ats...  \n",
       "144207  [Ryoma Takeuchi, Ryoma Takeuchi, Rio Uchida, Y...  \n",
       "144208  [Tsunehiko Watase, Miho Hayashi, Shingo Kazami...  \n",
       "\n",
       "[144209 rows x 2 columns]"
      ]
     },
     "execution_count": 24,
     "metadata": {},
     "output_type": "execute_result"
    }
   ],
   "source": [
    "agg_df = df_merge_recom22.groupby(['original_title'])['primaryName'].agg(list).reset_index()\n",
    "agg_df"
   ]
  },
  {
   "cell_type": "code",
   "execution_count": 25,
   "metadata": {},
   "outputs": [],
   "source": [
    "# Agrégation de primaryName par original_title\n",
    "#agg_df = df_merge_recom22.groupby(['original_title'])['primaryName'].agg(list).reset_index()\n",
    "\n",
    "# Merge pour conserver toutes les colonnes originales\n",
    "df_merge_recom22 = df_merge_recom22.drop_duplicates(subset=['original_title']).merge(agg_df, on='original_title', how='left')\n",
    "\n",
    "# Transformation de genres_y en listes\n",
    "df_merge_recom22['genres_liste'] = df_merge_recom22['genres_y'].apply(lambda x: x.split(\",\"))"
   ]
  },
  {
   "cell_type": "code",
   "execution_count": 26,
   "metadata": {},
   "outputs": [],
   "source": [
    "# Initialisation des ensembles pour contenir tous les genres et tous les noms\n",
    "tous_les_genres = set()\n",
    "#tous_les_acteurs = set()\n",
    "\n",
    "# Mise à jour de l'ensemble des genres\n",
    "for genres in df_merge_recom22['genres_liste']:\n",
    "    tous_les_genres.update(genres)\n",
    "\n",
    "# Mise à jour de l'ensemble des acteurs\n",
    "#for acteurs in df_merge_recom22['primaryName_y']:\n",
    "    #tous_les_acteurs.update(acteurs)"
   ]
  },
  {
   "cell_type": "code",
   "execution_count": 27,
   "metadata": {},
   "outputs": [],
   "source": [
    "# Création de colonnes binaires pour chaque genre\n",
    "for genre in tous_les_genres:\n",
    "    df_merge_recom22[f'genre_{genre}'] = df_merge_recom22['genres_liste'].apply(lambda x: genre in x)"
   ]
  },
  {
   "cell_type": "code",
   "execution_count": 28,
   "metadata": {},
   "outputs": [],
   "source": [
    "from sklearn.preprocessing import MultiLabelBinarizer\n",
    "from scipy.sparse import csr_matrix\n",
    "\n",
    "# Initialiser le MultiLabelBinarizer\n",
    "mlb = MultiLabelBinarizer(sparse_output=True)\n",
    "\n",
    "# Appliquer la transformation\n",
    "sparse_binarized_data = mlb.fit_transform(df_merge_recom22['primaryName_y'])\n",
    "\n",
    "# Convertir en DataFrame sparse si nécessaire\n",
    "binarized_df = pd.DataFrame.sparse.from_spmatrix(\n",
    "    sparse_binarized_data, columns=[f'acteur_{actor}' for actor in mlb.classes_]\n",
    ")\n",
    "\n",
    "# Fusionner avec le DataFrame original\n",
    "df_merge_recom22 = pd.concat([df_merge_recom22.reset_index(drop=True), binarized_df.reset_index(drop=True)], axis=1)\n",
    "\n"
   ]
  },
  {
   "cell_type": "code",
   "execution_count": 29,
   "metadata": {},
   "outputs": [
    {
     "data": {
      "text/plain": [
       "Index(['imdb_id', 'original_title', 'titleType', 'genres_y', 'primaryName_x',\n",
       "       'primaryName_y', 'genres_liste', 'genre_Crime', 'genre_\\N', 'genre_War',\n",
       "       ...\n",
       "       'acteur_Þórdís Hulda Árnadóttir', 'acteur_Þórhallur Sigurðsson',\n",
       "       'acteur_Þórhallur Sverrisson', 'acteur_Þórir Freyr Höskuldsson',\n",
       "       'acteur_Þórir Waagfjörð', 'acteur_Þórunn Arna Kristjánsdóttir',\n",
       "       'acteur_Þórunn Lárusdóttir', 'acteur_Þórunn Magnea Magnúsdóttir',\n",
       "       'acteur_Þórður Aðalbjörnsson', 'acteur_þórður Bogason'],\n",
       "      dtype='object', length=496872)"
      ]
     },
     "execution_count": 29,
     "metadata": {},
     "output_type": "execute_result"
    }
   ],
   "source": [
    "#essai avec que qulques genres\n",
    "\n",
    "df_merge_recom22.columns"
   ]
  },
  {
   "cell_type": "code",
   "execution_count": 30,
   "metadata": {},
   "outputs": [
    {
     "name": "stdout",
     "output_type": "stream",
     "text": [
      "<class 'pandas.core.frame.DataFrame'>\n",
      "RangeIndex: 144209 entries, 0 to 144208\n",
      "Columns: 496872 entries, imdb_id to acteur_þórður Bogason\n",
      "dtypes: Sparse[int64, 0](496837), bool(28), object(7)\n",
      "memory usage: 26.2+ MB\n"
     ]
    }
   ],
   "source": [
    "df_merge_recom22.info()"
   ]
  },
  {
   "cell_type": "code",
   "execution_count": 32,
   "metadata": {},
   "outputs": [],
   "source": [
    "df_merge_recom22 = df_merge_recom22[df_merge_recom22['genres_y'].isin(['Action', 'Comedy', 'Thriller'])==True]"
   ]
  },
  {
   "cell_type": "code",
   "execution_count": 63,
   "metadata": {},
   "outputs": [
    {
     "ename": "NameError",
     "evalue": "name 'primaryName' is not defined",
     "output_type": "error",
     "traceback": [
      "\u001b[0;31m---------------------------------------------------------------------------\u001b[0m",
      "\u001b[0;31mNameError\u001b[0m                                 Traceback (most recent call last)",
      "Cell \u001b[0;32mIn[63], line 1\u001b[0m\n\u001b[0;32m----> 1\u001b[0m \u001b[38;5;28mlen\u001b[39m(df_merge_recom22[primaryName])\n",
      "\u001b[0;31mNameError\u001b[0m: name 'primaryName' is not defined"
     ]
    }
   ],
   "source": []
  },
  {
   "cell_type": "code",
   "execution_count": 34,
   "metadata": {},
   "outputs": [
    {
     "name": "stdout",
     "output_type": "stream",
     "text": [
      "<class 'pandas.core.frame.DataFrame'>\n",
      "Index: 14174 entries, 0 to 144206\n",
      "Columns: 496872 entries, imdb_id to acteur_þórður Bogason\n",
      "dtypes: Sparse[int64, 0](496837), bool(28), object(7)\n",
      "memory usage: 2.8+ MB\n"
     ]
    }
   ],
   "source": [
    "df_merge_recom22.info()"
   ]
  },
  {
   "cell_type": "code",
   "execution_count": 35,
   "metadata": {},
   "outputs": [],
   "source": [
    "def encodage_X(X, type='standard'):\n",
    "  index = X.index\n",
    "  X_num = X.select_dtypes('number')\n",
    "  X_cat = X.select_dtypes(['object', 'category', 'string'])\n",
    "  # Comme ça les dates, on n'y touche pas\n",
    "\n",
    "  if type == 'standard':\n",
    "    from sklearn.preprocessing import StandardScaler\n",
    "    SN = StandardScaler()\n",
    "    X_num_SN = pd.DataFrame(SN.fit_transform(X_num), columns=X_num.columns, index=index)\n",
    "\n",
    "  else:\n",
    "    from sklearn.preprocessing import MinMaxScaler\n",
    "    SN = MinMaxScaler()\n",
    "    X_num_SN = pd.DataFrame(SN.fit_transform(X_num), columns=X_num.columns, index=index)\n",
    "\n",
    "  X_cat_dummies = pd.get_dummies(X_cat)\n",
    "  X_encoded = pd.concat([X_num_SN, X_cat_dummies], axis=1)\n"
   ]
  },
  {
   "cell_type": "code",
   "execution_count": 36,
   "metadata": {},
   "outputs": [
    {
     "ename": "NameError",
     "evalue": "name 'X' is not defined",
     "output_type": "error",
     "traceback": [
      "\u001b[0;31m---------------------------------------------------------------------------\u001b[0m",
      "\u001b[0;31mNameError\u001b[0m                                 Traceback (most recent call last)",
      "Cell \u001b[0;32mIn[36], line 1\u001b[0m\n\u001b[0;32m----> 1\u001b[0m X_encoded, SN \u001b[38;5;241m=\u001b[39m encodage_X(X, \u001b[38;5;28mtype\u001b[39m\u001b[38;5;241m=\u001b[39m\u001b[38;5;124m'\u001b[39m\u001b[38;5;124mnormalisation\u001b[39m\u001b[38;5;124m'\u001b[39m)\n\u001b[1;32m      2\u001b[0m X_encoded\n",
      "\u001b[0;31mNameError\u001b[0m: name 'X' is not defined"
     ]
    }
   ],
   "source": [
    "X_encoded, SN = encodage_X(X, type='normalisation')\n",
    "X_encoded"
   ]
  },
  {
   "cell_type": "code",
   "execution_count": null,
   "metadata": {},
   "outputs": [],
   "source": [
    "agg_df"
   ]
  },
  {
   "cell_type": "code",
   "execution_count": null,
   "metadata": {},
   "outputs": [],
   "source": [
    "X_encoded_m = pd.concat([X_encoded,agg_df], axis=1)"
   ]
  },
  {
   "cell_type": "code",
   "execution_count": null,
   "metadata": {},
   "outputs": [],
   "source": [
    "def evaluate_k(X_encoded, k_range):\n",
    "    \"\"\"\n",
    "    Évalue différentes valeurs de k en utilisant la somme des distances aux voisins\n",
    "    et le score de silhouette comme métriques.\n",
    "\n",
    "    Args:\n",
    "        X_encoded (DataFrame): Données normalisées\n",
    "        k_range (range): Plage de valeurs de k à tester\n",
    "\n",
    "    Returns:\n",
    "        tuple: (distances moyennes, scores de silhouette)\n",
    "    \"\"\"\n",
    "    from sklearn.metrics import silhouette_score\n",
    "    from sklearn.cluster import KMeans\n",
    "\n",
    "    avg_distances = []\n",
    "    silhouette_scores = []\n",
    "\n",
    "    for k in k_range:\n",
    "        # Calcul des distances moyennes pour chaque k\n",
    "        model = NearestNeighbors(n_neighbors=k)\n",
    "        model.fit(X_encoded)\n",
    "        distances, _ = model.kneighbors(X_encoded)\n",
    "        avg_distances.append(np.mean(distances))\n",
    "\n",
    "        # Calcul du score de silhouette\n",
    "        # Nous utilisons KMeans pour créer des clusters et évaluer la qualité\n",
    "        kmeans = KMeans(n_clusters=k, random_state=42)\n",
    "        clusters = kmeans.fit_predict(X_encoded)\n",
    "        if k > 1:  # Le score de silhouette nécessite au moins 2 clusters\n",
    "            silhouette_scores.append(silhouette_score(X_encoded, clusters))\n",
    "        else:\n",
    "            silhouette_scores.append(0)\n",
    "\n",
    "    return avg_distances, silhouette_scores"
   ]
  },
  {
   "cell_type": "code",
   "execution_count": null,
   "metadata": {},
   "outputs": [],
   "source": [
    "# Définition de la plage de k à tester\n",
    "k_range = range(1, 21)  # Test des valeurs de k de 1 à 20\n",
    "\n",
    "# Évaluation des différentes valeurs de k\n",
    "avg_distances, silhouette_scores = evaluate_k(X_encoded, k_range)\n",
    "\n",
    "# Création d'une visualisation pour aider à choisir k\n",
    "plt.figure(figsize=(12, 5))\n",
    "\n",
    "# Premier graphique : Distance moyenne aux voisins\n",
    "plt.subplot(1, 2, 1)\n",
    "plt.plot(k_range, avg_distances, 'bo-')\n",
    "plt.xlabel('Nombre de voisins (k)')\n",
    "plt.ylabel('Distance moyenne aux voisins')\n",
    "plt.title('Distance moyenne en fonction de k')\n",
    "plt.grid(True)\n",
    "\n",
    "# Second graphique : Score de silhouette\n",
    "plt.subplot(1, 2, 2)\n",
    "plt.plot(k_range[1:], silhouette_scores[1:], 'ro-')  # On commence à k=2\n",
    "plt.xlabel('Nombre de voisins (k)')\n",
    "plt.ylabel('Score de silhouette')\n",
    "plt.title('Score de silhouette en fonction de k')\n",
    "plt.grid(True)\n",
    "\n",
    "plt.tight_layout()\n",
    "plt.show()"
   ]
  },
  {
   "cell_type": "code",
   "execution_count": null,
   "metadata": {},
   "outputs": [],
   "source": [
    "# On choisit k\n",
    "k=6\n",
    "\n",
    "model = NearestNeighbors(n_neighbors=k, metric='euclidean')\n",
    "model.fit(X_encoded)"
   ]
  },
  {
   "cell_type": "code",
   "execution_count": null,
   "metadata": {},
   "outputs": [],
   "source": []
  },
  {
   "cell_type": "code",
   "execution_count": null,
   "metadata": {},
   "outputs": [],
   "source": [
    "df_merge_recom22.sample(3)"
   ]
  },
  {
   "cell_type": "code",
   "execution_count": null,
   "metadata": {},
   "outputs": [],
   "source": []
  },
  {
   "cell_type": "code",
   "execution_count": null,
   "metadata": {},
   "outputs": [],
   "source": []
  },
  {
   "cell_type": "code",
   "execution_count": null,
   "metadata": {},
   "outputs": [],
   "source": []
  },
  {
   "cell_type": "code",
   "execution_count": null,
   "metadata": {},
   "outputs": [],
   "source": [
    "# Affichage d'un échantillon de 3 lignes\n",
    "df_merge_recom22.sample(3)"
   ]
  },
  {
   "cell_type": "code",
   "execution_count": null,
   "metadata": {},
   "outputs": [],
   "source": []
  },
  {
   "cell_type": "code",
   "execution_count": null,
   "metadata": {},
   "outputs": [],
   "source": [
    "#Encodage\n",
    "def encodage_X(X, type='standard'):\n",
    "  index = X.index\n",
    "  X_num = X.select_dtypes('number')\n",
    "  X_cat = X.select_dtypes(['object', 'category', 'string'])\n",
    "  # Comme ça les dates, on n'y touche pas\n",
    "\n",
    "  if type == 'standard':\n",
    "    from sklearn.preprocessing import StandardScaler\n",
    "    SN = StandardScaler()\n",
    "    X_num_SN = pd.DataFrame(SN.fit_transform(X_num), columns=X_num.columns, index=index)\n",
    "\n",
    "  else:\n",
    "    from sklearn.preprocessing import MinMaxScaler\n",
    "    SN = MinMaxScaler()\n",
    "    X_num_SN = pd.DataFrame(SN.fit_transform(X_num), columns=X_num.columns, index=index)\n",
    "\n",
    "  X_cat_dummies = pd.get_dummies(X_cat)\n",
    "  X_encoded = pd.concat([X_num_SN, X_cat_dummies], axis=1)\n",
    "\n",
    "  return X_encoded, SN"
   ]
  },
  {
   "cell_type": "code",
   "execution_count": null,
   "metadata": {},
   "outputs": [],
   "source": []
  },
  {
   "cell_type": "code",
   "execution_count": null,
   "metadata": {},
   "outputs": [],
   "source": [
    "len(tous_les_genres)\n",
    "len(tous_les_acteurs)\n",
    "df_merge_recom22.info()"
   ]
  },
  {
   "cell_type": "code",
   "execution_count": null,
   "metadata": {},
   "outputs": [],
   "source": []
  },
  {
   "cell_type": "code",
   "execution_count": null,
   "metadata": {},
   "outputs": [],
   "source": []
  },
  {
   "cell_type": "code",
   "execution_count": null,
   "metadata": {},
   "outputs": [],
   "source": []
  },
  {
   "cell_type": "code",
   "execution_count": null,
   "metadata": {},
   "outputs": [],
   "source": []
  },
  {
   "cell_type": "code",
   "execution_count": null,
   "metadata": {},
   "outputs": [],
   "source": []
  },
  {
   "cell_type": "code",
   "execution_count": null,
   "metadata": {},
   "outputs": [],
   "source": []
  },
  {
   "cell_type": "code",
   "execution_count": null,
   "metadata": {},
   "outputs": [],
   "source": []
  },
  {
   "cell_type": "code",
   "execution_count": null,
   "metadata": {},
   "outputs": [],
   "source": [
    "df_merge_recom22.columns"
   ]
  },
  {
   "cell_type": "code",
   "execution_count": null,
   "metadata": {},
   "outputs": [],
   "source": [
    "type(df_merge_recom22['genres_y'].unique())\n",
    "list(df_merge_recom22['genres_y'].unique())\n",
    "df_merge_recom22.info()"
   ]
  },
  {
   "cell_type": "code",
   "execution_count": null,
   "metadata": {},
   "outputs": [],
   "source": [
    "list(df_merge_recom22['genres_y'].unique())\n",
    "len(list(df_merge_recom22['genres_y'].unique()))"
   ]
  },
  {
   "cell_type": "code",
   "execution_count": null,
   "metadata": {},
   "outputs": [],
   "source": [
    "df_merge_recom22.isna().sum()"
   ]
  },
  {
   "cell_type": "code",
   "execution_count": null,
   "metadata": {},
   "outputs": [],
   "source": [
    "df_merge_recom22['genres_y'].unique()"
   ]
  },
  {
   "cell_type": "code",
   "execution_count": null,
   "metadata": {},
   "outputs": [],
   "source": [
    "list(df_merge_recom22['genres_y'].unique())"
   ]
  },
  {
   "cell_type": "code",
   "execution_count": null,
   "metadata": {},
   "outputs": [],
   "source": [
    "df_merge_recom22['startYear'] = df_merge_recom22['startYear'].fillna('None')\n",
    "df_merge_recom22['genres_y'] = df_merge_recom22['genres_y'].fillna('None')\n",
    "df_merge_recom22 = df_merge_recom22.fillna('None')"
   ]
  },
  {
   "cell_type": "code",
   "execution_count": null,
   "metadata": {},
   "outputs": [],
   "source": [
    "#df_merge_recom22[df_merge_recom22['genres_y'] == '\\\\N']"
   ]
  },
  {
   "cell_type": "code",
   "execution_count": null,
   "metadata": {},
   "outputs": [],
   "source": [
    "import ast"
   ]
  },
  {
   "cell_type": "code",
   "execution_count": 38,
   "metadata": {},
   "outputs": [],
   "source": [
    "df_merge_recom22['genres_liste'] = df_merge_recom22['genres_y'].apply(lambda x: x.split(\",\"))"
   ]
  },
  {
   "cell_type": "code",
   "execution_count": 39,
   "metadata": {},
   "outputs": [
    {
     "data": {
      "text/plain": [
       "0           [Comedy]\n",
       "74          [Comedy]\n",
       "224         [Comedy]\n",
       "253       [Thriller]\n",
       "450         [Comedy]\n",
       "             ...    \n",
       "144168      [Comedy]\n",
       "144179      [Comedy]\n",
       "144190      [Comedy]\n",
       "144204      [Comedy]\n",
       "144206      [Action]\n",
       "Name: genres_liste, Length: 14174, dtype: object"
      ]
     },
     "execution_count": 39,
     "metadata": {},
     "output_type": "execute_result"
    }
   ],
   "source": [
    "df_merge_recom22['genres_liste']"
   ]
  },
  {
   "cell_type": "code",
   "execution_count": null,
   "metadata": {},
   "outputs": [],
   "source": [
    "# def transfo_liste(x):\n",
    "#   if isinstance(x, str):\n",
    "#     return ast.literal_eval(x)\n",
    "#   else:\n",
    "#     return x\n",
    "\n",
    "# -> fonction de jo "
   ]
  },
  {
   "cell_type": "code",
   "execution_count": null,
   "metadata": {},
   "outputs": [],
   "source": [
    "# transformer la colonne genre en liste\n",
    "#df_merge_recom22['genres_liste'] = df_merge_recom22['genres_liste'].apply(transfo_liste)\n",
    "#df_merge_recom22.sample(5)\n",
    "# je force la colonne genre_liste à n'être que des listes"
   ]
  },
  {
   "cell_type": "code",
   "execution_count": 64,
   "metadata": {},
   "outputs": [],
   "source": [
    "tous_les_genres = set()"
   ]
  },
  {
   "cell_type": "code",
   "execution_count": 65,
   "metadata": {},
   "outputs": [
    {
     "data": {
      "text/plain": [
       "{'Action', 'Comedy', 'Thriller'}"
      ]
     },
     "execution_count": 65,
     "metadata": {},
     "output_type": "execute_result"
    }
   ],
   "source": [
    "tous_les_genres = set()\n",
    "for genres in df_merge_recom22['genres_liste']:\n",
    "  tous_les_genres.update(genres)\n",
    "\n",
    "tous_les_genres\n",
    "#ensemble qui contient tous mes genres"
   ]
  },
  {
   "cell_type": "code",
   "execution_count": null,
   "metadata": {},
   "outputs": [],
   "source": [
    "len(tous_les_genres)"
   ]
  },
  {
   "cell_type": "code",
   "execution_count": 67,
   "metadata": {},
   "outputs": [
    {
     "data": {
      "text/html": [
       "<div>\n",
       "<style scoped>\n",
       "    .dataframe tbody tr th:only-of-type {\n",
       "        vertical-align: middle;\n",
       "    }\n",
       "\n",
       "    .dataframe tbody tr th {\n",
       "        vertical-align: top;\n",
       "    }\n",
       "\n",
       "    .dataframe thead th {\n",
       "        text-align: right;\n",
       "    }\n",
       "</style>\n",
       "<table border=\"1\" class=\"dataframe\">\n",
       "  <thead>\n",
       "    <tr style=\"text-align: right;\">\n",
       "      <th></th>\n",
       "      <th>imdb_id</th>\n",
       "      <th>original_title</th>\n",
       "      <th>titleType</th>\n",
       "      <th>genres_y</th>\n",
       "      <th>primaryName_x</th>\n",
       "      <th>primaryName_y</th>\n",
       "      <th>genres_liste</th>\n",
       "      <th>genre_Crime</th>\n",
       "      <th>genre_\\N</th>\n",
       "      <th>genre_War</th>\n",
       "      <th>...</th>\n",
       "      <th>acteur_Þórdís Hulda Árnadóttir</th>\n",
       "      <th>acteur_Þórhallur Sigurðsson</th>\n",
       "      <th>acteur_Þórhallur Sverrisson</th>\n",
       "      <th>acteur_Þórir Freyr Höskuldsson</th>\n",
       "      <th>acteur_Þórir Waagfjörð</th>\n",
       "      <th>acteur_Þórunn Arna Kristjánsdóttir</th>\n",
       "      <th>acteur_Þórunn Lárusdóttir</th>\n",
       "      <th>acteur_Þórunn Magnea Magnúsdóttir</th>\n",
       "      <th>acteur_Þórður Aðalbjörnsson</th>\n",
       "      <th>acteur_þórður Bogason</th>\n",
       "    </tr>\n",
       "  </thead>\n",
       "  <tbody>\n",
       "    <tr>\n",
       "      <th>105814</th>\n",
       "      <td>tt0304657</td>\n",
       "      <td>Ein Sack voll Geld</td>\n",
       "      <td>tvMovie</td>\n",
       "      <td>Comedy</td>\n",
       "      <td>Wolfgang Stumph</td>\n",
       "      <td>[Wolfgang Stumph, Christina Plate, Jaecki Schw...</td>\n",
       "      <td>[Comedy]</td>\n",
       "      <td>False</td>\n",
       "      <td>False</td>\n",
       "      <td>False</td>\n",
       "      <td>...</td>\n",
       "      <td>0</td>\n",
       "      <td>0</td>\n",
       "      <td>0</td>\n",
       "      <td>0</td>\n",
       "      <td>0</td>\n",
       "      <td>0</td>\n",
       "      <td>0</td>\n",
       "      <td>0</td>\n",
       "      <td>0</td>\n",
       "      <td>0</td>\n",
       "    </tr>\n",
       "    <tr>\n",
       "      <th>133203</th>\n",
       "      <td>tt3717016</td>\n",
       "      <td>After the Ball</td>\n",
       "      <td>movie</td>\n",
       "      <td>Comedy</td>\n",
       "      <td>Portia Doubleday</td>\n",
       "      <td>[Portia Doubleday, Portia Doubleday, Marc-Andr...</td>\n",
       "      <td>[Comedy]</td>\n",
       "      <td>False</td>\n",
       "      <td>False</td>\n",
       "      <td>False</td>\n",
       "      <td>...</td>\n",
       "      <td>0</td>\n",
       "      <td>0</td>\n",
       "      <td>0</td>\n",
       "      <td>0</td>\n",
       "      <td>0</td>\n",
       "      <td>0</td>\n",
       "      <td>0</td>\n",
       "      <td>0</td>\n",
       "      <td>0</td>\n",
       "      <td>0</td>\n",
       "    </tr>\n",
       "    <tr>\n",
       "      <th>7926</th>\n",
       "      <td>tt9524692</td>\n",
       "      <td>The E-Listers</td>\n",
       "      <td>movie</td>\n",
       "      <td>Comedy</td>\n",
       "      <td>Shekeb Sekander</td>\n",
       "      <td>[Shekeb Sekander, William Tokarsky, Ashley Ame...</td>\n",
       "      <td>[Comedy]</td>\n",
       "      <td>False</td>\n",
       "      <td>False</td>\n",
       "      <td>False</td>\n",
       "      <td>...</td>\n",
       "      <td>0</td>\n",
       "      <td>0</td>\n",
       "      <td>0</td>\n",
       "      <td>0</td>\n",
       "      <td>0</td>\n",
       "      <td>0</td>\n",
       "      <td>0</td>\n",
       "      <td>0</td>\n",
       "      <td>0</td>\n",
       "      <td>0</td>\n",
       "    </tr>\n",
       "  </tbody>\n",
       "</table>\n",
       "<p>3 rows × 496872 columns</p>\n",
       "</div>"
      ],
      "text/plain": [
       "          imdb_id      original_title titleType genres_y     primaryName_x  \\\n",
       "105814  tt0304657  Ein Sack voll Geld   tvMovie   Comedy   Wolfgang Stumph   \n",
       "133203  tt3717016      After the Ball     movie   Comedy  Portia Doubleday   \n",
       "7926    tt9524692       The E-Listers     movie   Comedy   Shekeb Sekander   \n",
       "\n",
       "                                            primaryName_y genres_liste  \\\n",
       "105814  [Wolfgang Stumph, Christina Plate, Jaecki Schw...     [Comedy]   \n",
       "133203  [Portia Doubleday, Portia Doubleday, Marc-Andr...     [Comedy]   \n",
       "7926    [Shekeb Sekander, William Tokarsky, Ashley Ame...     [Comedy]   \n",
       "\n",
       "        genre_Crime  genre_\\N  genre_War  ...  acteur_Þórdís Hulda Árnadóttir  \\\n",
       "105814        False     False      False  ...                               0   \n",
       "133203        False     False      False  ...                               0   \n",
       "7926          False     False      False  ...                               0   \n",
       "\n",
       "        acteur_Þórhallur Sigurðsson  acteur_Þórhallur Sverrisson  \\\n",
       "105814                            0                            0   \n",
       "133203                            0                            0   \n",
       "7926                              0                            0   \n",
       "\n",
       "        acteur_Þórir Freyr Höskuldsson  acteur_Þórir Waagfjörð  \\\n",
       "105814                               0                       0   \n",
       "133203                               0                       0   \n",
       "7926                                 0                       0   \n",
       "\n",
       "        acteur_Þórunn Arna Kristjánsdóttir  acteur_Þórunn Lárusdóttir  \\\n",
       "105814                                   0                          0   \n",
       "133203                                   0                          0   \n",
       "7926                                     0                          0   \n",
       "\n",
       "        acteur_Þórunn Magnea Magnúsdóttir  acteur_Þórður Aðalbjörnsson  \\\n",
       "105814                                  0                            0   \n",
       "133203                                  0                            0   \n",
       "7926                                    0                            0   \n",
       "\n",
       "        acteur_þórður Bogason  \n",
       "105814                      0  \n",
       "133203                      0  \n",
       "7926                        0  \n",
       "\n",
       "[3 rows x 496872 columns]"
      ]
     },
     "execution_count": 67,
     "metadata": {},
     "output_type": "execute_result"
    }
   ],
   "source": [
    "for genre in tous_les_genres:\n",
    "  df_merge_recom22[f'genre_{genre}'] = df_merge_recom22['genres_liste'].apply(lambda x: genre in x)\n",
    "\n",
    "df_merge_recom22.sample(3)"
   ]
  },
  {
   "cell_type": "code",
   "execution_count": null,
   "metadata": {},
   "outputs": [],
   "source": [
    "#df avec tous les genres en booleens\n",
    "\n",
    "df_merge_recom22.head(5)"
   ]
  },
  {
   "cell_type": "code",
   "execution_count": null,
   "metadata": {},
   "outputs": [],
   "source": [
    "df_merge_recom22.info()"
   ]
  },
  {
   "cell_type": "code",
   "execution_count": 40,
   "metadata": {},
   "outputs": [],
   "source": [
    "caracteristiques = ['titleType', 'startYear']"
   ]
  },
  {
   "cell_type": "code",
   "execution_count": 41,
   "metadata": {},
   "outputs": [
    {
     "data": {
      "text/html": [
       "<div>\n",
       "<style scoped>\n",
       "    .dataframe tbody tr th:only-of-type {\n",
       "        vertical-align: middle;\n",
       "    }\n",
       "\n",
       "    .dataframe tbody tr th {\n",
       "        vertical-align: top;\n",
       "    }\n",
       "\n",
       "    .dataframe thead th {\n",
       "        text-align: right;\n",
       "    }\n",
       "</style>\n",
       "<table border=\"1\" class=\"dataframe\">\n",
       "  <thead>\n",
       "    <tr style=\"text-align: right;\">\n",
       "      <th></th>\n",
       "      <th>genre_Crime</th>\n",
       "      <th>genre_\\N</th>\n",
       "      <th>genre_War</th>\n",
       "      <th>genre_Documentary</th>\n",
       "      <th>genre_Sci-Fi</th>\n",
       "      <th>genre_Drama</th>\n",
       "      <th>genre_Game-Show</th>\n",
       "      <th>genre_Short</th>\n",
       "      <th>genre_Musical</th>\n",
       "      <th>genre_Family</th>\n",
       "      <th>...</th>\n",
       "      <th>genre_Music</th>\n",
       "      <th>genre_Horror</th>\n",
       "      <th>genre_Adventure</th>\n",
       "      <th>genre_Biography</th>\n",
       "      <th>genre_Reality-TV</th>\n",
       "      <th>genre_Mystery</th>\n",
       "      <th>genre_Fantasy</th>\n",
       "      <th>genre_News</th>\n",
       "      <th>genre_Talk-Show</th>\n",
       "      <th>genre_Animation</th>\n",
       "    </tr>\n",
       "  </thead>\n",
       "  <tbody>\n",
       "    <tr>\n",
       "      <th>0</th>\n",
       "      <td>False</td>\n",
       "      <td>False</td>\n",
       "      <td>False</td>\n",
       "      <td>False</td>\n",
       "      <td>False</td>\n",
       "      <td>False</td>\n",
       "      <td>False</td>\n",
       "      <td>False</td>\n",
       "      <td>False</td>\n",
       "      <td>False</td>\n",
       "      <td>...</td>\n",
       "      <td>False</td>\n",
       "      <td>False</td>\n",
       "      <td>False</td>\n",
       "      <td>False</td>\n",
       "      <td>False</td>\n",
       "      <td>False</td>\n",
       "      <td>False</td>\n",
       "      <td>False</td>\n",
       "      <td>False</td>\n",
       "      <td>False</td>\n",
       "    </tr>\n",
       "    <tr>\n",
       "      <th>74</th>\n",
       "      <td>False</td>\n",
       "      <td>False</td>\n",
       "      <td>False</td>\n",
       "      <td>False</td>\n",
       "      <td>False</td>\n",
       "      <td>False</td>\n",
       "      <td>False</td>\n",
       "      <td>False</td>\n",
       "      <td>False</td>\n",
       "      <td>False</td>\n",
       "      <td>...</td>\n",
       "      <td>False</td>\n",
       "      <td>False</td>\n",
       "      <td>False</td>\n",
       "      <td>False</td>\n",
       "      <td>False</td>\n",
       "      <td>False</td>\n",
       "      <td>False</td>\n",
       "      <td>False</td>\n",
       "      <td>False</td>\n",
       "      <td>False</td>\n",
       "    </tr>\n",
       "    <tr>\n",
       "      <th>224</th>\n",
       "      <td>False</td>\n",
       "      <td>False</td>\n",
       "      <td>False</td>\n",
       "      <td>False</td>\n",
       "      <td>False</td>\n",
       "      <td>False</td>\n",
       "      <td>False</td>\n",
       "      <td>False</td>\n",
       "      <td>False</td>\n",
       "      <td>False</td>\n",
       "      <td>...</td>\n",
       "      <td>False</td>\n",
       "      <td>False</td>\n",
       "      <td>False</td>\n",
       "      <td>False</td>\n",
       "      <td>False</td>\n",
       "      <td>False</td>\n",
       "      <td>False</td>\n",
       "      <td>False</td>\n",
       "      <td>False</td>\n",
       "      <td>False</td>\n",
       "    </tr>\n",
       "    <tr>\n",
       "      <th>253</th>\n",
       "      <td>False</td>\n",
       "      <td>False</td>\n",
       "      <td>False</td>\n",
       "      <td>False</td>\n",
       "      <td>False</td>\n",
       "      <td>False</td>\n",
       "      <td>False</td>\n",
       "      <td>False</td>\n",
       "      <td>False</td>\n",
       "      <td>False</td>\n",
       "      <td>...</td>\n",
       "      <td>False</td>\n",
       "      <td>False</td>\n",
       "      <td>False</td>\n",
       "      <td>False</td>\n",
       "      <td>False</td>\n",
       "      <td>False</td>\n",
       "      <td>False</td>\n",
       "      <td>False</td>\n",
       "      <td>False</td>\n",
       "      <td>False</td>\n",
       "    </tr>\n",
       "    <tr>\n",
       "      <th>450</th>\n",
       "      <td>False</td>\n",
       "      <td>False</td>\n",
       "      <td>False</td>\n",
       "      <td>False</td>\n",
       "      <td>False</td>\n",
       "      <td>False</td>\n",
       "      <td>False</td>\n",
       "      <td>False</td>\n",
       "      <td>False</td>\n",
       "      <td>False</td>\n",
       "      <td>...</td>\n",
       "      <td>False</td>\n",
       "      <td>False</td>\n",
       "      <td>False</td>\n",
       "      <td>False</td>\n",
       "      <td>False</td>\n",
       "      <td>False</td>\n",
       "      <td>False</td>\n",
       "      <td>False</td>\n",
       "      <td>False</td>\n",
       "      <td>False</td>\n",
       "    </tr>\n",
       "    <tr>\n",
       "      <th>...</th>\n",
       "      <td>...</td>\n",
       "      <td>...</td>\n",
       "      <td>...</td>\n",
       "      <td>...</td>\n",
       "      <td>...</td>\n",
       "      <td>...</td>\n",
       "      <td>...</td>\n",
       "      <td>...</td>\n",
       "      <td>...</td>\n",
       "      <td>...</td>\n",
       "      <td>...</td>\n",
       "      <td>...</td>\n",
       "      <td>...</td>\n",
       "      <td>...</td>\n",
       "      <td>...</td>\n",
       "      <td>...</td>\n",
       "      <td>...</td>\n",
       "      <td>...</td>\n",
       "      <td>...</td>\n",
       "      <td>...</td>\n",
       "      <td>...</td>\n",
       "    </tr>\n",
       "    <tr>\n",
       "      <th>144168</th>\n",
       "      <td>False</td>\n",
       "      <td>False</td>\n",
       "      <td>False</td>\n",
       "      <td>False</td>\n",
       "      <td>False</td>\n",
       "      <td>False</td>\n",
       "      <td>False</td>\n",
       "      <td>False</td>\n",
       "      <td>False</td>\n",
       "      <td>False</td>\n",
       "      <td>...</td>\n",
       "      <td>False</td>\n",
       "      <td>False</td>\n",
       "      <td>False</td>\n",
       "      <td>False</td>\n",
       "      <td>False</td>\n",
       "      <td>False</td>\n",
       "      <td>False</td>\n",
       "      <td>False</td>\n",
       "      <td>False</td>\n",
       "      <td>False</td>\n",
       "    </tr>\n",
       "    <tr>\n",
       "      <th>144179</th>\n",
       "      <td>False</td>\n",
       "      <td>False</td>\n",
       "      <td>False</td>\n",
       "      <td>False</td>\n",
       "      <td>False</td>\n",
       "      <td>False</td>\n",
       "      <td>False</td>\n",
       "      <td>False</td>\n",
       "      <td>False</td>\n",
       "      <td>False</td>\n",
       "      <td>...</td>\n",
       "      <td>False</td>\n",
       "      <td>False</td>\n",
       "      <td>False</td>\n",
       "      <td>False</td>\n",
       "      <td>False</td>\n",
       "      <td>False</td>\n",
       "      <td>False</td>\n",
       "      <td>False</td>\n",
       "      <td>False</td>\n",
       "      <td>False</td>\n",
       "    </tr>\n",
       "    <tr>\n",
       "      <th>144190</th>\n",
       "      <td>False</td>\n",
       "      <td>False</td>\n",
       "      <td>False</td>\n",
       "      <td>False</td>\n",
       "      <td>False</td>\n",
       "      <td>False</td>\n",
       "      <td>False</td>\n",
       "      <td>False</td>\n",
       "      <td>False</td>\n",
       "      <td>False</td>\n",
       "      <td>...</td>\n",
       "      <td>False</td>\n",
       "      <td>False</td>\n",
       "      <td>False</td>\n",
       "      <td>False</td>\n",
       "      <td>False</td>\n",
       "      <td>False</td>\n",
       "      <td>False</td>\n",
       "      <td>False</td>\n",
       "      <td>False</td>\n",
       "      <td>False</td>\n",
       "    </tr>\n",
       "    <tr>\n",
       "      <th>144204</th>\n",
       "      <td>False</td>\n",
       "      <td>False</td>\n",
       "      <td>False</td>\n",
       "      <td>False</td>\n",
       "      <td>False</td>\n",
       "      <td>False</td>\n",
       "      <td>False</td>\n",
       "      <td>False</td>\n",
       "      <td>False</td>\n",
       "      <td>False</td>\n",
       "      <td>...</td>\n",
       "      <td>False</td>\n",
       "      <td>False</td>\n",
       "      <td>False</td>\n",
       "      <td>False</td>\n",
       "      <td>False</td>\n",
       "      <td>False</td>\n",
       "      <td>False</td>\n",
       "      <td>False</td>\n",
       "      <td>False</td>\n",
       "      <td>False</td>\n",
       "    </tr>\n",
       "    <tr>\n",
       "      <th>144206</th>\n",
       "      <td>False</td>\n",
       "      <td>False</td>\n",
       "      <td>False</td>\n",
       "      <td>False</td>\n",
       "      <td>False</td>\n",
       "      <td>False</td>\n",
       "      <td>False</td>\n",
       "      <td>False</td>\n",
       "      <td>False</td>\n",
       "      <td>False</td>\n",
       "      <td>...</td>\n",
       "      <td>False</td>\n",
       "      <td>False</td>\n",
       "      <td>False</td>\n",
       "      <td>False</td>\n",
       "      <td>False</td>\n",
       "      <td>False</td>\n",
       "      <td>False</td>\n",
       "      <td>False</td>\n",
       "      <td>False</td>\n",
       "      <td>False</td>\n",
       "    </tr>\n",
       "  </tbody>\n",
       "</table>\n",
       "<p>14174 rows × 28 columns</p>\n",
       "</div>"
      ],
      "text/plain": [
       "        genre_Crime  genre_\\N  genre_War  genre_Documentary  genre_Sci-Fi  \\\n",
       "0             False     False      False              False         False   \n",
       "74            False     False      False              False         False   \n",
       "224           False     False      False              False         False   \n",
       "253           False     False      False              False         False   \n",
       "450           False     False      False              False         False   \n",
       "...             ...       ...        ...                ...           ...   \n",
       "144168        False     False      False              False         False   \n",
       "144179        False     False      False              False         False   \n",
       "144190        False     False      False              False         False   \n",
       "144204        False     False      False              False         False   \n",
       "144206        False     False      False              False         False   \n",
       "\n",
       "        genre_Drama  genre_Game-Show  genre_Short  genre_Musical  \\\n",
       "0             False            False        False          False   \n",
       "74            False            False        False          False   \n",
       "224           False            False        False          False   \n",
       "253           False            False        False          False   \n",
       "450           False            False        False          False   \n",
       "...             ...              ...          ...            ...   \n",
       "144168        False            False        False          False   \n",
       "144179        False            False        False          False   \n",
       "144190        False            False        False          False   \n",
       "144204        False            False        False          False   \n",
       "144206        False            False        False          False   \n",
       "\n",
       "        genre_Family  ...  genre_Music  genre_Horror  genre_Adventure  \\\n",
       "0              False  ...        False         False            False   \n",
       "74             False  ...        False         False            False   \n",
       "224            False  ...        False         False            False   \n",
       "253            False  ...        False         False            False   \n",
       "450            False  ...        False         False            False   \n",
       "...              ...  ...          ...           ...              ...   \n",
       "144168         False  ...        False         False            False   \n",
       "144179         False  ...        False         False            False   \n",
       "144190         False  ...        False         False            False   \n",
       "144204         False  ...        False         False            False   \n",
       "144206         False  ...        False         False            False   \n",
       "\n",
       "        genre_Biography  genre_Reality-TV  genre_Mystery  genre_Fantasy  \\\n",
       "0                 False             False          False          False   \n",
       "74                False             False          False          False   \n",
       "224               False             False          False          False   \n",
       "253               False             False          False          False   \n",
       "450               False             False          False          False   \n",
       "...                 ...               ...            ...            ...   \n",
       "144168            False             False          False          False   \n",
       "144179            False             False          False          False   \n",
       "144190            False             False          False          False   \n",
       "144204            False             False          False          False   \n",
       "144206            False             False          False          False   \n",
       "\n",
       "        genre_News  genre_Talk-Show  genre_Animation  \n",
       "0            False            False            False  \n",
       "74           False            False            False  \n",
       "224          False            False            False  \n",
       "253          False            False            False  \n",
       "450          False            False            False  \n",
       "...            ...              ...              ...  \n",
       "144168       False            False            False  \n",
       "144179       False            False            False  \n",
       "144190       False            False            False  \n",
       "144204       False            False            False  \n",
       "144206       False            False            False  \n",
       "\n",
       "[14174 rows x 28 columns]"
      ]
     },
     "execution_count": 41,
     "metadata": {},
     "output_type": "execute_result"
    }
   ],
   "source": [
    "X_genre = df_merge_recom22.select_dtypes(['bool'])\n",
    "X_genre"
   ]
  },
  {
   "cell_type": "code",
   "execution_count": 42,
   "metadata": {},
   "outputs": [],
   "source": [
    "X_genrecopy = X_genre.copy()"
   ]
  },
  {
   "cell_type": "code",
   "execution_count": 44,
   "metadata": {},
   "outputs": [],
   "source": [
    "def encodage_X(X, type='standard'):\n",
    "  index = X.index\n",
    "  X_num = X.select_dtypes('number')\n",
    "  X_cat = X.select_dtypes(['object', 'category', 'string'])\n",
    "  #X_genrecopy = df_merge_recom22.select_dtypes(['bool'])\n",
    "  # Comme ça les dates, on n'y touche pas\n",
    "\n",
    "  if type == 'standard':\n",
    "    from sklearn.preprocessing import StandardScaler\n",
    "    SN = StandardScaler()\n",
    "    X_num_SN = pd.DataFrame(SN.fit_transform(X_num), columns=X_num.columns, index=index)\n",
    "\n",
    "  else:\n",
    "    from sklearn.preprocessing import MinMaxScaler\n",
    "    SN = MinMaxScaler()\n",
    "    X_num_SN = pd.DataFrame(SN.fit_transform(X_num), columns=X_num.columns, index=index)\n",
    "\n",
    "  X_cat_dummies = pd.get_dummies(X_cat)\n",
    "  X_encoded = pd.concat([X_num_SN, X_cat_dummies], axis=1)\n",
    "  #X_encoded = pd.concat([X_num_SN, X_genre], axis=1)\n",
    "\n",
    "  return X_encoded, SN"
   ]
  },
  {
   "cell_type": "code",
   "execution_count": 46,
   "metadata": {},
   "outputs": [
    {
     "ename": "NameError",
     "evalue": "name 'X' is not defined",
     "output_type": "error",
     "traceback": [
      "\u001b[0;31m---------------------------------------------------------------------------\u001b[0m",
      "\u001b[0;31mNameError\u001b[0m                                 Traceback (most recent call last)",
      "Cell \u001b[0;32mIn[46], line 1\u001b[0m\n\u001b[0;32m----> 1\u001b[0m X_encoded, SN \u001b[38;5;241m=\u001b[39m encodage_X(X, \u001b[38;5;28mtype\u001b[39m\u001b[38;5;241m=\u001b[39m\u001b[38;5;124m'\u001b[39m\u001b[38;5;124mnormalisation\u001b[39m\u001b[38;5;124m'\u001b[39m)\n",
      "\u001b[0;31mNameError\u001b[0m: name 'X' is not defined"
     ]
    }
   ],
   "source": [
    "X_encoded, SN = encodage_X(X, type='normalisation')"
   ]
  },
  {
   "cell_type": "code",
   "execution_count": 48,
   "metadata": {},
   "outputs": [],
   "source": [
    "def evaluate_k(X_encoded, k_range):\n",
    "    \"\"\"\n",
    "    Évalue différentes valeurs de k en utilisant la somme des distances aux voisins\n",
    "    et le score de silhouette comme métriques.\n",
    "\n",
    "\n",
    "    Args:\n",
    "        X_encoded (DataFrame): Données normalisées\n",
    "        k_range (range): Plage de valeurs de k à tester\n",
    "\n",
    "\n",
    "    Returns:\n",
    "        tuple: (distances moyennes, scores de silhouette)\n",
    "    \"\"\"\n",
    "    from sklearn.metrics import silhouette_score\n",
    "    from sklearn.cluster import KMeans\n",
    "\n",
    "\n",
    "    avg_distances = []\n",
    "    silhouette_scores = []\n",
    "\n",
    "\n",
    "    for k in k_range:\n",
    "        # Calcul des distances moyennes pour chaque k\n",
    "        model = NearestNeighbors(n_neighbors=k)\n",
    "        model.fit(X_encoded)\n",
    "        distances, _ = model.kneighbors(X_encoded)\n",
    "        avg_distances.append(np.mean(distances))\n",
    "\n",
    "\n",
    "        # Calcul du score de silhouette\n",
    "        # Nous utilisons KMeans pour créer des clusters et évaluer la qualité\n",
    "        kmeans = KMeans(n_clusters=k, random_state=42)\n",
    "        clusters = kmeans.fit_predict(X_encoded)\n",
    "        if k > 1:  # Le score de silhouette nécessite au moins 2 clusters\n",
    "            silhouette_scores.append(silhouette_score(X_encoded, clusters))\n",
    "        else:\n",
    "            silhouette_scores.append(0)\n",
    "\n",
    "\n",
    "    return avg_distances, silhouette_scores"
   ]
  },
  {
   "cell_type": "code",
   "execution_count": 49,
   "metadata": {},
   "outputs": [
    {
     "data": {
      "text/html": [
       "<div>\n",
       "<style scoped>\n",
       "    .dataframe tbody tr th:only-of-type {\n",
       "        vertical-align: middle;\n",
       "    }\n",
       "\n",
       "    .dataframe tbody tr th {\n",
       "        vertical-align: top;\n",
       "    }\n",
       "\n",
       "    .dataframe thead th {\n",
       "        text-align: right;\n",
       "    }\n",
       "</style>\n",
       "<table border=\"1\" class=\"dataframe\">\n",
       "  <thead>\n",
       "    <tr style=\"text-align: right;\">\n",
       "      <th></th>\n",
       "      <th>imdb_id</th>\n",
       "      <th>original_title</th>\n",
       "      <th>titleType</th>\n",
       "      <th>genres_y</th>\n",
       "      <th>primaryName</th>\n",
       "    </tr>\n",
       "  </thead>\n",
       "  <tbody>\n",
       "    <tr>\n",
       "      <th>0</th>\n",
       "      <td>tt0113101</td>\n",
       "      <td>Four Rooms</td>\n",
       "      <td>movie</td>\n",
       "      <td>Comedy</td>\n",
       "      <td>Tim Roth</td>\n",
       "    </tr>\n",
       "    <tr>\n",
       "      <th>1</th>\n",
       "      <td>tt0113101</td>\n",
       "      <td>Four Rooms</td>\n",
       "      <td>movie</td>\n",
       "      <td>Comedy</td>\n",
       "      <td>Antonio Banderas</td>\n",
       "    </tr>\n",
       "    <tr>\n",
       "      <th>2</th>\n",
       "      <td>tt0113101</td>\n",
       "      <td>Four Rooms</td>\n",
       "      <td>movie</td>\n",
       "      <td>Comedy</td>\n",
       "      <td>Sammi Davis</td>\n",
       "    </tr>\n",
       "    <tr>\n",
       "      <th>3</th>\n",
       "      <td>tt0113101</td>\n",
       "      <td>Four Rooms</td>\n",
       "      <td>movie</td>\n",
       "      <td>Comedy</td>\n",
       "      <td>Amanda De Cadenet</td>\n",
       "    </tr>\n",
       "    <tr>\n",
       "      <th>4</th>\n",
       "      <td>tt0113101</td>\n",
       "      <td>Four Rooms</td>\n",
       "      <td>movie</td>\n",
       "      <td>Comedy</td>\n",
       "      <td>Valeria Golino</td>\n",
       "    </tr>\n",
       "    <tr>\n",
       "      <th>...</th>\n",
       "      <td>...</td>\n",
       "      <td>...</td>\n",
       "      <td>...</td>\n",
       "      <td>...</td>\n",
       "      <td>...</td>\n",
       "    </tr>\n",
       "    <tr>\n",
       "      <th>1312790</th>\n",
       "      <td>tt27688034</td>\n",
       "      <td>더 문</td>\n",
       "      <td>movie</td>\n",
       "      <td>Action,Adventure,Drama</td>\n",
       "      <td>Park Byeong-eun</td>\n",
       "    </tr>\n",
       "    <tr>\n",
       "      <th>1312791</th>\n",
       "      <td>tt27688034</td>\n",
       "      <td>더 문</td>\n",
       "      <td>movie</td>\n",
       "      <td>Action,Adventure,Drama</td>\n",
       "      <td>Choi Byung-mo</td>\n",
       "    </tr>\n",
       "    <tr>\n",
       "      <th>1312792</th>\n",
       "      <td>tt27688034</td>\n",
       "      <td>더 문</td>\n",
       "      <td>movie</td>\n",
       "      <td>Action,Adventure,Drama</td>\n",
       "      <td>Jonathan Ehren Groff</td>\n",
       "    </tr>\n",
       "    <tr>\n",
       "      <th>1312793</th>\n",
       "      <td>tt27688034</td>\n",
       "      <td>더 문</td>\n",
       "      <td>movie</td>\n",
       "      <td>Action,Adventure,Drama</td>\n",
       "      <td>Paul de Havilland</td>\n",
       "    </tr>\n",
       "    <tr>\n",
       "      <th>1312794</th>\n",
       "      <td>tt27688034</td>\n",
       "      <td>더 문</td>\n",
       "      <td>movie</td>\n",
       "      <td>Action,Adventure,Drama</td>\n",
       "      <td>Daniel C Kennedy</td>\n",
       "    </tr>\n",
       "  </tbody>\n",
       "</table>\n",
       "<p>1007762 rows × 5 columns</p>\n",
       "</div>"
      ],
      "text/plain": [
       "            imdb_id original_title titleType                genres_y  \\\n",
       "0         tt0113101     Four Rooms     movie                  Comedy   \n",
       "1         tt0113101     Four Rooms     movie                  Comedy   \n",
       "2         tt0113101     Four Rooms     movie                  Comedy   \n",
       "3         tt0113101     Four Rooms     movie                  Comedy   \n",
       "4         tt0113101     Four Rooms     movie                  Comedy   \n",
       "...             ...            ...       ...                     ...   \n",
       "1312790  tt27688034            더 문     movie  Action,Adventure,Drama   \n",
       "1312791  tt27688034            더 문     movie  Action,Adventure,Drama   \n",
       "1312792  tt27688034            더 문     movie  Action,Adventure,Drama   \n",
       "1312793  tt27688034            더 문     movie  Action,Adventure,Drama   \n",
       "1312794  tt27688034            더 문     movie  Action,Adventure,Drama   \n",
       "\n",
       "                  primaryName  \n",
       "0                    Tim Roth  \n",
       "1            Antonio Banderas  \n",
       "2                 Sammi Davis  \n",
       "3           Amanda De Cadenet  \n",
       "4              Valeria Golino  \n",
       "...                       ...  \n",
       "1312790       Park Byeong-eun  \n",
       "1312791         Choi Byung-mo  \n",
       "1312792  Jonathan Ehren Groff  \n",
       "1312793     Paul de Havilland  \n",
       "1312794      Daniel C Kennedy  \n",
       "\n",
       "[1007762 rows x 5 columns]"
      ]
     },
     "execution_count": 49,
     "metadata": {},
     "output_type": "execute_result"
    }
   ],
   "source": [
    "merge_filmR"
   ]
  },
  {
   "cell_type": "code",
   "execution_count": 50,
   "metadata": {},
   "outputs": [
    {
     "ename": "NameError",
     "evalue": "name 'k' is not defined",
     "output_type": "error",
     "traceback": [
      "\u001b[0;31m---------------------------------------------------------------------------\u001b[0m",
      "\u001b[0;31mNameError\u001b[0m                                 Traceback (most recent call last)",
      "Cell \u001b[0;32mIn[50], line 1\u001b[0m\n\u001b[0;32m----> 1\u001b[0m model \u001b[38;5;241m=\u001b[39m NearestNeighbors(n_neighbors\u001b[38;5;241m=\u001b[39mk, metric\u001b[38;5;241m=\u001b[39m\u001b[38;5;124m'\u001b[39m\u001b[38;5;124meuclidean\u001b[39m\u001b[38;5;124m'\u001b[39m)\n",
      "\u001b[0;31mNameError\u001b[0m: name 'k' is not defined"
     ]
    }
   ],
   "source": [
    "model = NearestNeighbors(n_neighbors=k, metric='euclidean')"
   ]
  },
  {
   "cell_type": "code",
   "execution_count": null,
   "metadata": {},
   "outputs": [],
   "source": [
    "filmR = merge_filmR['imdb_id']\n",
    "nom_film = 'tt0113101'\n",
    "\n",
    "\n",
    "# Vérifier s'il existe dans dataset\n",
    "\n",
    "\n",
    "merge_filmR[merge_filmR['imdb_id'] == 'tt0113101o']"
   ]
  },
  {
   "cell_type": "code",
   "execution_count": null,
   "metadata": {},
   "outputs": [],
   "source": [
    "caract_film = merge_filmR[merge_filmR['imdb_id'] == 'tt0113101']\n",
    "caract_film = caract_film[caracteristiques]\n",
    "\n",
    "\n",
    "caract_film\n"
   ]
  },
  {
   "cell_type": "code",
   "execution_count": null,
   "metadata": {},
   "outputs": [],
   "source": [
    "def film_similaire(nom_film):\n",
    "\n",
    "\n",
    "  # Vérifier si le film existe dans le dataset\n",
    "  if nom_film not in merge_filmR['imdb_id'].values:\n",
    "      return f\"Le film numero {nom_film} n'est pas dans le dataset.\"\n",
    "\n",
    "\n",
    "  # Récupérer les caractéristiques du Pokémon\n",
    "  filmC = merge_filmR[merge_filmR['imdb_id'] == nom_film]\n",
    "\n",
    "\n",
    "  # Vérifier si le Pokémon est légendaire\n",
    "  if not merge_filmR['imdb_id'].iloc[0]:\n",
    "      return f\"{nom_film} n'est pas un film dans le dataset.\"\n",
    "\n",
    "\n",
    "  # Je recopie ce qu'on a fait avant:\n",
    "  caract_film = merge_filmR[merge_filmR['imdb_id'] == nom_film][caracteristiques]\n",
    "\n",
    "\n",
    "  caract_film_encoded = encodage_predict(caract_film)\n",
    "\n",
    "\n",
    "  distances, indices = model.kneighbors(caract_film_encoded)\n",
    "\n",
    "\n",
    "  return merge_filmR.iloc[indices[0]].reset_index(drop=True)"
   ]
  },
  {
   "cell_type": "code",
   "execution_count": null,
   "metadata": {},
   "outputs": [],
   "source": []
  },
  {
   "cell_type": "code",
   "execution_count": null,
   "metadata": {},
   "outputs": [],
   "source": []
  },
  {
   "cell_type": "code",
   "execution_count": null,
   "metadata": {},
   "outputs": [],
   "source": [
    "index = X.index\n",
    "X_num = X.select_dtypes('number')\n",
    "X_cat = X.select_dtypes(['object', 'category', 'string'])"
   ]
  },
  {
   "cell_type": "code",
   "execution_count": null,
   "metadata": {},
   "outputs": [],
   "source": [
    "from sklearn.preprocessing import MinMaxScaler\n",
    "SN = MinMaxScaler()\n",
    "X_num_SN = pd.DataFrame(SN.fit_transform(X_num), columns=X_num.columns, index=index)"
   ]
  },
  {
   "cell_type": "code",
   "execution_count": null,
   "metadata": {},
   "outputs": [],
   "source": []
  },
  {
   "cell_type": "code",
   "execution_count": null,
   "metadata": {},
   "outputs": [],
   "source": []
  },
  {
   "cell_type": "code",
   "execution_count": null,
   "metadata": {},
   "outputs": [],
   "source": []
  },
  {
   "cell_type": "code",
   "execution_count": null,
   "metadata": {},
   "outputs": [],
   "source": []
  },
  {
   "cell_type": "code",
   "execution_count": null,
   "metadata": {},
   "outputs": [],
   "source": []
  },
  {
   "cell_type": "code",
   "execution_count": null,
   "metadata": {},
   "outputs": [],
   "source": []
  },
  {
   "cell_type": "code",
   "execution_count": null,
   "metadata": {},
   "outputs": [],
   "source": []
  },
  {
   "cell_type": "code",
   "execution_count": 52,
   "metadata": {},
   "outputs": [
    {
     "ename": "KeyError",
     "evalue": "\"['startYear'] not in index\"",
     "output_type": "error",
     "traceback": [
      "\u001b[0;31m---------------------------------------------------------------------------\u001b[0m",
      "\u001b[0;31mKeyError\u001b[0m                                  Traceback (most recent call last)",
      "Cell \u001b[0;32mIn[52], line 1\u001b[0m\n\u001b[0;32m----> 1\u001b[0m X \u001b[38;5;241m=\u001b[39m merge_filmR[caracteristiques]\n\u001b[1;32m      2\u001b[0m \u001b[38;5;66;03m# ne prend que les colonnes qui sont dans caracteristiques\u001b[39;00m\n\u001b[1;32m      4\u001b[0m X_encoded, SN \u001b[38;5;241m=\u001b[39m encodage_X(X, \u001b[38;5;28mtype\u001b[39m\u001b[38;5;241m=\u001b[39m\u001b[38;5;124m'\u001b[39m\u001b[38;5;124mnormalisation\u001b[39m\u001b[38;5;124m'\u001b[39m)\n",
      "File \u001b[0;32m/Applications/anaconda3/lib/python3.12/site-packages/pandas/core/frame.py:4108\u001b[0m, in \u001b[0;36mDataFrame.__getitem__\u001b[0;34m(self, key)\u001b[0m\n\u001b[1;32m   4106\u001b[0m     \u001b[38;5;28;01mif\u001b[39;00m is_iterator(key):\n\u001b[1;32m   4107\u001b[0m         key \u001b[38;5;241m=\u001b[39m \u001b[38;5;28mlist\u001b[39m(key)\n\u001b[0;32m-> 4108\u001b[0m     indexer \u001b[38;5;241m=\u001b[39m \u001b[38;5;28mself\u001b[39m\u001b[38;5;241m.\u001b[39mcolumns\u001b[38;5;241m.\u001b[39m_get_indexer_strict(key, \u001b[38;5;124m\"\u001b[39m\u001b[38;5;124mcolumns\u001b[39m\u001b[38;5;124m\"\u001b[39m)[\u001b[38;5;241m1\u001b[39m]\n\u001b[1;32m   4110\u001b[0m \u001b[38;5;66;03m# take() does not accept boolean indexers\u001b[39;00m\n\u001b[1;32m   4111\u001b[0m \u001b[38;5;28;01mif\u001b[39;00m \u001b[38;5;28mgetattr\u001b[39m(indexer, \u001b[38;5;124m\"\u001b[39m\u001b[38;5;124mdtype\u001b[39m\u001b[38;5;124m\"\u001b[39m, \u001b[38;5;28;01mNone\u001b[39;00m) \u001b[38;5;241m==\u001b[39m \u001b[38;5;28mbool\u001b[39m:\n",
      "File \u001b[0;32m/Applications/anaconda3/lib/python3.12/site-packages/pandas/core/indexes/base.py:6200\u001b[0m, in \u001b[0;36mIndex._get_indexer_strict\u001b[0;34m(self, key, axis_name)\u001b[0m\n\u001b[1;32m   6197\u001b[0m \u001b[38;5;28;01melse\u001b[39;00m:\n\u001b[1;32m   6198\u001b[0m     keyarr, indexer, new_indexer \u001b[38;5;241m=\u001b[39m \u001b[38;5;28mself\u001b[39m\u001b[38;5;241m.\u001b[39m_reindex_non_unique(keyarr)\n\u001b[0;32m-> 6200\u001b[0m \u001b[38;5;28mself\u001b[39m\u001b[38;5;241m.\u001b[39m_raise_if_missing(keyarr, indexer, axis_name)\n\u001b[1;32m   6202\u001b[0m keyarr \u001b[38;5;241m=\u001b[39m \u001b[38;5;28mself\u001b[39m\u001b[38;5;241m.\u001b[39mtake(indexer)\n\u001b[1;32m   6203\u001b[0m \u001b[38;5;28;01mif\u001b[39;00m \u001b[38;5;28misinstance\u001b[39m(key, Index):\n\u001b[1;32m   6204\u001b[0m     \u001b[38;5;66;03m# GH 42790 - Preserve name from an Index\u001b[39;00m\n",
      "File \u001b[0;32m/Applications/anaconda3/lib/python3.12/site-packages/pandas/core/indexes/base.py:6252\u001b[0m, in \u001b[0;36mIndex._raise_if_missing\u001b[0;34m(self, key, indexer, axis_name)\u001b[0m\n\u001b[1;32m   6249\u001b[0m     \u001b[38;5;28;01mraise\u001b[39;00m \u001b[38;5;167;01mKeyError\u001b[39;00m(\u001b[38;5;124mf\u001b[39m\u001b[38;5;124m\"\u001b[39m\u001b[38;5;124mNone of [\u001b[39m\u001b[38;5;132;01m{\u001b[39;00mkey\u001b[38;5;132;01m}\u001b[39;00m\u001b[38;5;124m] are in the [\u001b[39m\u001b[38;5;132;01m{\u001b[39;00maxis_name\u001b[38;5;132;01m}\u001b[39;00m\u001b[38;5;124m]\u001b[39m\u001b[38;5;124m\"\u001b[39m)\n\u001b[1;32m   6251\u001b[0m not_found \u001b[38;5;241m=\u001b[39m \u001b[38;5;28mlist\u001b[39m(ensure_index(key)[missing_mask\u001b[38;5;241m.\u001b[39mnonzero()[\u001b[38;5;241m0\u001b[39m]]\u001b[38;5;241m.\u001b[39munique())\n\u001b[0;32m-> 6252\u001b[0m \u001b[38;5;28;01mraise\u001b[39;00m \u001b[38;5;167;01mKeyError\u001b[39;00m(\u001b[38;5;124mf\u001b[39m\u001b[38;5;124m\"\u001b[39m\u001b[38;5;132;01m{\u001b[39;00mnot_found\u001b[38;5;132;01m}\u001b[39;00m\u001b[38;5;124m not in index\u001b[39m\u001b[38;5;124m\"\u001b[39m)\n",
      "\u001b[0;31mKeyError\u001b[0m: \"['startYear'] not in index\""
     ]
    }
   ],
   "source": [
    "X = merge_filmR[caracteristiques]\n",
    "# ne prend que les colonnes qui sont dans caracteristiques\n",
    "\n",
    "X_encoded, SN = encodage_X(X, type='normalisation')"
   ]
  },
  {
   "cell_type": "code",
   "execution_count": null,
   "metadata": {},
   "outputs": [],
   "source": [
    "X_encoded"
   ]
  },
  {
   "cell_type": "code",
   "execution_count": null,
   "metadata": {},
   "outputs": [],
   "source": [
    "X"
   ]
  },
  {
   "cell_type": "code",
   "execution_count": null,
   "metadata": {},
   "outputs": [],
   "source": [
    "X['titleType'].unique()"
   ]
  },
  {
   "cell_type": "code",
   "execution_count": null,
   "metadata": {},
   "outputs": [],
   "source": [
    "df_merge_recom22.info()"
   ]
  },
  {
   "cell_type": "code",
   "execution_count": 53,
   "metadata": {},
   "outputs": [],
   "source": [
    "def evaluate_k(X_encoded, k_range):\n",
    "    \"\"\"\n",
    "    Évalue différentes valeurs de k en utilisant la somme des distances aux voisins\n",
    "    et le score de silhouette comme métriques.\n",
    "\n",
    "    Args:\n",
    "        X_encoded (DataFrame): Données normalisées\n",
    "        k_range (range): Plage de valeurs de k à tester\n",
    "\n",
    "    Returns:\n",
    "        tuple: (distances moyennes, scores de silhouette)\n",
    "    \"\"\"\n",
    "    from sklearn.metrics import silhouette_score\n",
    "    from sklearn.cluster import KMeans\n",
    "\n",
    "    avg_distances = []\n",
    "    silhouette_scores = []\n",
    "\n",
    "    for k in k_range:\n",
    "        # Calcul des distances moyennes pour chaque k\n",
    "        model = NearestNeighbors(n_neighbors=k)\n",
    "        model.fit(X_encoded)\n",
    "        distances, _ = model.kneighbors(X_encoded)\n",
    "        avg_distances.append(np.mean(distances))\n",
    "\n",
    "        # Calcul du score de silhouette\n",
    "        # Nous utilisons KMeans pour créer des clusters et évaluer la qualité\n",
    "        kmeans = KMeans(n_clusters=k, random_state=42)\n",
    "        clusters = kmeans.fit_predict(X_encoded)\n",
    "        if k > 1:  # Le score de silhouette nécessite au moins 2 clusters\n",
    "            silhouette_scores.append(silhouette_score(X_encoded, clusters))\n",
    "        else:\n",
    "            silhouette_scores.append(0)\n",
    "\n",
    "    return avg_distances, silhouette_scores"
   ]
  },
  {
   "cell_type": "code",
   "execution_count": 54,
   "metadata": {},
   "outputs": [],
   "source": [
    "#evaluate_k(X_encoded, k_range)\n",
    "k_range = range(1, 21)  # Test des valeurs de k de 1 à 20"
   ]
  },
  {
   "cell_type": "code",
   "execution_count": 56,
   "metadata": {},
   "outputs": [
    {
     "ename": "NameError",
     "evalue": "name 'X_encoded' is not defined",
     "output_type": "error",
     "traceback": [
      "\u001b[0;31m---------------------------------------------------------------------------\u001b[0m",
      "\u001b[0;31mNameError\u001b[0m                                 Traceback (most recent call last)",
      "Cell \u001b[0;32mIn[56], line 1\u001b[0m\n\u001b[0;32m----> 1\u001b[0m X_encoded\n",
      "\u001b[0;31mNameError\u001b[0m: name 'X_encoded' is not defined"
     ]
    }
   ],
   "source": [
    "X_encoded"
   ]
  },
  {
   "cell_type": "code",
   "execution_count": null,
   "metadata": {},
   "outputs": [],
   "source": [
    "#evaluate_k(X_encoded, k_range)"
   ]
  },
  {
   "cell_type": "code",
   "execution_count": 55,
   "metadata": {},
   "outputs": [],
   "source": [
    "# On choisit k\n",
    "k=6\n",
    "\n",
    "model = NearestNeighbors(n_neighbors=k, metric='euclidean')\n",
    "#model.fit(X_encoded)"
   ]
  },
  {
   "cell_type": "code",
   "execution_count": 57,
   "metadata": {},
   "outputs": [
    {
     "data": {
      "text/html": [
       "<div>\n",
       "<style scoped>\n",
       "    .dataframe tbody tr th:only-of-type {\n",
       "        vertical-align: middle;\n",
       "    }\n",
       "\n",
       "    .dataframe tbody tr th {\n",
       "        vertical-align: top;\n",
       "    }\n",
       "\n",
       "    .dataframe thead th {\n",
       "        text-align: right;\n",
       "    }\n",
       "</style>\n",
       "<table border=\"1\" class=\"dataframe\">\n",
       "  <thead>\n",
       "    <tr style=\"text-align: right;\">\n",
       "      <th></th>\n",
       "      <th>imdb_id</th>\n",
       "      <th>original_title</th>\n",
       "      <th>titleType</th>\n",
       "      <th>genres_y</th>\n",
       "      <th>primaryName</th>\n",
       "    </tr>\n",
       "  </thead>\n",
       "  <tbody>\n",
       "  </tbody>\n",
       "</table>\n",
       "</div>"
      ],
      "text/plain": [
       "Empty DataFrame\n",
       "Columns: [imdb_id, original_title, titleType, genres_y, primaryName]\n",
       "Index: []"
      ]
     },
     "execution_count": 57,
     "metadata": {},
     "output_type": "execute_result"
    }
   ],
   "source": [
    "filmR = merge_filmR['imdb_id']\n",
    "nom_film = 'tt0113101'\n",
    "\n",
    "\n",
    "# Vérifier s'il existe dans dataset\n",
    "\n",
    "\n",
    "merge_filmR[merge_filmR['imdb_id'] == 'tt0113101o']"
   ]
  },
  {
   "cell_type": "code",
   "execution_count": 58,
   "metadata": {},
   "outputs": [
    {
     "ename": "KeyError",
     "evalue": "\"['startYear'] not in index\"",
     "output_type": "error",
     "traceback": [
      "\u001b[0;31m---------------------------------------------------------------------------\u001b[0m",
      "\u001b[0;31mKeyError\u001b[0m                                  Traceback (most recent call last)",
      "Cell \u001b[0;32mIn[58], line 2\u001b[0m\n\u001b[1;32m      1\u001b[0m caract_film \u001b[38;5;241m=\u001b[39m merge_filmR[merge_filmR[\u001b[38;5;124m'\u001b[39m\u001b[38;5;124mimdb_id\u001b[39m\u001b[38;5;124m'\u001b[39m] \u001b[38;5;241m==\u001b[39m \u001b[38;5;124m'\u001b[39m\u001b[38;5;124mtt0113101\u001b[39m\u001b[38;5;124m'\u001b[39m]\n\u001b[0;32m----> 2\u001b[0m caract_film \u001b[38;5;241m=\u001b[39m caract_film[caracteristiques]\n\u001b[1;32m      5\u001b[0m caract_film\n",
      "File \u001b[0;32m/Applications/anaconda3/lib/python3.12/site-packages/pandas/core/frame.py:4108\u001b[0m, in \u001b[0;36mDataFrame.__getitem__\u001b[0;34m(self, key)\u001b[0m\n\u001b[1;32m   4106\u001b[0m     \u001b[38;5;28;01mif\u001b[39;00m is_iterator(key):\n\u001b[1;32m   4107\u001b[0m         key \u001b[38;5;241m=\u001b[39m \u001b[38;5;28mlist\u001b[39m(key)\n\u001b[0;32m-> 4108\u001b[0m     indexer \u001b[38;5;241m=\u001b[39m \u001b[38;5;28mself\u001b[39m\u001b[38;5;241m.\u001b[39mcolumns\u001b[38;5;241m.\u001b[39m_get_indexer_strict(key, \u001b[38;5;124m\"\u001b[39m\u001b[38;5;124mcolumns\u001b[39m\u001b[38;5;124m\"\u001b[39m)[\u001b[38;5;241m1\u001b[39m]\n\u001b[1;32m   4110\u001b[0m \u001b[38;5;66;03m# take() does not accept boolean indexers\u001b[39;00m\n\u001b[1;32m   4111\u001b[0m \u001b[38;5;28;01mif\u001b[39;00m \u001b[38;5;28mgetattr\u001b[39m(indexer, \u001b[38;5;124m\"\u001b[39m\u001b[38;5;124mdtype\u001b[39m\u001b[38;5;124m\"\u001b[39m, \u001b[38;5;28;01mNone\u001b[39;00m) \u001b[38;5;241m==\u001b[39m \u001b[38;5;28mbool\u001b[39m:\n",
      "File \u001b[0;32m/Applications/anaconda3/lib/python3.12/site-packages/pandas/core/indexes/base.py:6200\u001b[0m, in \u001b[0;36mIndex._get_indexer_strict\u001b[0;34m(self, key, axis_name)\u001b[0m\n\u001b[1;32m   6197\u001b[0m \u001b[38;5;28;01melse\u001b[39;00m:\n\u001b[1;32m   6198\u001b[0m     keyarr, indexer, new_indexer \u001b[38;5;241m=\u001b[39m \u001b[38;5;28mself\u001b[39m\u001b[38;5;241m.\u001b[39m_reindex_non_unique(keyarr)\n\u001b[0;32m-> 6200\u001b[0m \u001b[38;5;28mself\u001b[39m\u001b[38;5;241m.\u001b[39m_raise_if_missing(keyarr, indexer, axis_name)\n\u001b[1;32m   6202\u001b[0m keyarr \u001b[38;5;241m=\u001b[39m \u001b[38;5;28mself\u001b[39m\u001b[38;5;241m.\u001b[39mtake(indexer)\n\u001b[1;32m   6203\u001b[0m \u001b[38;5;28;01mif\u001b[39;00m \u001b[38;5;28misinstance\u001b[39m(key, Index):\n\u001b[1;32m   6204\u001b[0m     \u001b[38;5;66;03m# GH 42790 - Preserve name from an Index\u001b[39;00m\n",
      "File \u001b[0;32m/Applications/anaconda3/lib/python3.12/site-packages/pandas/core/indexes/base.py:6252\u001b[0m, in \u001b[0;36mIndex._raise_if_missing\u001b[0;34m(self, key, indexer, axis_name)\u001b[0m\n\u001b[1;32m   6249\u001b[0m     \u001b[38;5;28;01mraise\u001b[39;00m \u001b[38;5;167;01mKeyError\u001b[39;00m(\u001b[38;5;124mf\u001b[39m\u001b[38;5;124m\"\u001b[39m\u001b[38;5;124mNone of [\u001b[39m\u001b[38;5;132;01m{\u001b[39;00mkey\u001b[38;5;132;01m}\u001b[39;00m\u001b[38;5;124m] are in the [\u001b[39m\u001b[38;5;132;01m{\u001b[39;00maxis_name\u001b[38;5;132;01m}\u001b[39;00m\u001b[38;5;124m]\u001b[39m\u001b[38;5;124m\"\u001b[39m)\n\u001b[1;32m   6251\u001b[0m not_found \u001b[38;5;241m=\u001b[39m \u001b[38;5;28mlist\u001b[39m(ensure_index(key)[missing_mask\u001b[38;5;241m.\u001b[39mnonzero()[\u001b[38;5;241m0\u001b[39m]]\u001b[38;5;241m.\u001b[39munique())\n\u001b[0;32m-> 6252\u001b[0m \u001b[38;5;28;01mraise\u001b[39;00m \u001b[38;5;167;01mKeyError\u001b[39;00m(\u001b[38;5;124mf\u001b[39m\u001b[38;5;124m\"\u001b[39m\u001b[38;5;132;01m{\u001b[39;00mnot_found\u001b[38;5;132;01m}\u001b[39;00m\u001b[38;5;124m not in index\u001b[39m\u001b[38;5;124m\"\u001b[39m)\n",
      "\u001b[0;31mKeyError\u001b[0m: \"['startYear'] not in index\""
     ]
    }
   ],
   "source": [
    "caract_film = merge_filmR[merge_filmR['imdb_id'] == 'tt0113101']\n",
    "caract_film = caract_film[caracteristiques]\n",
    "\n",
    "\n",
    "caract_film"
   ]
  },
  {
   "cell_type": "code",
   "execution_count": 59,
   "metadata": {},
   "outputs": [],
   "source": [
    "def encodage_predict(df_a_predire):\n",
    "  X_num = df_a_predire.select_dtypes('number')\n",
    "  X_cat = df_a_predire.select_dtypes(['object', 'category', 'string'])\n",
    "\n",
    "  X_num_SN = pd.DataFrame(SN.transform(X_num), columns=X_num.columns).reset_index(drop=True)\n",
    "\n",
    "  X_cat_dummies = pd.get_dummies(X_cat).reset_index(drop=True)\n",
    "  X_encoded_predire = pd.concat([X_num_SN, X_cat_dummies], axis=1)\n",
    "\n",
    "  df_predict = X_encoded_predire\n",
    "\n",
    "  # DataFrame vide qui a les mêmes colonnes que X_encoded\n",
    "  df_final = pd.DataFrame(columns=X_encoded.columns)\n",
    "\n",
    "  # On veut que le DataFrame ait le même nombre de lignes que df_predict\n",
    "  df_final = df_final.reindex(index=df_predict.index)\n",
    "  # On met tous les NaN à False\n",
    "  df_final = df_final.fillna(False)\n",
    "\n",
    "  # On parcourt chaque colonne de df_predict\n",
    "  # Si la colonne est présente dans X_encoded alors on la garde\n",
    "  # Sinon, on la met à False\n",
    "  for column in df_predict.columns:\n",
    "    if column in X_encoded.columns:\n",
    "      df_final[column] = df_predict[column]\n",
    "\n",
    "  return df_final"
   ]
  },
  {
   "cell_type": "code",
   "execution_count": 60,
   "metadata": {},
   "outputs": [],
   "source": [
    "def film_similaires(imdb_id):\n",
    "\n",
    "  # Vérifier si le Film existe dans le dataset\n",
    "  if imdb_id not in df_merge_recom22['imdb_id'].values:\n",
    "      return f\"Le Film {imdb_id } n'est pas dans le dataset.\"\n",
    "\n",
    "  # Récupérer les caractéristiques du Film\n",
    "  film = df_merge_recom22[df_merge_recom22['imdb_id'] == imdb_id ]\n",
    "\n",
    "  # Vérifier si le Film \n",
    "  if not film['imdb_id'].iloc[0]:\n",
    "      return f\"{imdb_id} n'est pas un Film.\"\n",
    "\n",
    "  # Je recopie ce qu'on a fait avant:\n",
    "  caract_film = df_merge_recom22[df_merge_recom22['imdb_id'] == imdb_id ][caracteristiques]\n",
    "\n",
    "  caract_film_encoded = encodage_predict(caract_film)\n",
    "\n",
    "  distances, indices = model.kneighbors(caract_film_encoded)\n",
    "\n",
    "  return df_merge_recom22.iloc[indices[0]].reset_index(drop=True)"
   ]
  },
  {
   "cell_type": "code",
   "execution_count": 61,
   "metadata": {},
   "outputs": [
    {
     "ename": "KeyError",
     "evalue": "\"['startYear'] not in index\"",
     "output_type": "error",
     "traceback": [
      "\u001b[0;31m---------------------------------------------------------------------------\u001b[0m",
      "\u001b[0;31mKeyError\u001b[0m                                  Traceback (most recent call last)",
      "Cell \u001b[0;32mIn[61], line 1\u001b[0m\n\u001b[0;32m----> 1\u001b[0m film_similaires(\u001b[38;5;124m'\u001b[39m\u001b[38;5;124mtt0113101\u001b[39m\u001b[38;5;124m'\u001b[39m)\n",
      "Cell \u001b[0;32mIn[60], line 15\u001b[0m, in \u001b[0;36mfilm_similaires\u001b[0;34m(imdb_id)\u001b[0m\n\u001b[1;32m     12\u001b[0m     \u001b[38;5;28;01mreturn\u001b[39;00m \u001b[38;5;124mf\u001b[39m\u001b[38;5;124m\"\u001b[39m\u001b[38;5;132;01m{\u001b[39;00mimdb_id\u001b[38;5;132;01m}\u001b[39;00m\u001b[38;5;124m n\u001b[39m\u001b[38;5;124m'\u001b[39m\u001b[38;5;124mest pas un Film.\u001b[39m\u001b[38;5;124m\"\u001b[39m\n\u001b[1;32m     14\u001b[0m \u001b[38;5;66;03m# Je recopie ce qu'on a fait avant:\u001b[39;00m\n\u001b[0;32m---> 15\u001b[0m caract_film \u001b[38;5;241m=\u001b[39m df_merge_recom22[df_merge_recom22[\u001b[38;5;124m'\u001b[39m\u001b[38;5;124mimdb_id\u001b[39m\u001b[38;5;124m'\u001b[39m] \u001b[38;5;241m==\u001b[39m imdb_id ][caracteristiques]\n\u001b[1;32m     17\u001b[0m caract_film_encoded \u001b[38;5;241m=\u001b[39m encodage_predict(caract_film)\n\u001b[1;32m     19\u001b[0m distances, indices \u001b[38;5;241m=\u001b[39m model\u001b[38;5;241m.\u001b[39mkneighbors(caract_film_encoded)\n",
      "File \u001b[0;32m/Applications/anaconda3/lib/python3.12/site-packages/pandas/core/frame.py:4108\u001b[0m, in \u001b[0;36mDataFrame.__getitem__\u001b[0;34m(self, key)\u001b[0m\n\u001b[1;32m   4106\u001b[0m     \u001b[38;5;28;01mif\u001b[39;00m is_iterator(key):\n\u001b[1;32m   4107\u001b[0m         key \u001b[38;5;241m=\u001b[39m \u001b[38;5;28mlist\u001b[39m(key)\n\u001b[0;32m-> 4108\u001b[0m     indexer \u001b[38;5;241m=\u001b[39m \u001b[38;5;28mself\u001b[39m\u001b[38;5;241m.\u001b[39mcolumns\u001b[38;5;241m.\u001b[39m_get_indexer_strict(key, \u001b[38;5;124m\"\u001b[39m\u001b[38;5;124mcolumns\u001b[39m\u001b[38;5;124m\"\u001b[39m)[\u001b[38;5;241m1\u001b[39m]\n\u001b[1;32m   4110\u001b[0m \u001b[38;5;66;03m# take() does not accept boolean indexers\u001b[39;00m\n\u001b[1;32m   4111\u001b[0m \u001b[38;5;28;01mif\u001b[39;00m \u001b[38;5;28mgetattr\u001b[39m(indexer, \u001b[38;5;124m\"\u001b[39m\u001b[38;5;124mdtype\u001b[39m\u001b[38;5;124m\"\u001b[39m, \u001b[38;5;28;01mNone\u001b[39;00m) \u001b[38;5;241m==\u001b[39m \u001b[38;5;28mbool\u001b[39m:\n",
      "File \u001b[0;32m/Applications/anaconda3/lib/python3.12/site-packages/pandas/core/indexes/base.py:6200\u001b[0m, in \u001b[0;36mIndex._get_indexer_strict\u001b[0;34m(self, key, axis_name)\u001b[0m\n\u001b[1;32m   6197\u001b[0m \u001b[38;5;28;01melse\u001b[39;00m:\n\u001b[1;32m   6198\u001b[0m     keyarr, indexer, new_indexer \u001b[38;5;241m=\u001b[39m \u001b[38;5;28mself\u001b[39m\u001b[38;5;241m.\u001b[39m_reindex_non_unique(keyarr)\n\u001b[0;32m-> 6200\u001b[0m \u001b[38;5;28mself\u001b[39m\u001b[38;5;241m.\u001b[39m_raise_if_missing(keyarr, indexer, axis_name)\n\u001b[1;32m   6202\u001b[0m keyarr \u001b[38;5;241m=\u001b[39m \u001b[38;5;28mself\u001b[39m\u001b[38;5;241m.\u001b[39mtake(indexer)\n\u001b[1;32m   6203\u001b[0m \u001b[38;5;28;01mif\u001b[39;00m \u001b[38;5;28misinstance\u001b[39m(key, Index):\n\u001b[1;32m   6204\u001b[0m     \u001b[38;5;66;03m# GH 42790 - Preserve name from an Index\u001b[39;00m\n",
      "File \u001b[0;32m/Applications/anaconda3/lib/python3.12/site-packages/pandas/core/indexes/base.py:6252\u001b[0m, in \u001b[0;36mIndex._raise_if_missing\u001b[0;34m(self, key, indexer, axis_name)\u001b[0m\n\u001b[1;32m   6249\u001b[0m     \u001b[38;5;28;01mraise\u001b[39;00m \u001b[38;5;167;01mKeyError\u001b[39;00m(\u001b[38;5;124mf\u001b[39m\u001b[38;5;124m\"\u001b[39m\u001b[38;5;124mNone of [\u001b[39m\u001b[38;5;132;01m{\u001b[39;00mkey\u001b[38;5;132;01m}\u001b[39;00m\u001b[38;5;124m] are in the [\u001b[39m\u001b[38;5;132;01m{\u001b[39;00maxis_name\u001b[38;5;132;01m}\u001b[39;00m\u001b[38;5;124m]\u001b[39m\u001b[38;5;124m\"\u001b[39m)\n\u001b[1;32m   6251\u001b[0m not_found \u001b[38;5;241m=\u001b[39m \u001b[38;5;28mlist\u001b[39m(ensure_index(key)[missing_mask\u001b[38;5;241m.\u001b[39mnonzero()[\u001b[38;5;241m0\u001b[39m]]\u001b[38;5;241m.\u001b[39munique())\n\u001b[0;32m-> 6252\u001b[0m \u001b[38;5;28;01mraise\u001b[39;00m \u001b[38;5;167;01mKeyError\u001b[39;00m(\u001b[38;5;124mf\u001b[39m\u001b[38;5;124m\"\u001b[39m\u001b[38;5;132;01m{\u001b[39;00mnot_found\u001b[38;5;132;01m}\u001b[39;00m\u001b[38;5;124m not in index\u001b[39m\u001b[38;5;124m\"\u001b[39m)\n",
      "\u001b[0;31mKeyError\u001b[0m: \"['startYear'] not in index\""
     ]
    }
   ],
   "source": [
    "film_similaires('tt0113101')"
   ]
  },
  {
   "cell_type": "code",
   "execution_count": null,
   "metadata": {},
   "outputs": [],
   "source": [
    "encodage_predict(df_merge_recom22)"
   ]
  },
  {
   "cell_type": "code",
   "execution_count": null,
   "metadata": {},
   "outputs": [],
   "source": []
  },
  {
   "cell_type": "code",
   "execution_count": null,
   "metadata": {},
   "outputs": [],
   "source": []
  }
 ],
 "metadata": {
  "kernelspec": {
   "display_name": "base",
   "language": "python",
   "name": "python3"
  },
  "language_info": {
   "codemirror_mode": {
    "name": "ipython",
    "version": 3
   },
   "file_extension": ".py",
   "mimetype": "text/x-python",
   "name": "python",
   "nbconvert_exporter": "python",
   "pygments_lexer": "ipython3",
   "version": "3.12.4"
  }
 },
 "nbformat": 4,
 "nbformat_minor": 2
}
