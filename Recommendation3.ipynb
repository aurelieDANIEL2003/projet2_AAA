{
 "cells": [
  {
   "cell_type": "code",
   "execution_count": 1,
   "metadata": {},
   "outputs": [],
   "source": [
    "import pandas as pd\n",
    "import numpy as np\n",
    "import warnings\n",
    "import seaborn as sns\n",
    "import matplotlib.pyplot as plt"
   ]
  },
  {
   "cell_type": "code",
   "execution_count": 2,
   "metadata": {},
   "outputs": [],
   "source": [
    "warnings.filterwarnings(\"ignore\")\n",
    "from sklearn.preprocessing import StandardScaler\n",
    "from sklearn.model_selection import train_test_split"
   ]
  },
  {
   "cell_type": "code",
   "execution_count": 3,
   "metadata": {},
   "outputs": [],
   "source": [
    "# Modèles\n",
    "from sklearn.linear_model import LogisticRegression\n",
    "from sklearn.tree import DecisionTreeClassifier\n",
    "from sklearn.ensemble import RandomForestClassifier\n",
    "from sklearn.neighbors import KNeighborsClassifier\n",
    "from sklearn.neighbors import NearestNeighbors\n",
    "\n",
    "# Ce dont on a besoin\n",
    "from sklearn.metrics import accuracy_score, precision_score, recall_score, f1_score\n",
    "from sklearn.model_selection import cross_val_score, GridSearchCV"
   ]
  },
  {
   "cell_type": "code",
   "execution_count": 4,
   "metadata": {},
   "outputs": [],
   "source": [
    "from sklearn.model_selection import train_test_split, StratifiedKFold\n",
    "from sklearn.linear_model import LogisticRegression"
   ]
  },
  {
   "cell_type": "code",
   "execution_count": 5,
   "metadata": {},
   "outputs": [],
   "source": [
    "chemin_bd = r\"./bd_ignore/\""
   ]
  },
  {
   "cell_type": "code",
   "execution_count": 20,
   "metadata": {},
   "outputs": [],
   "source": [
    "df_merge_recom22 = pd.read_csv(chemin_bd+\"resultat2/df_merge_recom21.csv\")"
   ]
  },
  {
   "cell_type": "code",
   "execution_count": null,
   "metadata": {},
   "outputs": [],
   "source": [
    "df_merge_recom22 =df_merge_recom22.drop(columns=['startYear','homepage','overview','poster_path'])"
   ]
  },
  {
   "cell_type": "code",
   "execution_count": null,
   "metadata": {},
   "outputs": [],
   "source": [
    "df_merge_recom22 = df_merge_recom22.fillna('None')"
   ]
  },
  {
   "cell_type": "code",
   "execution_count": 22,
   "metadata": {},
   "outputs": [],
   "source": [
    "merge_filmR = df_merge_recom22[df_merge_recom22['titleType'] == 'movie']\n",
    "merge_serieR = df_merge_recom22[df_merge_recom22['titleType'] == 'tvSeries']"
   ]
  },
  {
   "cell_type": "code",
   "execution_count": null,
   "metadata": {},
   "outputs": [],
   "source": [
    "agg_df = df_merge_recom22.groupby(['original_title'])['primaryName'].agg(list).reset_index()\n",
    "agg_df"
   ]
  },
  {
   "cell_type": "code",
   "execution_count": null,
   "metadata": {},
   "outputs": [],
   "source": [
    "# Agrégation de primaryName par original_title\n",
    "#agg_df = df_merge_recom22.groupby(['original_title'])['primaryName'].agg(list).reset_index()\n",
    "\n",
    "# Merge pour conserver toutes les colonnes originales\n",
    "df_merge_recom22 = df_merge_recom22.drop_duplicates(subset=['original_title']).merge(agg_df, on='original_title', how='left')\n",
    "\n",
    "# Transformation de genres_y en listes\n",
    "df_merge_recom22['genres_liste'] = df_merge_recom22['genres_y'].apply(lambda x: x.split(\",\"))"
   ]
  },
  {
   "cell_type": "code",
   "execution_count": null,
   "metadata": {},
   "outputs": [],
   "source": [
    "# Initialisation des ensembles pour contenir tous les genres et tous les noms\n",
    "tous_les_genres = set()\n",
    "#tous_les_acteurs = set()\n",
    "\n",
    "# Mise à jour de l'ensemble des genres\n",
    "for genres in df_merge_recom22['genres_liste']:\n",
    "    tous_les_genres.update(genres)\n",
    "\n",
    "# Mise à jour de l'ensemble des acteurs\n",
    "#for acteurs in df_merge_recom22['primaryName_y']:\n",
    "    #tous_les_acteurs.update(acteurs)"
   ]
  },
  {
   "cell_type": "code",
   "execution_count": null,
   "metadata": {},
   "outputs": [],
   "source": [
    "# Création de colonnes binaires pour chaque genre\n",
    "for genre in tous_les_genres:\n",
    "    df_merge_recom22[f'genre_{genre}'] = df_merge_recom22['genres_liste'].apply(lambda x: genre in x)"
   ]
  },
  {
   "cell_type": "code",
   "execution_count": null,
   "metadata": {},
   "outputs": [],
   "source": [
    "from sklearn.preprocessing import MultiLabelBinarizer\n",
    "from scipy.sparse import csr_matrix\n",
    "\n",
    "# Initialiser le MultiLabelBinarizer\n",
    "mlb = MultiLabelBinarizer(sparse_output=True)\n",
    "\n",
    "# Appliquer la transformation\n",
    "sparse_binarized_data = mlb.fit_transform(df_merge_recom22['primaryName_y'])\n",
    "\n",
    "# Convertir en DataFrame sparse si nécessaire\n",
    "binarized_df = pd.DataFrame.sparse.from_spmatrix(\n",
    "    sparse_binarized_data, columns=[f'acteur_{actor}' for actor in mlb.classes_]\n",
    ")\n",
    "\n",
    "# Fusionner avec le DataFrame original\n",
    "df_merge_recom22 = pd.concat([df_merge_recom22.reset_index(drop=True), binarized_df.reset_index(drop=True)], axis=1)\n",
    "\n"
   ]
  },
  {
   "cell_type": "code",
   "execution_count": null,
   "metadata": {},
   "outputs": [],
   "source": [
    "df_merge_recom22.columns"
   ]
  },
  {
   "cell_type": "code",
   "execution_count": null,
   "metadata": {},
   "outputs": [],
   "source": [
    "def encodage_X(X, type='standard'):\n",
    "  index = X.index\n",
    "  X_num = X.select_dtypes('number')\n",
    "  X_cat = X.select_dtypes(['object', 'category', 'string'])\n",
    "  # Comme ça les dates, on n'y touche pas\n",
    "\n",
    "  if type == 'standard':\n",
    "    from sklearn.preprocessing import StandardScaler\n",
    "    SN = StandardScaler()\n",
    "    X_num_SN = pd.DataFrame(SN.fit_transform(X_num), columns=X_num.columns, index=index)\n",
    "\n",
    "  else:\n",
    "    from sklearn.preprocessing import MinMaxScaler\n",
    "    SN = MinMaxScaler()\n",
    "    X_num_SN = pd.DataFrame(SN.fit_transform(X_num), columns=X_num.columns, index=index)\n",
    "\n",
    "  X_cat_dummies = pd.get_dummies(X_cat)\n",
    "  X_encoded = pd.concat([X_num_SN, X_cat_dummies], axis=1)\n"
   ]
  },
  {
   "cell_type": "code",
   "execution_count": null,
   "metadata": {},
   "outputs": [],
   "source": [
    "X_encoded, SN = encodage_X(X, type='normalisation')\n",
    "X_encoded"
   ]
  },
  {
   "cell_type": "code",
   "execution_count": null,
   "metadata": {},
   "outputs": [],
   "source": [
    "agg_df"
   ]
  },
  {
   "cell_type": "code",
   "execution_count": null,
   "metadata": {},
   "outputs": [],
   "source": [
    "X_encoded_m = pd.concat([X_encoded,agg_df], axis=1)"
   ]
  },
  {
   "cell_type": "code",
   "execution_count": null,
   "metadata": {},
   "outputs": [],
   "source": [
    "def evaluate_k(X_encoded, k_range):\n",
    "    \"\"\"\n",
    "    Évalue différentes valeurs de k en utilisant la somme des distances aux voisins\n",
    "    et le score de silhouette comme métriques.\n",
    "\n",
    "    Args:\n",
    "        X_encoded (DataFrame): Données normalisées\n",
    "        k_range (range): Plage de valeurs de k à tester\n",
    "\n",
    "    Returns:\n",
    "        tuple: (distances moyennes, scores de silhouette)\n",
    "    \"\"\"\n",
    "    from sklearn.metrics import silhouette_score\n",
    "    from sklearn.cluster import KMeans\n",
    "\n",
    "    avg_distances = []\n",
    "    silhouette_scores = []\n",
    "\n",
    "    for k in k_range:\n",
    "        # Calcul des distances moyennes pour chaque k\n",
    "        model = NearestNeighbors(n_neighbors=k)\n",
    "        model.fit(X_encoded)\n",
    "        distances, _ = model.kneighbors(X_encoded)\n",
    "        avg_distances.append(np.mean(distances))\n",
    "\n",
    "        # Calcul du score de silhouette\n",
    "        # Nous utilisons KMeans pour créer des clusters et évaluer la qualité\n",
    "        kmeans = KMeans(n_clusters=k, random_state=42)\n",
    "        clusters = kmeans.fit_predict(X_encoded)\n",
    "        if k > 1:  # Le score de silhouette nécessite au moins 2 clusters\n",
    "            silhouette_scores.append(silhouette_score(X_encoded, clusters))\n",
    "        else:\n",
    "            silhouette_scores.append(0)\n",
    "\n",
    "    return avg_distances, silhouette_scores"
   ]
  },
  {
   "cell_type": "code",
   "execution_count": null,
   "metadata": {},
   "outputs": [],
   "source": [
    "# Définition de la plage de k à tester\n",
    "k_range = range(1, 21)  # Test des valeurs de k de 1 à 20\n",
    "\n",
    "# Évaluation des différentes valeurs de k\n",
    "avg_distances, silhouette_scores = evaluate_k(X_encoded, k_range)\n",
    "\n",
    "# Création d'une visualisation pour aider à choisir k\n",
    "plt.figure(figsize=(12, 5))\n",
    "\n",
    "# Premier graphique : Distance moyenne aux voisins\n",
    "plt.subplot(1, 2, 1)\n",
    "plt.plot(k_range, avg_distances, 'bo-')\n",
    "plt.xlabel('Nombre de voisins (k)')\n",
    "plt.ylabel('Distance moyenne aux voisins')\n",
    "plt.title('Distance moyenne en fonction de k')\n",
    "plt.grid(True)\n",
    "\n",
    "# Second graphique : Score de silhouette\n",
    "plt.subplot(1, 2, 2)\n",
    "plt.plot(k_range[1:], silhouette_scores[1:], 'ro-')  # On commence à k=2\n",
    "plt.xlabel('Nombre de voisins (k)')\n",
    "plt.ylabel('Score de silhouette')\n",
    "plt.title('Score de silhouette en fonction de k')\n",
    "plt.grid(True)\n",
    "\n",
    "plt.tight_layout()\n",
    "plt.show()"
   ]
  },
  {
   "cell_type": "code",
   "execution_count": null,
   "metadata": {},
   "outputs": [],
   "source": [
    "# On choisit k\n",
    "k=6\n",
    "\n",
    "model = NearestNeighbors(n_neighbors=k, metric='euclidean')\n",
    "model.fit(X_encoded)"
   ]
  },
  {
   "cell_type": "code",
   "execution_count": null,
   "metadata": {},
   "outputs": [],
   "source": []
  },
  {
   "cell_type": "code",
   "execution_count": null,
   "metadata": {},
   "outputs": [],
   "source": [
    "df_merge_recom22.sample(3)"
   ]
  },
  {
   "cell_type": "code",
   "execution_count": null,
   "metadata": {},
   "outputs": [],
   "source": []
  },
  {
   "cell_type": "code",
   "execution_count": null,
   "metadata": {},
   "outputs": [],
   "source": []
  },
  {
   "cell_type": "code",
   "execution_count": null,
   "metadata": {},
   "outputs": [],
   "source": []
  },
  {
   "cell_type": "code",
   "execution_count": null,
   "metadata": {},
   "outputs": [],
   "source": [
    "# Affichage d'un échantillon de 3 lignes\n",
    "df_merge_recom22.sample(3)"
   ]
  },
  {
   "cell_type": "code",
   "execution_count": null,
   "metadata": {},
   "outputs": [],
   "source": []
  },
  {
   "cell_type": "code",
   "execution_count": null,
   "metadata": {},
   "outputs": [],
   "source": [
    "#Encodage\n",
    "def encodage_X(X, type='standard'):\n",
    "  index = X.index\n",
    "  X_num = X.select_dtypes('number')\n",
    "  X_cat = X.select_dtypes(['object', 'category', 'string'])\n",
    "  # Comme ça les dates, on n'y touche pas\n",
    "\n",
    "  if type == 'standard':\n",
    "    from sklearn.preprocessing import StandardScaler\n",
    "    SN = StandardScaler()\n",
    "    X_num_SN = pd.DataFrame(SN.fit_transform(X_num), columns=X_num.columns, index=index)\n",
    "\n",
    "  else:\n",
    "    from sklearn.preprocessing import MinMaxScaler\n",
    "    SN = MinMaxScaler()\n",
    "    X_num_SN = pd.DataFrame(SN.fit_transform(X_num), columns=X_num.columns, index=index)\n",
    "\n",
    "  X_cat_dummies = pd.get_dummies(X_cat)\n",
    "  X_encoded = pd.concat([X_num_SN, X_cat_dummies], axis=1)\n",
    "\n",
    "  return X_encoded, SN"
   ]
  },
  {
   "cell_type": "code",
   "execution_count": null,
   "metadata": {},
   "outputs": [],
   "source": []
  },
  {
   "cell_type": "code",
   "execution_count": null,
   "metadata": {},
   "outputs": [],
   "source": [
    "len(tous_les_genres)\n",
    "len(tous_les_acteurs)\n",
    "df_merge_recom22.info()"
   ]
  },
  {
   "cell_type": "code",
   "execution_count": null,
   "metadata": {},
   "outputs": [],
   "source": []
  },
  {
   "cell_type": "code",
   "execution_count": null,
   "metadata": {},
   "outputs": [],
   "source": []
  },
  {
   "cell_type": "code",
   "execution_count": null,
   "metadata": {},
   "outputs": [],
   "source": []
  },
  {
   "cell_type": "code",
   "execution_count": null,
   "metadata": {},
   "outputs": [],
   "source": []
  },
  {
   "cell_type": "code",
   "execution_count": null,
   "metadata": {},
   "outputs": [],
   "source": []
  },
  {
   "cell_type": "code",
   "execution_count": null,
   "metadata": {},
   "outputs": [],
   "source": []
  },
  {
   "cell_type": "code",
   "execution_count": null,
   "metadata": {},
   "outputs": [],
   "source": []
  },
  {
   "cell_type": "code",
   "execution_count": null,
   "metadata": {},
   "outputs": [],
   "source": [
    "df_merge_recom22.columns"
   ]
  },
  {
   "cell_type": "code",
   "execution_count": null,
   "metadata": {},
   "outputs": [],
   "source": [
    "type(df_merge_recom22['genres_y'].unique())\n",
    "list(df_merge_recom22['genres_y'].unique())\n",
    "df_merge_recom22.info()"
   ]
  },
  {
   "cell_type": "code",
   "execution_count": null,
   "metadata": {},
   "outputs": [],
   "source": [
    "list(df_merge_recom22['genres_y'].unique())\n",
    "len(list(df_merge_recom22['genres_y'].unique()))"
   ]
  },
  {
   "cell_type": "code",
   "execution_count": null,
   "metadata": {},
   "outputs": [],
   "source": [
    "df_merge_recom22.isna().sum()"
   ]
  },
  {
   "cell_type": "code",
   "execution_count": null,
   "metadata": {},
   "outputs": [],
   "source": [
    "df_merge_recom22['genres_y'].unique()"
   ]
  },
  {
   "cell_type": "code",
   "execution_count": null,
   "metadata": {},
   "outputs": [],
   "source": [
    "list(df_merge_recom22['genres_y'].unique())"
   ]
  },
  {
   "cell_type": "code",
   "execution_count": null,
   "metadata": {},
   "outputs": [],
   "source": [
    "df_merge_recom22['startYear'] = df_merge_recom22['startYear'].fillna('None')\n",
    "df_merge_recom22['genres_y'] = df_merge_recom22['genres_y'].fillna('None')\n",
    "df_merge_recom22 = df_merge_recom22.fillna('None')"
   ]
  },
  {
   "cell_type": "code",
   "execution_count": null,
   "metadata": {},
   "outputs": [],
   "source": [
    "#df_merge_recom22[df_merge_recom22['genres_y'] == '\\\\N']"
   ]
  },
  {
   "cell_type": "code",
   "execution_count": null,
   "metadata": {},
   "outputs": [],
   "source": [
    "import ast"
   ]
  },
  {
   "cell_type": "code",
   "execution_count": null,
   "metadata": {},
   "outputs": [],
   "source": [
    "df_merge_recom22['genres_liste'] = df_merge_recom22['genres_y'].apply(lambda x: x.split(\",\"))"
   ]
  },
  {
   "cell_type": "code",
   "execution_count": null,
   "metadata": {},
   "outputs": [],
   "source": [
    "df_merge_recom22['genres_liste']"
   ]
  },
  {
   "cell_type": "code",
   "execution_count": null,
   "metadata": {},
   "outputs": [],
   "source": [
    "# def transfo_liste(x):\n",
    "#   if isinstance(x, str):\n",
    "#     return ast.literal_eval(x)\n",
    "#   else:\n",
    "#     return x\n",
    "\n",
    "# -> fonction de jo "
   ]
  },
  {
   "cell_type": "code",
   "execution_count": null,
   "metadata": {},
   "outputs": [],
   "source": [
    "# transformer la colonne genre en liste\n",
    "#df_merge_recom22['genres_liste'] = df_merge_recom22['genres_liste'].apply(transfo_liste)\n",
    "#df_merge_recom22.sample(5)\n",
    "# je force la colonne genre_liste à n'être que des listes"
   ]
  },
  {
   "cell_type": "code",
   "execution_count": null,
   "metadata": {},
   "outputs": [],
   "source": [
    "tous_les_genres = set()"
   ]
  },
  {
   "cell_type": "code",
   "execution_count": null,
   "metadata": {},
   "outputs": [],
   "source": [
    "tous_les_genres = set()\n",
    "for genres in df_merge_recom22['genres_liste']:\n",
    "  tous_les_genres.update(genres)\n",
    "\n",
    "tous_les_genres\n",
    "#ensemble qui contient tous mes genres"
   ]
  },
  {
   "cell_type": "code",
   "execution_count": null,
   "metadata": {},
   "outputs": [],
   "source": [
    "len(tous_les_genres)"
   ]
  },
  {
   "cell_type": "code",
   "execution_count": null,
   "metadata": {},
   "outputs": [],
   "source": [
    "for genre in tous_les_genres:\n",
    "  df_merge_recom22[f'genre_{genre}'] = df_merge_recom22['genres_liste'].apply(lambda x: genre in x)\n",
    "\n",
    "df_merge_recom22.sample(3)"
   ]
  },
  {
   "cell_type": "code",
   "execution_count": null,
   "metadata": {},
   "outputs": [],
   "source": [
    "#df avec tous les genres en booleens\n",
    "\n",
    "df_merge_recom22.head(5)"
   ]
  },
  {
   "cell_type": "code",
   "execution_count": null,
   "metadata": {},
   "outputs": [],
   "source": [
    "df_merge_recom22.info()"
   ]
  },
  {
   "cell_type": "code",
   "execution_count": null,
   "metadata": {},
   "outputs": [],
   "source": [
    "caracteristiques = ['titleType', 'startYear']"
   ]
  },
  {
   "cell_type": "code",
   "execution_count": null,
   "metadata": {},
   "outputs": [],
   "source": [
    "X_genre = df_merge_recom22.select_dtypes(['bool'])\n",
    "X_genre"
   ]
  },
  {
   "cell_type": "code",
   "execution_count": null,
   "metadata": {},
   "outputs": [],
   "source": [
    "X_genrecopy = X_genre.copy()"
   ]
  },
  {
   "cell_type": "code",
   "execution_count": null,
   "metadata": {},
   "outputs": [],
   "source": [
    "def encodage_X(X, type='standard'):\n",
    "  index = X.index\n",
    "  X_num = X.select_dtypes('number')\n",
    "  X_cat = X.select_dtypes(['object', 'category', 'string'])\n",
    "  #X_genrecopy = df_merge_recom22.select_dtypes(['bool'])\n",
    "  # Comme ça les dates, on n'y touche pas\n",
    "\n",
    "  if type == 'standard':\n",
    "    from sklearn.preprocessing import StandardScaler\n",
    "    SN = StandardScaler()\n",
    "    X_num_SN = pd.DataFrame(SN.fit_transform(X_num), columns=X_num.columns, index=index)\n",
    "\n",
    "  else:\n",
    "    from sklearn.preprocessing import MinMaxScaler\n",
    "    SN = MinMaxScaler()\n",
    "    X_num_SN = pd.DataFrame(SN.fit_transform(X_num), columns=X_num.columns, index=index)\n",
    "\n",
    "  X_cat_dummies = pd.get_dummies(X_cat)\n",
    "  X_encoded = pd.concat([X_num_SN, X_cat_dummies], axis=1)\n",
    "  #X_encoded = pd.concat([X_num_SN, X_genre], axis=1)\n",
    "\n",
    "  return X_encoded, SN"
   ]
  },
  {
   "cell_type": "code",
   "execution_count": null,
   "metadata": {},
   "outputs": [],
   "source": [
    "X_encoded, SN = encodage_X(X, type='normalisation')"
   ]
  },
  {
   "cell_type": "code",
   "execution_count": null,
   "metadata": {},
   "outputs": [],
   "source": [
    "def evaluate_k(X_encoded, k_range):\n",
    "    \"\"\"\n",
    "    Évalue différentes valeurs de k en utilisant la somme des distances aux voisins\n",
    "    et le score de silhouette comme métriques.\n",
    "\n",
    "\n",
    "    Args:\n",
    "        X_encoded (DataFrame): Données normalisées\n",
    "        k_range (range): Plage de valeurs de k à tester\n",
    "\n",
    "\n",
    "    Returns:\n",
    "        tuple: (distances moyennes, scores de silhouette)\n",
    "    \"\"\"\n",
    "    from sklearn.metrics import silhouette_score\n",
    "    from sklearn.cluster import KMeans\n",
    "\n",
    "\n",
    "    avg_distances = []\n",
    "    silhouette_scores = []\n",
    "\n",
    "\n",
    "    for k in k_range:\n",
    "        # Calcul des distances moyennes pour chaque k\n",
    "        model = NearestNeighbors(n_neighbors=k)\n",
    "        model.fit(X_encoded)\n",
    "        distances, _ = model.kneighbors(X_encoded)\n",
    "        avg_distances.append(np.mean(distances))\n",
    "\n",
    "\n",
    "        # Calcul du score de silhouette\n",
    "        # Nous utilisons KMeans pour créer des clusters et évaluer la qualité\n",
    "        kmeans = KMeans(n_clusters=k, random_state=42)\n",
    "        clusters = kmeans.fit_predict(X_encoded)\n",
    "        if k > 1:  # Le score de silhouette nécessite au moins 2 clusters\n",
    "            silhouette_scores.append(silhouette_score(X_encoded, clusters))\n",
    "        else:\n",
    "            silhouette_scores.append(0)\n",
    "\n",
    "\n",
    "    return avg_distances, silhouette_scores"
   ]
  },
  {
   "cell_type": "code",
   "execution_count": null,
   "metadata": {},
   "outputs": [],
   "source": [
    "merge_filmR"
   ]
  },
  {
   "cell_type": "code",
   "execution_count": null,
   "metadata": {},
   "outputs": [],
   "source": [
    "model = NearestNeighbors(n_neighbors=k, metric='euclidean')"
   ]
  },
  {
   "cell_type": "code",
   "execution_count": null,
   "metadata": {},
   "outputs": [],
   "source": [
    "filmR = merge_filmR['imdb_id']\n",
    "nom_film = 'tt0113101'\n",
    "\n",
    "\n",
    "# Vérifier s'il existe dans dataset\n",
    "\n",
    "\n",
    "merge_filmR[merge_filmR['imdb_id'] == 'tt0113101o']"
   ]
  },
  {
   "cell_type": "code",
   "execution_count": null,
   "metadata": {},
   "outputs": [],
   "source": [
    "caract_film = merge_filmR[merge_filmR['imdb_id'] == 'tt0113101']\n",
    "caract_film = caract_film[caracteristiques]\n",
    "\n",
    "\n",
    "caract_film\n"
   ]
  },
  {
   "cell_type": "code",
   "execution_count": null,
   "metadata": {},
   "outputs": [],
   "source": [
    "def film_similaire(nom_film):\n",
    "\n",
    "\n",
    "  # Vérifier si le film existe dans le dataset\n",
    "  if nom_film not in merge_filmR['imdb_id'].values:\n",
    "      return f\"Le film numero {nom_film} n'est pas dans le dataset.\"\n",
    "\n",
    "\n",
    "  # Récupérer les caractéristiques du Pokémon\n",
    "  filmC = merge_filmR[merge_filmR['imdb_id'] == nom_film]\n",
    "\n",
    "\n",
    "  # Vérifier si le Pokémon est légendaire\n",
    "  if not merge_filmR['imdb_id'].iloc[0]:\n",
    "      return f\"{nom_film} n'est pas un film dans le dataset.\"\n",
    "\n",
    "\n",
    "  # Je recopie ce qu'on a fait avant:\n",
    "  caract_film = merge_filmR[merge_filmR['imdb_id'] == nom_film][caracteristiques]\n",
    "\n",
    "\n",
    "  caract_film_encoded = encodage_predict(caract_film)\n",
    "\n",
    "\n",
    "  distances, indices = model.kneighbors(caract_film_encoded)\n",
    "\n",
    "\n",
    "  return merge_filmR.iloc[indices[0]].reset_index(drop=True)"
   ]
  },
  {
   "cell_type": "code",
   "execution_count": null,
   "metadata": {},
   "outputs": [],
   "source": []
  },
  {
   "cell_type": "code",
   "execution_count": null,
   "metadata": {},
   "outputs": [],
   "source": []
  },
  {
   "cell_type": "code",
   "execution_count": null,
   "metadata": {},
   "outputs": [],
   "source": [
    "index = X.index\n",
    "X_num = X.select_dtypes('number')\n",
    "X_cat = X.select_dtypes(['object', 'category', 'string'])"
   ]
  },
  {
   "cell_type": "code",
   "execution_count": null,
   "metadata": {},
   "outputs": [],
   "source": [
    "from sklearn.preprocessing import MinMaxScaler\n",
    "SN = MinMaxScaler()\n",
    "X_num_SN = pd.DataFrame(SN.fit_transform(X_num), columns=X_num.columns, index=index)"
   ]
  },
  {
   "cell_type": "code",
   "execution_count": null,
   "metadata": {},
   "outputs": [],
   "source": []
  },
  {
   "cell_type": "code",
   "execution_count": null,
   "metadata": {},
   "outputs": [],
   "source": []
  },
  {
   "cell_type": "code",
   "execution_count": null,
   "metadata": {},
   "outputs": [],
   "source": []
  },
  {
   "cell_type": "code",
   "execution_count": null,
   "metadata": {},
   "outputs": [],
   "source": []
  },
  {
   "cell_type": "code",
   "execution_count": null,
   "metadata": {},
   "outputs": [],
   "source": []
  },
  {
   "cell_type": "code",
   "execution_count": null,
   "metadata": {},
   "outputs": [],
   "source": []
  },
  {
   "cell_type": "code",
   "execution_count": null,
   "metadata": {},
   "outputs": [],
   "source": []
  },
  {
   "cell_type": "code",
   "execution_count": null,
   "metadata": {},
   "outputs": [],
   "source": [
    "X = merge_filmR[caracteristiques]\n",
    "# ne prend que les colonnes qui sont dans caracteristiques\n",
    "\n",
    "X_encoded, SN = encodage_X(X, type='normalisation')"
   ]
  },
  {
   "cell_type": "code",
   "execution_count": null,
   "metadata": {},
   "outputs": [],
   "source": [
    "X_encoded"
   ]
  },
  {
   "cell_type": "code",
   "execution_count": null,
   "metadata": {},
   "outputs": [],
   "source": [
    "X"
   ]
  },
  {
   "cell_type": "code",
   "execution_count": null,
   "metadata": {},
   "outputs": [],
   "source": [
    "X['titleType'].unique()"
   ]
  },
  {
   "cell_type": "code",
   "execution_count": null,
   "metadata": {},
   "outputs": [],
   "source": [
    "df_merge_recom22.info()"
   ]
  },
  {
   "cell_type": "code",
   "execution_count": null,
   "metadata": {},
   "outputs": [],
   "source": [
    "def evaluate_k(X_encoded, k_range):\n",
    "    \"\"\"\n",
    "    Évalue différentes valeurs de k en utilisant la somme des distances aux voisins\n",
    "    et le score de silhouette comme métriques.\n",
    "\n",
    "    Args:\n",
    "        X_encoded (DataFrame): Données normalisées\n",
    "        k_range (range): Plage de valeurs de k à tester\n",
    "\n",
    "    Returns:\n",
    "        tuple: (distances moyennes, scores de silhouette)\n",
    "    \"\"\"\n",
    "    from sklearn.metrics import silhouette_score\n",
    "    from sklearn.cluster import KMeans\n",
    "\n",
    "    avg_distances = []\n",
    "    silhouette_scores = []\n",
    "\n",
    "    for k in k_range:\n",
    "        # Calcul des distances moyennes pour chaque k\n",
    "        model = NearestNeighbors(n_neighbors=k)\n",
    "        model.fit(X_encoded)\n",
    "        distances, _ = model.kneighbors(X_encoded)\n",
    "        avg_distances.append(np.mean(distances))\n",
    "\n",
    "        # Calcul du score de silhouette\n",
    "        # Nous utilisons KMeans pour créer des clusters et évaluer la qualité\n",
    "        kmeans = KMeans(n_clusters=k, random_state=42)\n",
    "        clusters = kmeans.fit_predict(X_encoded)\n",
    "        if k > 1:  # Le score de silhouette nécessite au moins 2 clusters\n",
    "            silhouette_scores.append(silhouette_score(X_encoded, clusters))\n",
    "        else:\n",
    "            silhouette_scores.append(0)\n",
    "\n",
    "    return avg_distances, silhouette_scores"
   ]
  },
  {
   "cell_type": "code",
   "execution_count": null,
   "metadata": {},
   "outputs": [],
   "source": [
    "#evaluate_k(X_encoded, k_range)\n",
    "k_range = range(1, 21)  # Test des valeurs de k de 1 à 20"
   ]
  },
  {
   "cell_type": "code",
   "execution_count": null,
   "metadata": {},
   "outputs": [],
   "source": [
    "X_encoded"
   ]
  },
  {
   "cell_type": "code",
   "execution_count": null,
   "metadata": {},
   "outputs": [],
   "source": [
    "#evaluate_k(X_encoded, k_range)"
   ]
  },
  {
   "cell_type": "code",
   "execution_count": null,
   "metadata": {},
   "outputs": [],
   "source": [
    "# On choisit k\n",
    "k=6\n",
    "\n",
    "model = NearestNeighbors(n_neighbors=k, metric='euclidean')\n",
    "#model.fit(X_encoded)"
   ]
  },
  {
   "cell_type": "code",
   "execution_count": null,
   "metadata": {},
   "outputs": [],
   "source": [
    "filmR = merge_filmR['imdb_id']\n",
    "nom_film = 'tt0113101'\n",
    "\n",
    "\n",
    "# Vérifier s'il existe dans dataset\n",
    "\n",
    "\n",
    "merge_filmR[merge_filmR['imdb_id'] == 'tt0113101o']"
   ]
  },
  {
   "cell_type": "code",
   "execution_count": null,
   "metadata": {},
   "outputs": [],
   "source": [
    "caract_film = merge_filmR[merge_filmR['imdb_id'] == 'tt0113101']\n",
    "caract_film = caract_film[caracteristiques]\n",
    "\n",
    "\n",
    "caract_film"
   ]
  },
  {
   "cell_type": "code",
   "execution_count": null,
   "metadata": {},
   "outputs": [],
   "source": [
    "def encodage_predict(df_a_predire):\n",
    "  X_num = df_a_predire.select_dtypes('number')\n",
    "  X_cat = df_a_predire.select_dtypes(['object', 'category', 'string'])\n",
    "\n",
    "  X_num_SN = pd.DataFrame(SN.transform(X_num), columns=X_num.columns).reset_index(drop=True)\n",
    "\n",
    "  X_cat_dummies = pd.get_dummies(X_cat).reset_index(drop=True)\n",
    "  X_encoded_predire = pd.concat([X_num_SN, X_cat_dummies], axis=1)\n",
    "\n",
    "  df_predict = X_encoded_predire\n",
    "\n",
    "  # DataFrame vide qui a les mêmes colonnes que X_encoded\n",
    "  df_final = pd.DataFrame(columns=X_encoded.columns)\n",
    "\n",
    "  # On veut que le DataFrame ait le même nombre de lignes que df_predict\n",
    "  df_final = df_final.reindex(index=df_predict.index)\n",
    "  # On met tous les NaN à False\n",
    "  df_final = df_final.fillna(False)\n",
    "\n",
    "  # On parcourt chaque colonne de df_predict\n",
    "  # Si la colonne est présente dans X_encoded alors on la garde\n",
    "  # Sinon, on la met à False\n",
    "  for column in df_predict.columns:\n",
    "    if column in X_encoded.columns:\n",
    "      df_final[column] = df_predict[column]\n",
    "\n",
    "  return df_final"
   ]
  },
  {
   "cell_type": "code",
   "execution_count": null,
   "metadata": {},
   "outputs": [],
   "source": [
    "def film_similaires(imdb_id):\n",
    "\n",
    "  # Vérifier si le Film existe dans le dataset\n",
    "  if imdb_id not in df_merge_recom22['imdb_id'].values:\n",
    "      return f\"Le Film {imdb_id } n'est pas dans le dataset.\"\n",
    "\n",
    "  # Récupérer les caractéristiques du Film\n",
    "  film = df_merge_recom22[df_merge_recom22['imdb_id'] == imdb_id ]\n",
    "\n",
    "  # Vérifier si le Film \n",
    "  if not film['imdb_id'].iloc[0]:\n",
    "      return f\"{imdb_id} n'est pas un Film.\"\n",
    "\n",
    "  # Je recopie ce qu'on a fait avant:\n",
    "  caract_film = df_merge_recom22[df_merge_recom22['imdb_id'] == imdb_id ][caracteristiques]\n",
    "\n",
    "  caract_film_encoded = encodage_predict(caract_film)\n",
    "\n",
    "  distances, indices = model.kneighbors(caract_film_encoded)\n",
    "\n",
    "  return df_merge_recom22.iloc[indices[0]].reset_index(drop=True)"
   ]
  },
  {
   "cell_type": "code",
   "execution_count": null,
   "metadata": {},
   "outputs": [],
   "source": [
    "film_similaires('tt0113101')"
   ]
  },
  {
   "cell_type": "code",
   "execution_count": null,
   "metadata": {},
   "outputs": [],
   "source": [
    "encodage_predict(df_merge_recom22)"
   ]
  },
  {
   "cell_type": "code",
   "execution_count": null,
   "metadata": {},
   "outputs": [],
   "source": []
  },
  {
   "cell_type": "code",
   "execution_count": null,
   "metadata": {},
   "outputs": [],
   "source": []
  }
 ],
 "metadata": {
  "kernelspec": {
   "display_name": "base",
   "language": "python",
   "name": "python3"
  },
  "language_info": {
   "codemirror_mode": {
    "name": "ipython",
    "version": 3
   },
   "file_extension": ".py",
   "mimetype": "text/x-python",
   "name": "python",
   "nbconvert_exporter": "python",
   "pygments_lexer": "ipython3",
   "version": "3.12.4"
  }
 },
 "nbformat": 4,
 "nbformat_minor": 2
}
