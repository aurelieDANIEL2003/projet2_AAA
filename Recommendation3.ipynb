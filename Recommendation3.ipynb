{
 "cells": [
  {
   "cell_type": "code",
   "execution_count": 1,
   "metadata": {},
   "outputs": [],
   "source": [
    "import pandas as pd\n",
    "import numpy as np\n",
    "import warnings\n",
    "import seaborn as sns\n",
    "import matplotlib.pyplot as plt"
   ]
  },
  {
   "cell_type": "code",
   "execution_count": 2,
   "metadata": {},
   "outputs": [],
   "source": [
    "warnings.filterwarnings(\"ignore\")\n",
    "from sklearn.preprocessing import StandardScaler\n",
    "from sklearn.model_selection import train_test_split"
   ]
  },
  {
   "cell_type": "code",
   "execution_count": 3,
   "metadata": {},
   "outputs": [],
   "source": [
    "# Modèles\n",
    "from sklearn.linear_model import LogisticRegression\n",
    "from sklearn.tree import DecisionTreeClassifier\n",
    "from sklearn.ensemble import RandomForestClassifier\n",
    "from sklearn.neighbors import KNeighborsClassifier\n",
    "from sklearn.neighbors import NearestNeighbors\n",
    "\n",
    "# Ce dont on a besoin\n",
    "from sklearn.metrics import accuracy_score, precision_score, recall_score, f1_score\n",
    "from sklearn.model_selection import cross_val_score, GridSearchCV"
   ]
  },
  {
   "cell_type": "code",
   "execution_count": 4,
   "metadata": {},
   "outputs": [],
   "source": [
    "from sklearn.model_selection import train_test_split, StratifiedKFold\n",
    "from sklearn.linear_model import LogisticRegression"
   ]
  },
  {
   "cell_type": "code",
   "execution_count": 5,
   "metadata": {},
   "outputs": [],
   "source": [
    "chemin_bd = r\"./bd_ignore/\""
   ]
  },
  {
   "cell_type": "code",
   "execution_count": 20,
   "metadata": {},
   "outputs": [],
   "source": [
    "df_merge_recom22 = pd.read_csv(chemin_bd+\"resultat2/df_merge_recom21.csv\")"
   ]
  },
  {
   "cell_type": "code",
   "execution_count": null,
   "metadata": {},
   "outputs": [],
   "source": [
    "df_merge_recom22 =df_merge_recom22.drop(columns=['startYear','homepage','overview','poster_path'])"
   ]
  },
  {
   "cell_type": "code",
   "execution_count": null,
   "metadata": {},
   "outputs": [],
   "source": [
    "df_merge_recom22 = df_merge_recom22.fillna('None')"
   ]
  },
  {
   "cell_type": "code",
   "execution_count": 22,
   "metadata": {},
   "outputs": [],
   "source": [
    "merge_filmR = df_merge_recom22[df_merge_recom22['titleType'] == 'movie']\n",
    "merge_serieR = df_merge_recom22[df_merge_recom22['titleType'] == 'tvSeries']"
   ]
  },
  {
   "cell_type": "code",
   "execution_count": null,
   "metadata": {},
   "outputs": [],
   "source": [
    "agg_df = df_merge_recom22.groupby(['original_title'])['primaryName'].agg(list).reset_index()\n",
    "agg_df"
   ]
  },
  {
   "cell_type": "code",
   "execution_count": null,
   "metadata": {},
   "outputs": [],
   "source": [
    "# Agrégation de primaryName par original_title\n",
    "#agg_df = df_merge_recom22.groupby(['original_title'])['primaryName'].agg(list).reset_index()\n",
    "\n",
    "# Merge pour conserver toutes les colonnes originales\n",
    "df_merge_recom22 = df_merge_recom22.drop_duplicates(subset=['original_title']).merge(agg_df, on='original_title', how='left')\n",
    "\n",
    "# Transformation de genres_y en listes\n",
    "df_merge_recom22['genres_liste'] = df_merge_recom22['genres_y'].apply(lambda x: x.split(\",\"))"
   ]
  },
  {
   "cell_type": "code",
   "execution_count": null,
   "metadata": {},
   "outputs": [],
   "source": [
    "agg_df['primaryName']=agg_df['primaryName'].apply(lambda x: x[0 : 2])\n",
    "agg_df"
   ]
  },
  {
   "cell_type": "code",
   "execution_count": 23,
   "metadata": {},
   "outputs": [],
   "source": [
    "caracteristiques = ['titleType', 'startYear', 'genres_y', 'primaryName']"
   ]
  },
  {
   "cell_type": "code",
   "execution_count": null,
   "metadata": {},
   "outputs": [],
   "source": [
    "X = merge_filmR[caracteristiques]"
   ]
  },
  {
   "cell_type": "code",
   "execution_count": null,
   "metadata": {},
   "outputs": [],
   "source": []
  },
  {
   "cell_type": "code",
   "execution_count": 9,
   "metadata": {},
   "outputs": [],
   "source": [
    "merge_filmR['homepage'] = merge_filmR['homepage'].fillna('None')\n",
    "merge_filmR['poster_path'] = merge_filmR['poster_path'].fillna('None')\n",
    "merge_filmR['overview'] = merge_filmR['overview'].fillna('None')\n",
    "merge_filmR = merge_filmR.fillna('None')"
   ]
  },
  {
   "cell_type": "code",
   "execution_count": 10,
   "metadata": {},
   "outputs": [],
   "source": []
  },
  {
   "cell_type": "code",
   "execution_count": 11,
   "metadata": {},
   "outputs": [
    {
     "name": "stdout",
     "output_type": "stream",
     "text": [
      "<class 'pandas.core.frame.DataFrame'>\n",
      "RangeIndex: 1312795 entries, 0 to 1312794\n",
      "Data columns (total 9 columns):\n",
      " #   Column          Non-Null Count    Dtype  \n",
      "---  ------          --------------    -----  \n",
      " 0   homepage        1312795 non-null  object \n",
      " 1   imdb_id         1312795 non-null  object \n",
      " 2   original_title  1312795 non-null  object \n",
      " 3   overview        1312795 non-null  object \n",
      " 4   poster_path     1312795 non-null  object \n",
      " 5   titleType       1312795 non-null  object \n",
      " 6   startYear       1312795 non-null  float64\n",
      " 7   genres_y        1312795 non-null  object \n",
      " 8   primaryName     1312795 non-null  object \n",
      "dtypes: float64(1), object(8)\n",
      "memory usage: 90.1+ MB\n"
     ]
    }
   ],
   "source": [
    "df_merge_recom22.info()"
   ]
  },
  {
   "cell_type": "code",
   "execution_count": 12,
   "metadata": {},
   "outputs": [
    {
     "data": {
      "text/plain": [
       "Index(['homepage', 'imdb_id', 'original_title', 'overview', 'poster_path',\n",
       "       'titleType', 'startYear', 'genres_y', 'primaryName'],\n",
       "      dtype='object')"
      ]
     },
     "execution_count": 12,
     "metadata": {},
     "output_type": "execute_result"
    }
   ],
   "source": [
    "df_merge_recom22.columns"
   ]
  },
  {
   "cell_type": "code",
   "execution_count": 13,
   "metadata": {},
   "outputs": [
    {
     "data": {
      "text/html": [
       "<div>\n",
       "<style scoped>\n",
       "    .dataframe tbody tr th:only-of-type {\n",
       "        vertical-align: middle;\n",
       "    }\n",
       "\n",
       "    .dataframe tbody tr th {\n",
       "        vertical-align: top;\n",
       "    }\n",
       "\n",
       "    .dataframe thead th {\n",
       "        text-align: right;\n",
       "    }\n",
       "</style>\n",
       "<table border=\"1\" class=\"dataframe\">\n",
       "  <thead>\n",
       "    <tr style=\"text-align: right;\">\n",
       "      <th></th>\n",
       "      <th>original_title</th>\n",
       "      <th>primaryName</th>\n",
       "    </tr>\n",
       "  </thead>\n",
       "  <tbody>\n",
       "    <tr>\n",
       "      <th>0</th>\n",
       "      <td>\"BLESSED\"</td>\n",
       "      <td>[Kevin Bradley, Jason Dill, Sage Elsesser, Mar...</td>\n",
       "    </tr>\n",
       "    <tr>\n",
       "      <th>1</th>\n",
       "      <td>\"Gumdrop\", a short horror</td>\n",
       "      <td>[Tom Remick, Stan Wankowski, Luke Remick, Dani...</td>\n",
       "    </tr>\n",
       "    <tr>\n",
       "      <th>2</th>\n",
       "      <td>\"それ\" がいる森</td>\n",
       "      <td>[Masaki Aiba, Noriko Eguchi, Fumiyo Kohinata, ...</td>\n",
       "    </tr>\n",
       "    <tr>\n",
       "      <th>3</th>\n",
       "      <td>\"隠れビッチ\" やってました。</td>\n",
       "      <td>[Yui Sakuma, Nijirô Murakami, Suzuka Ohgo, Yût...</td>\n",
       "    </tr>\n",
       "    <tr>\n",
       "      <th>4</th>\n",
       "      <td>#1</td>\n",
       "      <td>[Austin Adelman, Alden Moody, Jennifer Lundin,...</td>\n",
       "    </tr>\n",
       "    <tr>\n",
       "      <th>...</th>\n",
       "      <td>...</td>\n",
       "      <td>...</td>\n",
       "    </tr>\n",
       "    <tr>\n",
       "      <th>144204</th>\n",
       "      <td>ＳＭ集団（ロウ）責め</td>\n",
       "      <td>[Rio Serizawa, Yutaka Ikejima, Momori Asano, K...</td>\n",
       "    </tr>\n",
       "    <tr>\n",
       "      <th>144205</th>\n",
       "      <td>Ｗの女 幻妖の甘い罠</td>\n",
       "      <td>[Meguri, Rin Aoki, Shôko Kudô, Takashi Naha, S...</td>\n",
       "    </tr>\n",
       "    <tr>\n",
       "      <th>144206</th>\n",
       "      <td>ＸＸ　美しき獲物</td>\n",
       "      <td>[Kei Marimura, Makiko Watanabe, Ren Ôsugi, Ats...</td>\n",
       "    </tr>\n",
       "    <tr>\n",
       "      <th>144207</th>\n",
       "      <td>ｄビデオスペシャル　仮面ライダー4号</td>\n",
       "      <td>[Ryoma Takeuchi, Ryoma Takeuchi, Rio Uchida, Y...</td>\n",
       "    </tr>\n",
       "    <tr>\n",
       "      <th>144208</th>\n",
       "      <td>ﾀｸｼｰﾄﾞﾗｲﾊﾞｰの推理日誌37 東京~浜松 ﾄﾞﾗｲﾌﾞﾚｺｰﾀﾞｰが録画した二重殺人の謎</td>\n",
       "      <td>[Tsunehiko Watase, Miho Hayashi, Shingo Kazami...</td>\n",
       "    </tr>\n",
       "  </tbody>\n",
       "</table>\n",
       "<p>144209 rows × 2 columns</p>\n",
       "</div>"
      ],
      "text/plain": [
       "                                          original_title  \\\n",
       "0                                              \"BLESSED\"   \n",
       "1                              \"Gumdrop\", a short horror   \n",
       "2                                              \"それ\" がいる森   \n",
       "3                                        \"隠れビッチ\" やってました。   \n",
       "4                                                     #1   \n",
       "...                                                  ...   \n",
       "144204                                        ＳＭ集団（ロウ）責め   \n",
       "144205                                        Ｗの女 幻妖の甘い罠   \n",
       "144206                                          ＸＸ　美しき獲物   \n",
       "144207                                ｄビデオスペシャル　仮面ライダー4号   \n",
       "144208  ﾀｸｼｰﾄﾞﾗｲﾊﾞｰの推理日誌37 東京~浜松 ﾄﾞﾗｲﾌﾞﾚｺｰﾀﾞｰが録画した二重殺人の謎   \n",
       "\n",
       "                                              primaryName  \n",
       "0       [Kevin Bradley, Jason Dill, Sage Elsesser, Mar...  \n",
       "1       [Tom Remick, Stan Wankowski, Luke Remick, Dani...  \n",
       "2       [Masaki Aiba, Noriko Eguchi, Fumiyo Kohinata, ...  \n",
       "3       [Yui Sakuma, Nijirô Murakami, Suzuka Ohgo, Yût...  \n",
       "4       [Austin Adelman, Alden Moody, Jennifer Lundin,...  \n",
       "...                                                   ...  \n",
       "144204  [Rio Serizawa, Yutaka Ikejima, Momori Asano, K...  \n",
       "144205  [Meguri, Rin Aoki, Shôko Kudô, Takashi Naha, S...  \n",
       "144206  [Kei Marimura, Makiko Watanabe, Ren Ôsugi, Ats...  \n",
       "144207  [Ryoma Takeuchi, Ryoma Takeuchi, Rio Uchida, Y...  \n",
       "144208  [Tsunehiko Watase, Miho Hayashi, Shingo Kazami...  \n",
       "\n",
       "[144209 rows x 2 columns]"
      ]
     },
     "execution_count": 13,
     "metadata": {},
     "output_type": "execute_result"
    }
   ],
   "source": [
    "agg_df = df_merge_recom22.groupby(['original_title'])['primaryName'].agg(list).reset_index()\n",
    "agg_df"
   ]
  },
  {
   "cell_type": "code",
   "execution_count": 14,
   "metadata": {},
   "outputs": [
    {
     "data": {
      "text/html": [
       "<div>\n",
       "<style scoped>\n",
       "    .dataframe tbody tr th:only-of-type {\n",
       "        vertical-align: middle;\n",
       "    }\n",
       "\n",
       "    .dataframe tbody tr th {\n",
       "        vertical-align: top;\n",
       "    }\n",
       "\n",
       "    .dataframe thead th {\n",
       "        text-align: right;\n",
       "    }\n",
       "</style>\n",
       "<table border=\"1\" class=\"dataframe\">\n",
       "  <thead>\n",
       "    <tr style=\"text-align: right;\">\n",
       "      <th></th>\n",
       "      <th>original_title</th>\n",
       "      <th>primaryName</th>\n",
       "    </tr>\n",
       "  </thead>\n",
       "  <tbody>\n",
       "    <tr>\n",
       "      <th>0</th>\n",
       "      <td>\"BLESSED\"</td>\n",
       "      <td>[Kevin Bradley, Jason Dill]</td>\n",
       "    </tr>\n",
       "    <tr>\n",
       "      <th>1</th>\n",
       "      <td>\"Gumdrop\", a short horror</td>\n",
       "      <td>[Tom Remick, Stan Wankowski]</td>\n",
       "    </tr>\n",
       "    <tr>\n",
       "      <th>2</th>\n",
       "      <td>\"それ\" がいる森</td>\n",
       "      <td>[Masaki Aiba, Noriko Eguchi]</td>\n",
       "    </tr>\n",
       "    <tr>\n",
       "      <th>3</th>\n",
       "      <td>\"隠れビッチ\" やってました。</td>\n",
       "      <td>[Yui Sakuma, Nijirô Murakami]</td>\n",
       "    </tr>\n",
       "    <tr>\n",
       "      <th>4</th>\n",
       "      <td>#1</td>\n",
       "      <td>[Austin Adelman, Alden Moody]</td>\n",
       "    </tr>\n",
       "    <tr>\n",
       "      <th>...</th>\n",
       "      <td>...</td>\n",
       "      <td>...</td>\n",
       "    </tr>\n",
       "    <tr>\n",
       "      <th>144204</th>\n",
       "      <td>ＳＭ集団（ロウ）責め</td>\n",
       "      <td>[Rio Serizawa, Yutaka Ikejima]</td>\n",
       "    </tr>\n",
       "    <tr>\n",
       "      <th>144205</th>\n",
       "      <td>Ｗの女 幻妖の甘い罠</td>\n",
       "      <td>[Meguri, Rin Aoki]</td>\n",
       "    </tr>\n",
       "    <tr>\n",
       "      <th>144206</th>\n",
       "      <td>ＸＸ　美しき獲物</td>\n",
       "      <td>[Kei Marimura, Makiko Watanabe]</td>\n",
       "    </tr>\n",
       "    <tr>\n",
       "      <th>144207</th>\n",
       "      <td>ｄビデオスペシャル　仮面ライダー4号</td>\n",
       "      <td>[Ryoma Takeuchi, Ryoma Takeuchi]</td>\n",
       "    </tr>\n",
       "    <tr>\n",
       "      <th>144208</th>\n",
       "      <td>ﾀｸｼｰﾄﾞﾗｲﾊﾞｰの推理日誌37 東京~浜松 ﾄﾞﾗｲﾌﾞﾚｺｰﾀﾞｰが録画した二重殺人の謎</td>\n",
       "      <td>[Tsunehiko Watase, Miho Hayashi]</td>\n",
       "    </tr>\n",
       "  </tbody>\n",
       "</table>\n",
       "<p>144209 rows × 2 columns</p>\n",
       "</div>"
      ],
      "text/plain": [
       "                                          original_title  \\\n",
       "0                                              \"BLESSED\"   \n",
       "1                              \"Gumdrop\", a short horror   \n",
       "2                                              \"それ\" がいる森   \n",
       "3                                        \"隠れビッチ\" やってました。   \n",
       "4                                                     #1   \n",
       "...                                                  ...   \n",
       "144204                                        ＳＭ集団（ロウ）責め   \n",
       "144205                                        Ｗの女 幻妖の甘い罠   \n",
       "144206                                          ＸＸ　美しき獲物   \n",
       "144207                                ｄビデオスペシャル　仮面ライダー4号   \n",
       "144208  ﾀｸｼｰﾄﾞﾗｲﾊﾞｰの推理日誌37 東京~浜松 ﾄﾞﾗｲﾌﾞﾚｺｰﾀﾞｰが録画した二重殺人の謎   \n",
       "\n",
       "                             primaryName  \n",
       "0            [Kevin Bradley, Jason Dill]  \n",
       "1           [Tom Remick, Stan Wankowski]  \n",
       "2           [Masaki Aiba, Noriko Eguchi]  \n",
       "3          [Yui Sakuma, Nijirô Murakami]  \n",
       "4          [Austin Adelman, Alden Moody]  \n",
       "...                                  ...  \n",
       "144204    [Rio Serizawa, Yutaka Ikejima]  \n",
       "144205                [Meguri, Rin Aoki]  \n",
       "144206   [Kei Marimura, Makiko Watanabe]  \n",
       "144207  [Ryoma Takeuchi, Ryoma Takeuchi]  \n",
       "144208  [Tsunehiko Watase, Miho Hayashi]  \n",
       "\n",
       "[144209 rows x 2 columns]"
      ]
     },
     "execution_count": 14,
     "metadata": {},
     "output_type": "execute_result"
    }
   ],
   "source": [
    "agg_df['primaryName']=agg_df['primaryName'].apply(lambda x: x[0 : 2])\n",
    "agg_df"
   ]
  },
  {
   "cell_type": "code",
   "execution_count": 15,
   "metadata": {},
   "outputs": [],
   "source": [
    "# Merge pour conserver toutes les colonnes originales\n",
    "df_merge_recom22 = df_merge_recom22.drop_duplicates(subset=['original_title']).merge(agg_df, on='original_title', how='left')\n",
    "\n",
    "# Transformation de genres_y en listes\n",
    "df_merge_recom22['genres_liste'] = df_merge_recom22['genres_y'].apply(lambda x: x.split(\",\"))"
   ]
  },
  {
   "cell_type": "code",
   "execution_count": null,
   "metadata": {},
   "outputs": [],
   "source": []
  },
  {
   "cell_type": "code",
   "execution_count": 13,
   "metadata": {},
   "outputs": [],
   "source": []
  },
  {
   "cell_type": "code",
   "execution_count": 15,
   "metadata": {},
   "outputs": [
    {
     "data": {
      "text/plain": [
       "0                            [Comedy]\n",
       "1                            [Comedy]\n",
       "2                            [Comedy]\n",
       "3                            [Comedy]\n",
       "4                            [Comedy]\n",
       "                      ...            \n",
       "1312790    [Action, Adventure, Drama]\n",
       "1312791    [Action, Adventure, Drama]\n",
       "1312792    [Action, Adventure, Drama]\n",
       "1312793    [Action, Adventure, Drama]\n",
       "1312794    [Action, Adventure, Drama]\n",
       "Name: genres_liste, Length: 1312795, dtype: object"
      ]
     },
     "execution_count": 15,
     "metadata": {},
     "output_type": "execute_result"
    }
   ],
   "source": [
    "df_merge_recom22['genres_liste']"
   ]
  },
  {
   "cell_type": "code",
   "execution_count": 134,
   "metadata": {},
   "outputs": [],
   "source": [
    "# def transfo_liste(x):\n",
    "#   if isinstance(x, str):\n",
    "#     return ast.literal_eval(x)\n",
    "#   else:\n",
    "#     return x\n",
    "\n",
    "# -> fonction de jo "
   ]
  },
  {
   "cell_type": "code",
   "execution_count": 135,
   "metadata": {},
   "outputs": [],
   "source": [
    "# transformer la colonne genre en liste\n",
    "#df_merge_recom22['genres_liste'] = df_merge_recom22['genres_liste'].apply(transfo_liste)\n",
    "#df_merge_recom22.sample(5)\n",
    "# je force la colonne genre_liste à n'être que des listes"
   ]
  },
  {
   "cell_type": "code",
   "execution_count": 16,
   "metadata": {},
   "outputs": [],
   "source": [
    "tous_les_genres = set()\n",
    "tous_les_acteurs = set()"
   ]
  },
  {
   "cell_type": "code",
   "execution_count": 17,
   "metadata": {},
   "outputs": [
    {
     "data": {
      "text/plain": [
       "{'Action',\n",
       " 'Adult',\n",
       " 'Adventure',\n",
       " 'Animation',\n",
       " 'Biography',\n",
       " 'Comedy',\n",
       " 'Crime',\n",
       " 'Documentary',\n",
       " 'Drama',\n",
       " 'Family',\n",
       " 'Fantasy',\n",
       " 'Game-Show',\n",
       " 'History',\n",
       " 'Horror',\n",
       " 'Music',\n",
       " 'Musical',\n",
       " 'Mystery',\n",
       " 'News',\n",
       " 'Reality-TV',\n",
       " 'Romance',\n",
       " 'Sci-Fi',\n",
       " 'Short',\n",
       " 'Sport',\n",
       " 'Talk-Show',\n",
       " 'Thriller',\n",
       " 'War',\n",
       " 'Western',\n",
       " '\\\\N'}"
      ]
     },
     "execution_count": 17,
     "metadata": {},
     "output_type": "execute_result"
    }
   ],
   "source": [
    "for genres in df_merge_recom22['genres_liste']:\n",
    "  tous_les_genres.update(genres)\n",
    "\n",
    "tous_les_genres\n",
    "#ensemble qui contient tous mes genres"
   ]
  },
  {
   "cell_type": "code",
   "execution_count": 18,
   "metadata": {},
   "outputs": [],
   "source": [
    "# Mise à jour de l'ensemble des acteurs\n",
    "for acteurs in df_merge_recom22['primaryName_y']:\n",
    "    tous_les_acteurs.update(acteurs)"
   ]
  },
  {
   "cell_type": "code",
   "execution_count": 19,
   "metadata": {},
   "outputs": [
    {
     "data": {
      "text/html": [
       "<div>\n",
       "<style scoped>\n",
       "    .dataframe tbody tr th:only-of-type {\n",
       "        vertical-align: middle;\n",
       "    }\n",
       "\n",
       "    .dataframe tbody tr th {\n",
       "        vertical-align: top;\n",
       "    }\n",
       "\n",
       "    .dataframe thead th {\n",
       "        text-align: right;\n",
       "    }\n",
       "</style>\n",
       "<table border=\"1\" class=\"dataframe\">\n",
       "  <thead>\n",
       "    <tr style=\"text-align: right;\">\n",
       "      <th></th>\n",
       "      <th>homepage</th>\n",
       "      <th>imdb_id</th>\n",
       "      <th>original_title</th>\n",
       "      <th>overview</th>\n",
       "      <th>poster_path</th>\n",
       "      <th>titleType</th>\n",
       "      <th>startYear</th>\n",
       "      <th>genres_y</th>\n",
       "      <th>primaryName_x</th>\n",
       "      <th>primaryName_y</th>\n",
       "      <th>...</th>\n",
       "      <th>genre_Game-Show</th>\n",
       "      <th>genre_Animation</th>\n",
       "      <th>genre_\\N</th>\n",
       "      <th>genre_Sci-Fi</th>\n",
       "      <th>genre_Comedy</th>\n",
       "      <th>genre_Adult</th>\n",
       "      <th>genre_Fantasy</th>\n",
       "      <th>genre_Family</th>\n",
       "      <th>genre_Action</th>\n",
       "      <th>genre_Adventure</th>\n",
       "    </tr>\n",
       "  </thead>\n",
       "  <tbody>\n",
       "    <tr>\n",
       "      <th>86530</th>\n",
       "      <td>https://opprime.tv/video/668</td>\n",
       "      <td>tt15155264</td>\n",
       "      <td>Love Mementos</td>\n",
       "      <td>Young professional lady  realizes her fiance i...</td>\n",
       "      <td>/hqDE8rikgiCZ8prHxEda8216YyD.jpg</td>\n",
       "      <td>short</td>\n",
       "      <td>2020.0</td>\n",
       "      <td>Drama,Romance,Short</td>\n",
       "      <td>Emery Nguyen</td>\n",
       "      <td>[Emery Nguyen]</td>\n",
       "      <td>...</td>\n",
       "      <td>False</td>\n",
       "      <td>False</td>\n",
       "      <td>False</td>\n",
       "      <td>False</td>\n",
       "      <td>False</td>\n",
       "      <td>False</td>\n",
       "      <td>False</td>\n",
       "      <td>False</td>\n",
       "      <td>False</td>\n",
       "      <td>False</td>\n",
       "    </tr>\n",
       "    <tr>\n",
       "      <th>13806</th>\n",
       "      <td>None</td>\n",
       "      <td>tt7629058</td>\n",
       "      <td>Водата</td>\n",
       "      <td>The water is a metaphorical view of life in th...</td>\n",
       "      <td>/u8lhWwsfKzypTHpaM6Iu48WPaJs.jpg</td>\n",
       "      <td>short</td>\n",
       "      <td>2018.0</td>\n",
       "      <td>Documentary,Short</td>\n",
       "      <td>Cristo Fernández</td>\n",
       "      <td>[Cristo Fernández]</td>\n",
       "      <td>...</td>\n",
       "      <td>False</td>\n",
       "      <td>False</td>\n",
       "      <td>False</td>\n",
       "      <td>False</td>\n",
       "      <td>False</td>\n",
       "      <td>False</td>\n",
       "      <td>False</td>\n",
       "      <td>False</td>\n",
       "      <td>False</td>\n",
       "      <td>False</td>\n",
       "    </tr>\n",
       "    <tr>\n",
       "      <th>97595</th>\n",
       "      <td>None</td>\n",
       "      <td>tt0420683</td>\n",
       "      <td>I Do (but I Don't)</td>\n",
       "      <td>Denise Richards plays Lauren, a divorced weddi...</td>\n",
       "      <td>/jHcaovdkQB390yCh0aYzvjBjMJP.jpg</td>\n",
       "      <td>tvMovie</td>\n",
       "      <td>2004.0</td>\n",
       "      <td>Comedy,Drama,Romance</td>\n",
       "      <td>Denise Richards</td>\n",
       "      <td>[Denise Richards, Dean Cain]</td>\n",
       "      <td>...</td>\n",
       "      <td>False</td>\n",
       "      <td>False</td>\n",
       "      <td>False</td>\n",
       "      <td>False</td>\n",
       "      <td>True</td>\n",
       "      <td>False</td>\n",
       "      <td>False</td>\n",
       "      <td>False</td>\n",
       "      <td>False</td>\n",
       "      <td>False</td>\n",
       "    </tr>\n",
       "  </tbody>\n",
       "</table>\n",
       "<p>3 rows × 39 columns</p>\n",
       "</div>"
      ],
      "text/plain": [
       "                           homepage     imdb_id      original_title  \\\n",
       "86530  https://opprime.tv/video/668  tt15155264       Love Mementos   \n",
       "13806                          None   tt7629058              Водата   \n",
       "97595                          None   tt0420683  I Do (but I Don't)   \n",
       "\n",
       "                                                overview  \\\n",
       "86530  Young professional lady  realizes her fiance i...   \n",
       "13806  The water is a metaphorical view of life in th...   \n",
       "97595  Denise Richards plays Lauren, a divorced weddi...   \n",
       "\n",
       "                            poster_path titleType  startYear  \\\n",
       "86530  /hqDE8rikgiCZ8prHxEda8216YyD.jpg     short     2020.0   \n",
       "13806  /u8lhWwsfKzypTHpaM6Iu48WPaJs.jpg     short     2018.0   \n",
       "97595  /jHcaovdkQB390yCh0aYzvjBjMJP.jpg   tvMovie     2004.0   \n",
       "\n",
       "                   genres_y     primaryName_x                 primaryName_y  \\\n",
       "86530   Drama,Romance,Short      Emery Nguyen                [Emery Nguyen]   \n",
       "13806     Documentary,Short  Cristo Fernández            [Cristo Fernández]   \n",
       "97595  Comedy,Drama,Romance   Denise Richards  [Denise Richards, Dean Cain]   \n",
       "\n",
       "       ... genre_Game-Show  genre_Animation  genre_\\N  genre_Sci-Fi  \\\n",
       "86530  ...           False            False     False         False   \n",
       "13806  ...           False            False     False         False   \n",
       "97595  ...           False            False     False         False   \n",
       "\n",
       "       genre_Comedy  genre_Adult  genre_Fantasy  genre_Family  genre_Action  \\\n",
       "86530         False        False          False         False         False   \n",
       "13806         False        False          False         False         False   \n",
       "97595          True        False          False         False         False   \n",
       "\n",
       "       genre_Adventure  \n",
       "86530            False  \n",
       "13806            False  \n",
       "97595            False  \n",
       "\n",
       "[3 rows x 39 columns]"
      ]
     },
     "execution_count": 19,
     "metadata": {},
     "output_type": "execute_result"
    }
   ],
   "source": [
    "for genre in tous_les_genres:\n",
    "  df_merge_recom22[f'genre_{genre}'] = df_merge_recom22['genres_liste'].apply(lambda x: genre in x)\n",
    "\n",
    "df_merge_recom22.sample(3)"
   ]
  },
  {
   "cell_type": "code",
   "execution_count": null,
   "metadata": {},
   "outputs": [],
   "source": [
    "# Mise à jour de l'ensemble des acteurs\n",
    "for acteurs in df_merge_recom22['primaryName_y']: #ne marche pas ///////////////////////////////////////////////////\n",
    "    tous_les_acteurs.update(acteurs)"
   ]
  },
  {
   "cell_type": "code",
   "execution_count": null,
   "metadata": {},
   "outputs": [],
   "source": []
  },
  {
   "cell_type": "code",
   "execution_count": null,
   "metadata": {},
   "outputs": [],
   "source": []
  },
  {
   "cell_type": "code",
   "execution_count": 19,
   "metadata": {},
   "outputs": [
    {
     "data": {
      "text/html": [
       "<div>\n",
       "<style scoped>\n",
       "    .dataframe tbody tr th:only-of-type {\n",
       "        vertical-align: middle;\n",
       "    }\n",
       "\n",
       "    .dataframe tbody tr th {\n",
       "        vertical-align: top;\n",
       "    }\n",
       "\n",
       "    .dataframe thead th {\n",
       "        text-align: right;\n",
       "    }\n",
       "</style>\n",
       "<table border=\"1\" class=\"dataframe\">\n",
       "  <thead>\n",
       "    <tr style=\"text-align: right;\">\n",
       "      <th></th>\n",
       "      <th>homepage</th>\n",
       "      <th>imdb_id</th>\n",
       "      <th>original_title</th>\n",
       "      <th>overview</th>\n",
       "      <th>poster_path</th>\n",
       "      <th>titleType</th>\n",
       "      <th>startYear</th>\n",
       "      <th>genres_y</th>\n",
       "      <th>primaryName</th>\n",
       "      <th>genres_liste</th>\n",
       "      <th>...</th>\n",
       "      <th>genre_History</th>\n",
       "      <th>genre_\\N</th>\n",
       "      <th>genre_Western</th>\n",
       "      <th>genre_Crime</th>\n",
       "      <th>genre_Thriller</th>\n",
       "      <th>genre_Horror</th>\n",
       "      <th>genre_Drama</th>\n",
       "      <th>genre_Adventure</th>\n",
       "      <th>genre_Animation</th>\n",
       "      <th>genre_Romance</th>\n",
       "    </tr>\n",
       "  </thead>\n",
       "  <tbody>\n",
       "    <tr>\n",
       "      <th>0</th>\n",
       "      <td>https://www.miramax.com/movie/four-rooms/</td>\n",
       "      <td>tt0113101</td>\n",
       "      <td>Four Rooms</td>\n",
       "      <td>It's Ted the Bellhop's first night on the job....</td>\n",
       "      <td>/75aHn1NOYXh4M7L5shoeQ6NGykP.jpg</td>\n",
       "      <td>movie</td>\n",
       "      <td>1995.0</td>\n",
       "      <td>Comedy</td>\n",
       "      <td>Tim Roth</td>\n",
       "      <td>[Comedy]</td>\n",
       "      <td>...</td>\n",
       "      <td>False</td>\n",
       "      <td>False</td>\n",
       "      <td>False</td>\n",
       "      <td>False</td>\n",
       "      <td>False</td>\n",
       "      <td>False</td>\n",
       "      <td>False</td>\n",
       "      <td>False</td>\n",
       "      <td>False</td>\n",
       "      <td>False</td>\n",
       "    </tr>\n",
       "    <tr>\n",
       "      <th>1</th>\n",
       "      <td>https://www.miramax.com/movie/four-rooms/</td>\n",
       "      <td>tt0113101</td>\n",
       "      <td>Four Rooms</td>\n",
       "      <td>It's Ted the Bellhop's first night on the job....</td>\n",
       "      <td>/75aHn1NOYXh4M7L5shoeQ6NGykP.jpg</td>\n",
       "      <td>movie</td>\n",
       "      <td>1995.0</td>\n",
       "      <td>Comedy</td>\n",
       "      <td>Antonio Banderas</td>\n",
       "      <td>[Comedy]</td>\n",
       "      <td>...</td>\n",
       "      <td>False</td>\n",
       "      <td>False</td>\n",
       "      <td>False</td>\n",
       "      <td>False</td>\n",
       "      <td>False</td>\n",
       "      <td>False</td>\n",
       "      <td>False</td>\n",
       "      <td>False</td>\n",
       "      <td>False</td>\n",
       "      <td>False</td>\n",
       "    </tr>\n",
       "    <tr>\n",
       "      <th>2</th>\n",
       "      <td>https://www.miramax.com/movie/four-rooms/</td>\n",
       "      <td>tt0113101</td>\n",
       "      <td>Four Rooms</td>\n",
       "      <td>It's Ted the Bellhop's first night on the job....</td>\n",
       "      <td>/75aHn1NOYXh4M7L5shoeQ6NGykP.jpg</td>\n",
       "      <td>movie</td>\n",
       "      <td>1995.0</td>\n",
       "      <td>Comedy</td>\n",
       "      <td>Sammi Davis</td>\n",
       "      <td>[Comedy]</td>\n",
       "      <td>...</td>\n",
       "      <td>False</td>\n",
       "      <td>False</td>\n",
       "      <td>False</td>\n",
       "      <td>False</td>\n",
       "      <td>False</td>\n",
       "      <td>False</td>\n",
       "      <td>False</td>\n",
       "      <td>False</td>\n",
       "      <td>False</td>\n",
       "      <td>False</td>\n",
       "    </tr>\n",
       "    <tr>\n",
       "      <th>3</th>\n",
       "      <td>https://www.miramax.com/movie/four-rooms/</td>\n",
       "      <td>tt0113101</td>\n",
       "      <td>Four Rooms</td>\n",
       "      <td>It's Ted the Bellhop's first night on the job....</td>\n",
       "      <td>/75aHn1NOYXh4M7L5shoeQ6NGykP.jpg</td>\n",
       "      <td>movie</td>\n",
       "      <td>1995.0</td>\n",
       "      <td>Comedy</td>\n",
       "      <td>Amanda De Cadenet</td>\n",
       "      <td>[Comedy]</td>\n",
       "      <td>...</td>\n",
       "      <td>False</td>\n",
       "      <td>False</td>\n",
       "      <td>False</td>\n",
       "      <td>False</td>\n",
       "      <td>False</td>\n",
       "      <td>False</td>\n",
       "      <td>False</td>\n",
       "      <td>False</td>\n",
       "      <td>False</td>\n",
       "      <td>False</td>\n",
       "    </tr>\n",
       "    <tr>\n",
       "      <th>4</th>\n",
       "      <td>https://www.miramax.com/movie/four-rooms/</td>\n",
       "      <td>tt0113101</td>\n",
       "      <td>Four Rooms</td>\n",
       "      <td>It's Ted the Bellhop's first night on the job....</td>\n",
       "      <td>/75aHn1NOYXh4M7L5shoeQ6NGykP.jpg</td>\n",
       "      <td>movie</td>\n",
       "      <td>1995.0</td>\n",
       "      <td>Comedy</td>\n",
       "      <td>Valeria Golino</td>\n",
       "      <td>[Comedy]</td>\n",
       "      <td>...</td>\n",
       "      <td>False</td>\n",
       "      <td>False</td>\n",
       "      <td>False</td>\n",
       "      <td>False</td>\n",
       "      <td>False</td>\n",
       "      <td>False</td>\n",
       "      <td>False</td>\n",
       "      <td>False</td>\n",
       "      <td>False</td>\n",
       "      <td>False</td>\n",
       "    </tr>\n",
       "  </tbody>\n",
       "</table>\n",
       "<p>5 rows × 38 columns</p>\n",
       "</div>"
      ],
      "text/plain": [
       "                                    homepage    imdb_id original_title  \\\n",
       "0  https://www.miramax.com/movie/four-rooms/  tt0113101     Four Rooms   \n",
       "1  https://www.miramax.com/movie/four-rooms/  tt0113101     Four Rooms   \n",
       "2  https://www.miramax.com/movie/four-rooms/  tt0113101     Four Rooms   \n",
       "3  https://www.miramax.com/movie/four-rooms/  tt0113101     Four Rooms   \n",
       "4  https://www.miramax.com/movie/four-rooms/  tt0113101     Four Rooms   \n",
       "\n",
       "                                            overview  \\\n",
       "0  It's Ted the Bellhop's first night on the job....   \n",
       "1  It's Ted the Bellhop's first night on the job....   \n",
       "2  It's Ted the Bellhop's first night on the job....   \n",
       "3  It's Ted the Bellhop's first night on the job....   \n",
       "4  It's Ted the Bellhop's first night on the job....   \n",
       "\n",
       "                        poster_path titleType  startYear genres_y  \\\n",
       "0  /75aHn1NOYXh4M7L5shoeQ6NGykP.jpg     movie     1995.0   Comedy   \n",
       "1  /75aHn1NOYXh4M7L5shoeQ6NGykP.jpg     movie     1995.0   Comedy   \n",
       "2  /75aHn1NOYXh4M7L5shoeQ6NGykP.jpg     movie     1995.0   Comedy   \n",
       "3  /75aHn1NOYXh4M7L5shoeQ6NGykP.jpg     movie     1995.0   Comedy   \n",
       "4  /75aHn1NOYXh4M7L5shoeQ6NGykP.jpg     movie     1995.0   Comedy   \n",
       "\n",
       "         primaryName genres_liste  ...  genre_History  genre_\\N  \\\n",
       "0           Tim Roth     [Comedy]  ...          False     False   \n",
       "1   Antonio Banderas     [Comedy]  ...          False     False   \n",
       "2        Sammi Davis     [Comedy]  ...          False     False   \n",
       "3  Amanda De Cadenet     [Comedy]  ...          False     False   \n",
       "4     Valeria Golino     [Comedy]  ...          False     False   \n",
       "\n",
       "   genre_Western  genre_Crime  genre_Thriller  genre_Horror  genre_Drama  \\\n",
       "0          False        False           False         False        False   \n",
       "1          False        False           False         False        False   \n",
       "2          False        False           False         False        False   \n",
       "3          False        False           False         False        False   \n",
       "4          False        False           False         False        False   \n",
       "\n",
       "   genre_Adventure  genre_Animation  genre_Romance  \n",
       "0            False            False          False  \n",
       "1            False            False          False  \n",
       "2            False            False          False  \n",
       "3            False            False          False  \n",
       "4            False            False          False  \n",
       "\n",
       "[5 rows x 38 columns]"
      ]
     },
     "execution_count": 19,
     "metadata": {},
     "output_type": "execute_result"
    }
   ],
   "source": [
    "#df avec tous les genres en booleens\n",
    "\n",
    "df_merge_recom22.head(5)"
   ]
  },
  {
   "cell_type": "code",
   "execution_count": 20,
   "metadata": {},
   "outputs": [
    {
     "name": "stdout",
     "output_type": "stream",
     "text": [
      "<class 'pandas.core.frame.DataFrame'>\n",
      "RangeIndex: 1312795 entries, 0 to 1312794\n",
      "Data columns (total 38 columns):\n",
      " #   Column             Non-Null Count    Dtype  \n",
      "---  ------             --------------    -----  \n",
      " 0   homepage           1312795 non-null  object \n",
      " 1   imdb_id            1312795 non-null  object \n",
      " 2   original_title     1312795 non-null  object \n",
      " 3   overview           1312795 non-null  object \n",
      " 4   poster_path        1312795 non-null  object \n",
      " 5   titleType          1312795 non-null  object \n",
      " 6   startYear          1312795 non-null  float64\n",
      " 7   genres_y           1312795 non-null  object \n",
      " 8   primaryName        1312795 non-null  object \n",
      " 9   genres_liste       1312795 non-null  object \n",
      " 10  genre_Game-Show    1312795 non-null  bool   \n",
      " 11  genre_Sci-Fi       1312795 non-null  bool   \n",
      " 12  genre_Adult        1312795 non-null  bool   \n",
      " 13  genre_Reality-TV   1312795 non-null  bool   \n",
      " 14  genre_Mystery      1312795 non-null  bool   \n",
      " 15  genre_War          1312795 non-null  bool   \n",
      " 16  genre_Fantasy      1312795 non-null  bool   \n",
      " 17  genre_Family       1312795 non-null  bool   \n",
      " 18  genre_Action       1312795 non-null  bool   \n",
      " 19  genre_News         1312795 non-null  bool   \n",
      " 20  genre_Comedy       1312795 non-null  bool   \n",
      " 21  genre_Short        1312795 non-null  bool   \n",
      " 22  genre_Musical      1312795 non-null  bool   \n",
      " 23  genre_Sport        1312795 non-null  bool   \n",
      " 24  genre_Talk-Show    1312795 non-null  bool   \n",
      " 25  genre_Documentary  1312795 non-null  bool   \n",
      " 26  genre_Biography    1312795 non-null  bool   \n",
      " 27  genre_Music        1312795 non-null  bool   \n",
      " 28  genre_History      1312795 non-null  bool   \n",
      " 29  genre_\\N           1312795 non-null  bool   \n",
      " 30  genre_Western      1312795 non-null  bool   \n",
      " 31  genre_Crime        1312795 non-null  bool   \n",
      " 32  genre_Thriller     1312795 non-null  bool   \n",
      " 33  genre_Horror       1312795 non-null  bool   \n",
      " 34  genre_Drama        1312795 non-null  bool   \n",
      " 35  genre_Adventure    1312795 non-null  bool   \n",
      " 36  genre_Animation    1312795 non-null  bool   \n",
      " 37  genre_Romance      1312795 non-null  bool   \n",
      "dtypes: bool(28), float64(1), object(9)\n",
      "memory usage: 135.2+ MB\n"
     ]
    }
   ],
   "source": [
    "df_merge_recom22.info()"
   ]
  },
  {
   "cell_type": "code",
   "execution_count": null,
   "metadata": {},
   "outputs": [],
   "source": [
    "# # commence le test pour regrouper les acteurs dans une même cellule et donc n'avoir plus qu'une ligne par film\n",
    "\n",
    "# df_merge_recom22_actors = df_merge_recom22.copy()\n",
    "\n",
    "# # groupby sur notre df_recom22 sur la colonne imdb_id tout en appliquant une fonction lambda pour regrouper les acteurs en les séparant d'une virgule (fonction lambda s'applique par film grâce au groupby)\n",
    "\n",
    "# df_merge_recom22_actors = pd.DataFrame(df_merge_recom22_actors.groupby('imdb_id', sort = False, as_index = False)['primaryName'].apply(lambda x: \"%s\" % ', '.join(x)))\n",
    "\n",
    "# # on merge mtn ce petit df d'acteurs sur notre df_recom22 via l'imdb_id\n",
    "\n",
    "# df_merge_recom22_final = df_merge_recom22.merge(df_merge_recom22_actors, how='inner', on='imdb_id', sort=False, copy=False)\n",
    "\n",
    "\n",
    "# # je supprime ici la colonne du nom des acteurs du df_recom22 puisqu'on a mtn la nouvelle avec les acterus regroupés\n",
    "# df_merge_recom22_final = df_merge_recom22_final.drop('primaryName_x', axis=1)\n",
    "\n",
    "\n",
    "# # n'ayant plus la colonne d'acteurs du df de base, toutes les lignes d'un même film sont devenues similaires en tout point\n",
    "# # nous pouvons alors supprimer les lignes dupliquées\n",
    "\n",
    "# df_merge_recom22_final = df_merge_recom22_final.drop_duplicates(subset='imdb_id').reset_index()\n",
    "\n",
    "# # df avec une ligne par film et la colonne acteur regroupant tous les acteurs d'un même film\n",
    "\n",
    "# df_merge_recom22_final\n",
    "\n",
    "# # df_merge_recom22_final['acteurs_liste'] = df_merge_recom22_final['primaryName_y'].apply(lambda x: x.split(\",\"))\n",
    "# # tous_les_acteurs = set()\n",
    "\n",
    "# # for acteurs in df_merge_recom22_final['acteurs_liste']:\n",
    "# #   tous_les_acteurs.update(acteurs)\n",
    "\n",
    "# # tous_les_acteurs"
   ]
  },
  {
   "cell_type": "code",
   "execution_count": null,
   "metadata": {},
   "outputs": [],
   "source": [
    "# à ne pas lancer ça tourne pendant des heures\n",
    "# for acteur in tous_les_acteurs:\n",
    "#   df_merge_recom22_final[f'act_{acteur}'] = df_merge_recom22_final['acteurs_liste'].apply(lambda x: acteur in x)\n",
    "\n",
    "# df_merge_recom22_final.sample(3)"
   ]
  },
  {
   "cell_type": "code",
   "execution_count": 23,
   "metadata": {},
   "outputs": [],
   "source": [
    "merge_filmR = df_merge_recom22[df_merge_recom22['titleType'] == 'movie']\n",
    "merge_serieR = df_merge_recom22[df_merge_recom22['titleType'] == 'tvSeries']"
   ]
  },
  {
   "cell_type": "code",
   "execution_count": 24,
   "metadata": {},
   "outputs": [],
   "source": [
    "#caracteristiques = ['titleType', 'startYear', 'genres_y', 'primaryName']\n",
    "caracteristiques = ['titleType', 'startYear']"
   ]
  },
  {
   "cell_type": "code",
   "execution_count": 25,
   "metadata": {},
   "outputs": [],
   "source": [
    "X = merge_filmR[caracteristiques]"
   ]
  },
  {
   "cell_type": "code",
   "execution_count": 26,
   "metadata": {},
   "outputs": [],
   "source": [
    "X_genre = merge_filmR.select_dtypes('bool')"
   ]
  },
  {
   "cell_type": "code",
   "execution_count": 27,
   "metadata": {},
   "outputs": [],
   "source": [
    "def encodage_X(X, type='standard'):\n",
    "  index = X.index\n",
    "  X_num = X.select_dtypes('number')\n",
    "  X_cat = X.select_dtypes(['object', 'category', 'string'])\n",
    "  # Comme ça les dates, on n'y touche pas\n",
    "\n",
    "  if type == 'standard':\n",
    "    from sklearn.preprocessing import StandardScaler\n",
    "    SN = StandardScaler()\n",
    "    X_num_SN = pd.DataFrame(SN.fit_transform(X_num), columns=X_num.columns, index=index)\n",
    "\n",
    "  else:\n",
    "    from sklearn.preprocessing import MinMaxScaler\n",
    "    SN = MinMaxScaler()\n",
    "    X_num_SN = pd.DataFrame(SN.fit_transform(X_num), columns=X_num.columns, index=index)\n",
    "\n",
    "  X_cat_dummies = pd.get_dummies(X_cat)\n",
    "  X_encoded = pd.concat([X_num_SN, X_cat_dummies], axis=1)\n",
    "  X_encoded = pd.concat([X_encoded, X_genre], axis=1)\n",
    "\n",
    "  return X_encoded, SN"
   ]
  },
  {
   "cell_type": "code",
   "execution_count": 28,
   "metadata": {},
   "outputs": [],
   "source": [
    "X_encoded, SN = encodage_X(X, type='normalisation')"
   ]
  },
  {
   "cell_type": "code",
   "execution_count": 29,
   "metadata": {},
   "outputs": [],
   "source": [
    "def film_similaire(nom_film):\n",
    "\n",
    "  # Vérifier si le film existe dans le dataset\n",
    "  if nom_film not in merge_filmR['imdb_id'].values:\n",
    "      return f\"Le film numero {nom_film} n'est pas dans le dataset.\"\n",
    "\n",
    "  # Récupérer les caractéristiques du Pokémon\n",
    "  filmC = merge_filmR[merge_filmR['imdb_id'] == nom_film]\n",
    "\n",
    "  # Vérifier si le Pokémon est légendaire\n",
    "  if not merge_filmR['imdb_id'].iloc[0]:\n",
    "      return f\"{nom_film} n'est pas un film dans le dataset.\"\n",
    "\n",
    "  # Je recopie ce qu'on a fait avant:\n",
    "  caract_film = merge_filmR[merge_filmR['imdb_id'] == nom_film][caracteristiques]\n",
    "\n",
    "  caract_film_encoded = encodage_predict(caract_film)\n",
    "\n",
    "  distances, indices = model.kneighbors(caract_film_encoded)\n",
    "\n",
    "  return merge_filmR.iloc[indices[0]].reset_index(drop=True)"
   ]
  },
  {
   "cell_type": "code",
   "execution_count": null,
   "metadata": {},
   "outputs": [
    {
     "ename": "",
     "evalue": "",
     "output_type": "error",
     "traceback": [
      "\u001b[1;31mLe noyau s’est bloqué lors de l’exécution du code dans une cellule active ou une cellule précédente. \n",
      "\u001b[1;31mVeuillez vérifier le code dans la ou les cellules pour identifier une cause possible de l’échec. \n",
      "\u001b[1;31mCliquez <a href='https://aka.ms/vscodeJupyterKernelCrash'>ici</a> pour plus d’informations. \n",
      "\u001b[1;31mPour plus d’informations, consultez Jupyter <a href='command:jupyter.viewOutput'>log</a>."
     ]
    }
   ],
   "source": []
  },
  {
   "cell_type": "code",
   "execution_count": null,
   "metadata": {},
   "outputs": [],
   "source": [
    "index = X.index\n",
    "X_num = X.select_dtypes('number')\n",
    "X_cat = X.select_dtypes(['object', 'category', 'string'])"
   ]
  },
  {
   "cell_type": "code",
   "execution_count": null,
   "metadata": {},
   "outputs": [],
   "source": [
    "from sklearn.preprocessing import MinMaxScaler\n",
    "SN = MinMaxScaler()\n",
    "X_num_SN = pd.DataFrame(SN.fit_transform(X_num), columns=X_num.columns, index=index)"
   ]
  },
  {
   "cell_type": "code",
   "execution_count": null,
   "metadata": {},
   "outputs": [
    {
     "ename": "",
     "evalue": "",
     "output_type": "error",
     "traceback": [
      "\u001b[1;31mLe noyau s’est bloqué lors de l’exécution du code dans une cellule active ou une cellule précédente. \n",
      "\u001b[1;31mVeuillez vérifier le code dans la ou les cellules pour identifier une cause possible de l’échec. \n",
      "\u001b[1;31mCliquez <a href='https://aka.ms/vscodeJupyterKernelCrash'>ici</a> pour plus d’informations. \n",
      "\u001b[1;31mPour plus d’informations, consultez Jupyter <a href='command:jupyter.viewOutput'>log</a>."
     ]
    }
   ],
   "source": [
    "X_cat_dummies = pd.get_dummies(X_cat)"
   ]
  },
  {
   "cell_type": "code",
   "execution_count": null,
   "metadata": {},
   "outputs": [],
   "source": [
    "X_encoded = pd.concat([X_num_SN, X_cat_dummies], axis=1)"
   ]
  }
 ],
 "metadata": {
  "kernelspec": {
   "display_name": "base",
   "language": "python",
   "name": "python3"
  },
  "language_info": {
   "codemirror_mode": {
    "name": "ipython",
    "version": 3
   },
   "file_extension": ".py",
   "mimetype": "text/x-python",
   "name": "python",
   "nbconvert_exporter": "python",
   "pygments_lexer": "ipython3",
   "version": "3.12.4"
  }
 },
 "nbformat": 4,
 "nbformat_minor": 2
}
