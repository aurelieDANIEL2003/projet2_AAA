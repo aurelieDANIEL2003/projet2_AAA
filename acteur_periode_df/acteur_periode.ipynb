{
 "cells": [
  {
   "cell_type": "code",
   "execution_count": 1,
   "metadata": {},
   "outputs": [],
   "source": [
    "import pandas as pd"
   ]
  },
  {
   "cell_type": "code",
   "execution_count": 2,
   "metadata": {},
   "outputs": [
    {
     "ename": "NameError",
     "evalue": "name 'df_title_principals' is not defined",
     "output_type": "error",
     "traceback": [
      "\u001b[0;31m---------------------------------------------------------------------------\u001b[0m",
      "\u001b[0;31mNameError\u001b[0m                                 Traceback (most recent call last)",
      "Cell \u001b[0;32mIn[2], line 1\u001b[0m\n\u001b[0;32m----> 1\u001b[0m df_merge2 \u001b[38;5;241m=\u001b[39m pd\u001b[38;5;241m.\u001b[39mmerge(df_title_principals, df_title_basics, on\u001b[38;5;241m=\u001b[39m\u001b[38;5;124m'\u001b[39m\u001b[38;5;124mtconst\u001b[39m\u001b[38;5;124m'\u001b[39m, how\u001b[38;5;241m=\u001b[39m\u001b[38;5;124m'\u001b[39m\u001b[38;5;124minner\u001b[39m\u001b[38;5;124m'\u001b[39m)\n\u001b[1;32m      2\u001b[0m df_merge1 \u001b[38;5;241m=\u001b[39m pd\u001b[38;5;241m.\u001b[39mmerge(df_title_principals, df_name_basics, on\u001b[38;5;241m=\u001b[39m\u001b[38;5;124m'\u001b[39m\u001b[38;5;124mnconst\u001b[39m\u001b[38;5;124m'\u001b[39m, how\u001b[38;5;241m=\u001b[39m\u001b[38;5;124m'\u001b[39m\u001b[38;5;124minner\u001b[39m\u001b[38;5;124m'\u001b[39m)\n\u001b[1;32m      4\u001b[0m \u001b[38;5;66;03m# selection des films tous les 10ans\u001b[39;00m\n",
      "\u001b[0;31mNameError\u001b[0m: name 'df_title_principals' is not defined"
     ]
    }
   ],
   "source": [
    "df_merge2 = pd.merge(df_title_principals, df_title_basics, on='tconst', how='inner')\n",
    "df_merge1 = pd.merge(df_title_principals, df_name_basics, on='nconst', how='inner')\n",
    "\n",
    "# selection des films tous les 10ans\n",
    "df_title_basics['tranche_10_ans'] = (df_title_basics['startYear'] // 10) * 10\n",
    "\n",
    "# filtrer les acteurs \n",
    "df_name_basics2= df_name_basics['primaryName'].groupby(['tranche_10_ans', 'nconst'])\n",
    "\n",
    "# Trouver l'acteur avec le plus de films pour chaque tranche\n",
    "df_top_actors = df_name_basics_counts.loc[df_name_basics2_counts.groupby('tranche_10_ans')['tconst_count'].idxmax()]\n",
    "\n",
    "# joindr les noms d'acteur\n",
    "df_top_actors = pd.merge(df_top_actors, df_name_basics, on='nconst', how='inner')\n",
    "df_top_actors = df_top_actors.drop_duplicates()\n"
   ]
  }
 ],
 "metadata": {
  "kernelspec": {
   "display_name": "base",
   "language": "python",
   "name": "python3"
  },
  "language_info": {
   "codemirror_mode": {
    "name": "ipython",
    "version": 3
   },
   "file_extension": ".py",
   "mimetype": "text/x-python",
   "name": "python",
   "nbconvert_exporter": "python",
   "pygments_lexer": "ipython3",
   "version": "3.12.4"
  }
 },
 "nbformat": 4,
 "nbformat_minor": 2
}
