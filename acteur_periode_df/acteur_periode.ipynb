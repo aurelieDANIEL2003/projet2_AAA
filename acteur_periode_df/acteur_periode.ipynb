{
 "cells": [
  {
   "cell_type": "code",
   "execution_count": 1,
   "metadata": {},
   "outputs": [],
   "source": [
    "import pandas as pd"
   ]
  },
  {
   "cell_type": "code",
   "execution_count": null,
   "metadata": {},
   "outputs": [],
   "source": [
    "df_merge2 = pd.merge(df_title_principals, df_title_basics, on='tconst', how='inner')\n",
    "df_merge1 = pd.merge(df_principals, df_name_basics, on='nconst', how='inner')\n",
    "\n",
    "# selection des films tous les 10ans\n",
    "df_title_basics['tranche_10_ans'] = (df_title_basics['startYear'] // 10) * 10\n",
    "\n",
    "# filtrer les acteurs \n",
    "df_name_basics2= df_name_basics['primaryName'].groupby(['tranche_10_ans', 'nconst'])\n",
    "\n",
    "# Trouver l'acteur avec le plus de films pour chaque tranche\n",
    "df_top_actors = df_name_basics_counts.loc[df_name_basics2_counts.groupby('tranche_10_ans')['tconst_count'].idxmax()]\n",
    "\n",
    "# joindr les noms d'acteur\n",
    "df_top_actors = pd.merge(df_top_actors, df_name_basics, on='nconst', how='inner')\n",
    "df_top_actors = df_top_actors.drop_duplicates()\n"
   ]
  }
 ],
 "metadata": {
  "kernelspec": {
   "display_name": "base",
   "language": "python",
   "name": "python3"
  },
  "language_info": {
   "codemirror_mode": {
    "name": "ipython",
    "version": 3
   },
   "file_extension": ".py",
   "mimetype": "text/x-python",
   "name": "python",
   "nbconvert_exporter": "python",
   "pygments_lexer": "ipython3",
   "version": "3.12.4"
  }
 },
 "nbformat": 4,
 "nbformat_minor": 2
}
