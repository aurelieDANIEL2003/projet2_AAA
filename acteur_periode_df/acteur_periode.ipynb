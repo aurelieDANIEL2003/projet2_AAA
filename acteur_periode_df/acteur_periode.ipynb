{
 "cells": [
  {
   "cell_type": "code",
   "execution_count": 7,
   "metadata": {},
   "outputs": [],
   "source": [
    "import pandas as pd\n",
    "from datetime import datetime"
   ]
  },
  {
   "cell_type": "code",
   "execution_count": 8,
   "metadata": {},
   "outputs": [],
   "source": [
    "# chemin_bd = r\"/Users/anaellepinceloup/Documents/GitHub/IMBd_a_ignorer_df/\"\n",
    "#chemin_bd = r\"C:/Users/aure_/OneDrive/Documents/GitHub/projet2_WAAA/IMBd_a_ignorer_df/\"\n",
    "chemin_bd = r\"C:/Users/Lahbib/Documents/GitHub/projet2_WAAA/IMBd_a_ignorer_df/\""
   ]
  },
  {
   "cell_type": "code",
   "execution_count": 36,
   "metadata": {},
   "outputs": [],
   "source": [
    "df_title_principals= pd.read_csv(chemin_bd + 'title.principals.tsv.gz', compression='gzip', sep='\\t')"
   ]
  },
  {
   "cell_type": "code",
   "execution_count": 35,
   "metadata": {},
   "outputs": [],
   "source": [
    "df_name_basics = pd.read_csv(chemin_bd + 'name.basics.tsv.gz', compression='gzip', sep='\\t')"
   ]
  },
  {
   "cell_type": "code",
   "execution_count": 9,
   "metadata": {},
   "outputs": [
    {
     "name": "stderr",
     "output_type": "stream",
     "text": [
      "C:\\Users\\Lahbib\\AppData\\Local\\Temp\\ipykernel_14776\\234301865.py:1: DtypeWarning: Columns (4) have mixed types. Specify dtype option on import or set low_memory=False.\n",
      "  df_title_basics= pd.read_csv(chemin_bd + 'title.basics.tsv.gz', compression='gzip', sep='\\t')\n"
     ]
    }
   ],
   "source": [
    "df_title_basics= pd.read_csv(chemin_bd + 'title.basics.tsv.gz', compression='gzip', sep='\\t')"
   ]
  },
  {
   "cell_type": "code",
   "execution_count": 24,
   "metadata": {},
   "outputs": [],
   "source": [
    "df_annee = df_title_basics.copy()\n",
    "\n"
   ]
  },
  {
   "cell_type": "code",
   "execution_count": 25,
   "metadata": {},
   "outputs": [
    {
     "data": {
      "text/plain": [
       "False"
      ]
     },
     "execution_count": 25,
     "metadata": {},
     "output_type": "execute_result"
    }
   ],
   "source": [
    "df_annee['startYear'].isna().any()\n",
    "    #print(\"Il y a des valeurs manquantes dans la colonne.\")"
   ]
  },
  {
   "cell_type": "code",
   "execution_count": 26,
   "metadata": {},
   "outputs": [
    {
     "data": {
      "text/plain": [
       "startYear\n",
       "\\N      1417048\n",
       "2021     499477\n",
       "2022     479004\n",
       "2018     453266\n",
       "2019     448662\n",
       "         ...   \n",
       "1889          2\n",
       "1874          1\n",
       "1883          1\n",
       "2031          1\n",
       "1885          1\n",
       "Name: count, Length: 152, dtype: int64"
      ]
     },
     "execution_count": 26,
     "metadata": {},
     "output_type": "execute_result"
    }
   ],
   "source": [
    "df_annee['startYear'].value_counts()"
   ]
  },
  {
   "cell_type": "code",
   "execution_count": 27,
   "metadata": {},
   "outputs": [],
   "source": [
    "\n",
    "\n",
    "df_annee['startYear'] = df_annee['startYear'].replace('\\\\N', pd.NaT)"
   ]
  },
  {
   "cell_type": "code",
   "execution_count": 28,
   "metadata": {},
   "outputs": [
    {
     "data": {
      "text/plain": [
       "array(['1894', '1892', '1893', '1895', '1896', '1898', '1897', '1900',\n",
       "       '1899', '1901', '1902', '1903', '1905', '1904', '1912', '1907',\n",
       "       '1906', '1908', '1910', '1909', NaT, '1911', '1990', '1914',\n",
       "       '1913', '1915', '1919', '1916', '1917', '1918', '1936', '1925',\n",
       "       '1922', '1920', '1921', '1923', '1924', '1928', '2019', '1926',\n",
       "       '1927', '1929', '2000', '1993', '1935', '1930', '1942', '1934',\n",
       "       '1931', '1939', '1932', '1937', '1933', '1950', '1938', '1951',\n",
       "       '1945', '1946', '1940', '1944', '1949', '1947', '1941', '1952',\n",
       "       '1970', '1957', '1943', '1959', '1948', '2001', '1953', '1954',\n",
       "       '1965', '1983', '1980', '1973', '1961', '1995', '1955', '1964',\n",
       "       '1958', '1956', '1962', '1960', '1977', '2012', '1967', '1968',\n",
       "       '2007', '1963', '1988', '1971', '1986', '1969', '1972', '1966',\n",
       "       '2021', '2023', '1976', '2016', '2020', '1979', '1974', '1978',\n",
       "       '1981', '1975', '2014', '1989', '1985', '1987', '2015', '2010',\n",
       "       '2018', '1996', '1984', '1992', '2022', '1982', '1991', '1994',\n",
       "       '2008', '1999', '2005', '2003', '1998', '2002', '2024', '1997',\n",
       "       '2009', '2004', '2017', '2013', '2006', '2011', '1891', '2025',\n",
       "       '1888', '1890', '2026', '1889', '2027', '2028', '1878', '1882',\n",
       "       '1881', '2030', '1887', '2029', '1874', '1883', '2031', '1885'],\n",
       "      dtype=object)"
      ]
     },
     "execution_count": 28,
     "metadata": {},
     "output_type": "execute_result"
    }
   ],
   "source": [
    "df_annee['startYear'].unique()"
   ]
  },
  {
   "cell_type": "code",
   "execution_count": null,
   "metadata": {},
   "outputs": [],
   "source": [
    "df_annee.loc[df_annee['startYear']=='\\\\N'].sum()"
   ]
  },
  {
   "cell_type": "code",
   "execution_count": 29,
   "metadata": {},
   "outputs": [],
   "source": [
    "df_annee['startYear'] = pd.to_datetime(df_annee['startYear'], format = \"%Y\")"
   ]
  },
  {
   "cell_type": "code",
   "execution_count": 35,
   "metadata": {},
   "outputs": [
    {
     "data": {
      "text/plain": [
       "0           1894\n",
       "1           1892\n",
       "2           1892\n",
       "3           1892\n",
       "4           1893\n",
       "            ... \n",
       "11248094    2009\n",
       "11248095    2010\n",
       "11248096    2010\n",
       "11248097    2015\n",
       "11248098    2014\n",
       "Name: startYear, Length: 11248099, dtype: object"
      ]
     },
     "execution_count": 35,
     "metadata": {},
     "output_type": "execute_result"
    }
   ],
   "source": [
    "df_title_basics['startYear']"
   ]
  },
  {
   "cell_type": "code",
   "execution_count": 37,
   "metadata": {},
   "outputs": [],
   "source": [
    "df_combined = pd.merge(df_title_principals,df_name_basics, left_on='nconst', right_on='nconst')\n"
   ]
  },
  {
   "cell_type": "code",
   "execution_count": 38,
   "metadata": {},
   "outputs": [
    {
     "data": {
      "text/plain": [
       "primaryName\n",
       "Alex             528\n",
       "Michael Smith    446\n",
       "David            439\n",
       "Chris            437\n",
       "Michael          436\n",
       "David Smith      430\n",
       "John             400\n",
       "Mike             394\n",
       "Chris Smith      370\n",
       "David Brown      364\n",
       "Name: count, dtype: int64"
      ]
     },
     "execution_count": 38,
     "metadata": {},
     "output_type": "execute_result"
    }
   ],
   "source": [
    "top_actors = df_name_basics['primaryName'].value_counts().head(10)\n",
    "top_actors"
   ]
  },
  {
   "cell_type": "code",
   "execution_count": null,
   "metadata": {},
   "outputs": [],
   "source": [
    "# JOINTURES\n",
    "df_merge2 = pd.merge(df_title_principals, df_title_basics, on='tconst', how='inner')\n",
    "df_merge1 = pd.merge(df_title_principals, df_name_basics, on='nconst', how='inner')"
   ]
  },
  {
   "cell_type": "code",
   "execution_count": null,
   "metadata": {},
   "outputs": [],
   "source": [
    "# filtrer les acteurs \n",
    "df_name_basics2= df_name_basics['primaryName'].groupby(['tranche_10_ans', 'nconst'])\n",
    "\n",
    "# Trouver l'acteur avec le plus de films pour chaque tranche\n",
    "df_top_actors = df_name_basics.value_counts.loc[df_name_basics2.groupby('tranche_10_ans')['tconst_count'].idxmax()]\n",
    "\n",
    "# joindr les noms d'acteur\n",
    "df_top_actors = pd.merge(df_top_actors, df_name_basics, on='nconst', how='inner')\n",
    "df_top_actors = df_top_actors.drop_duplicates()\n"
   ]
  },
  {
   "cell_type": "code",
   "execution_count": null,
   "metadata": {},
   "outputs": [],
   "source": []
  }
 ],
 "metadata": {
  "kernelspec": {
   "display_name": "base",
   "language": "python",
   "name": "python3"
  },
  "language_info": {
   "codemirror_mode": {
    "name": "ipython",
    "version": 3
   },
   "file_extension": ".py",
   "mimetype": "text/x-python",
   "name": "python",
   "nbconvert_exporter": "python",
   "pygments_lexer": "ipython3",
   "version": "3.12.4"
  }
 },
 "nbformat": 4,
 "nbformat_minor": 2
}
