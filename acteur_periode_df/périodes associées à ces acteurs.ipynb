{
 "cells": [
  {
   "cell_type": "code",
   "execution_count": 8,
   "metadata": {},
   "outputs": [],
   "source": [
    "# chemin_bd = r\"/Users/anaellepinceloup/Documents/GitHub/IMBd_a_ignorer_df/\"\n",
    "chemin_bd = r\"C:/Users/aure_/OneDrive/Documents/GitHub/projet2_WAAA/IMBd_a_ignorer_df/\"\n",
    "# chemin_bd = r\"C:/Users/Lahbib/Documents/GitHub/projet2_WAAA/IMBd_a_ignorer_df/\""
   ]
  },
  {
   "cell_type": "code",
   "execution_count": 9,
   "metadata": {},
   "outputs": [],
   "source": [
    "import pandas as pd\n",
    "from datetime import datetime"
   ]
  },
  {
   "cell_type": "code",
   "execution_count": 11,
   "metadata": {},
   "outputs": [
    {
     "name": "stderr",
     "output_type": "stream",
     "text": [
      "C:\\Users\\aure_\\AppData\\Local\\Temp\\ipykernel_4280\\2042794988.py:2: DtypeWarning: Columns (4) have mixed types. Specify dtype option on import or set low_memory=False.\n",
      "  df_title_basics= pd.read_csv(chemin_bd + 'title.basics.tsv.gz', compression='gzip', sep='\\t')\n"
     ]
    }
   ],
   "source": [
    "df_name_basics = pd.read_csv(chemin_bd + 'name.basics.tsv.gz', compression='gzip', sep='\\t')\n",
    "df_title_basics= pd.read_csv(chemin_bd + 'title.basics.tsv.gz', compression='gzip', sep='\\t')\n",
    "df_title_principals= pd.read_csv(chemin_bd + 'title.principals.tsv.gz', compression='gzip', sep='\\t')"
   ]
  },
  {
   "cell_type": "code",
   "execution_count": 12,
   "metadata": {},
   "outputs": [
    {
     "name": "stdout",
     "output_type": "stream",
     "text": [
      "\n",
      "Colonnes disponibles dans df_name_basics :\n",
      "Index(['nconst', 'primaryName', 'birthYear', 'deathYear', 'primaryProfession',\n",
      "       'knownForTitles'],\n",
      "      dtype='object')\n",
      "\n",
      "Premières lignes de df_name_basics :\n",
      "      nconst      primaryName birthYear deathYear  \\\n",
      "0  nm0000001     Fred Astaire      1899      1987   \n",
      "1  nm0000002    Lauren Bacall      1924      2014   \n",
      "2  nm0000003  Brigitte Bardot      1934        \\N   \n",
      "3  nm0000004     John Belushi      1949      1982   \n",
      "4  nm0000005   Ingmar Bergman      1918      2007   \n",
      "5  nm0000006   Ingrid Bergman      1915      1982   \n",
      "6  nm0000007  Humphrey Bogart      1899      1957   \n",
      "7  nm0000008    Marlon Brando      1924      2004   \n",
      "8  nm0000009   Richard Burton      1925      1984   \n",
      "9  nm0000010     James Cagney      1899      1986   \n",
      "\n",
      "                    primaryProfession                           knownForTitles  \n",
      "0        actor,miscellaneous,producer  tt0050419,tt0072308,tt0053137,tt0027125  \n",
      "1  actress,soundtrack,archive_footage  tt0037382,tt0075213,tt0117057,tt0038355  \n",
      "2   actress,music_department,producer  tt0057345,tt0049189,tt0056404,tt0054452  \n",
      "3       actor,writer,music_department  tt0072562,tt0077975,tt0080455,tt0078723  \n",
      "4               writer,director,actor  tt0050986,tt0069467,tt0050976,tt0083922  \n",
      "5         actress,producer,soundtrack  tt0034583,tt0036855,tt0038109,tt0038787  \n",
      "6        actor,producer,miscellaneous  tt0034583,tt0037382,tt0042593,tt0043265  \n",
      "7               actor,director,writer  tt0078788,tt0068646,tt0047296,tt0070849  \n",
      "8             actor,producer,director  tt0061184,tt0087803,tt0059749,tt0057877  \n",
      "9             actor,director,producer  tt0029870,tt0031867,tt0042041,tt0055256  \n"
     ]
    }
   ],
   "source": [
    "\n",
    "# Afficher toutes les colonnes de df_name_basics\n",
    "print(\"\\nColonnes disponibles dans df_name_basics :\")\n",
    "print(df_name_basics.columns)\n",
    "\n",
    "# Afficher les premières lignes pour vérifier les données dans df_name_basics\n",
    "print(\"\\nPremières lignes de df_name_basics :\")\n",
    "print(df_name_basics.head(10))  # Affiche les 10 premières lignes"
   ]
  },
  {
   "cell_type": "code",
   "execution_count": 13,
   "metadata": {},
   "outputs": [
    {
     "name": "stdout",
     "output_type": "stream",
     "text": [
      "\n",
      "Colonnes disponibles dans la table modifiée :\n",
      "Index(['nconst', 'primaryName', 'birthYear', 'deathYear', 'primaryProfession',\n",
      "       'knownForTitles'],\n",
      "      dtype='object')\n",
      "\n",
      "Nombre total de lignes dans df_exploded : 24436172\n"
     ]
    }
   ],
   "source": [
    "\n",
    "# Convertir df_name_basics en DataFrame\n",
    "df = pd.DataFrame(df_name_basics)\n",
    "\n",
    "# Séparer la colonne 'knownForTitles' par des virgules pour obtenir une liste de tconst\n",
    "df['knownForTitles'] = df['knownForTitles'].apply(lambda x: x.split(','))\n",
    "\n",
    "# Utiliser explode() pour transformer les listes en lignes\n",
    "df_exploded = df.explode('knownForTitles')\n",
    "\n",
    "\n",
    "\n",
    "# Vérification des colonnes disponibles dans la nouvelle table\n",
    "print(\"\\nColonnes disponibles dans la table modifiée :\")\n",
    "print(df_exploded.columns)\n",
    "\n",
    "# Vérification du nombre de lignes\n",
    "print(f\"\\nNombre total de lignes dans df_exploded : {df_exploded.shape[0]}\")\n",
    "\n"
   ]
  },
  {
   "cell_type": "code",
   "execution_count": null,
   "metadata": {},
   "outputs": [],
   "source": [
    "# Fusionner df_title_principals avec df_exploded sur 'nconst' avec une jointure externe\n",
    "df_combined_actors_outer = pd.merge(df_title_principals, df_exploded, on='nconst', how='outer')\n",
    "\n",
    "\n",
    "# Fusionner df_combined_actors_outer avec df_title_basics sur 'tconst'\n",
    "df_final_combined = pd.merge(df_combined_actors_outer, df_title_basics, on='tconst', how='outer')\n",
    "\n",
    "#df_final_combined.columns\n",
    "df_final_combined\n",
    "\n",
    "\n",
    "\n"
   ]
  }
 ],
 "metadata": {
  "kernelspec": {
   "display_name": "base",
   "language": "python",
   "name": "python3"
  },
  "language_info": {
   "codemirror_mode": {
    "name": "ipython",
    "version": 3
   },
   "file_extension": ".py",
   "mimetype": "text/x-python",
   "name": "python",
   "nbconvert_exporter": "python",
   "pygments_lexer": "ipython3",
   "version": "3.12.4"
  }
 },
 "nbformat": 4,
 "nbformat_minor": 2
}
