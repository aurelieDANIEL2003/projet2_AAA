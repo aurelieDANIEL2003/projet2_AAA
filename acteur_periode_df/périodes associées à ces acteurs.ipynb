{
 "cells": [
  {
   "cell_type": "code",
   "execution_count": null,
   "metadata": {},
   "outputs": [],
   "source": [
    "import pandas as pd\n",
    "\n",
    "# Afficher toutes les colonnes de df_name_basics\n",
    "print(\"\\nColonnes disponibles dans df_name_basics :\")\n",
    "print(df_name_basics.columns)\n",
    "\n",
    "# Afficher les premières lignes pour vérifier les données dans df_name_basics\n",
    "print(\"\\nPremières lignes de df_name_basics :\")\n",
    "print(df_name_basics.head(10))  # Affiche les 10 premières lignes"
   ]
  },
  {
   "cell_type": "code",
   "execution_count": null,
   "metadata": {},
   "outputs": [],
   "source": [
    "import pandas as pd\n",
    "\n",
    "# Convertir df_name_basics en DataFrame\n",
    "df = pd.DataFrame(df_name_basics)\n",
    "\n",
    "# Séparer la colonne 'knownForTitles' par des virgules pour obtenir une liste de tconst\n",
    "df['knownForTitles'] = df['knownForTitles'].apply(lambda x: x.split(','))\n",
    "\n",
    "# Utiliser explode() pour transformer les listes en lignes\n",
    "df_exploded = df.explode('knownForTitles')\n",
    "\n",
    "\n",
    "\n",
    "# Vérification des colonnes disponibles dans la nouvelle table\n",
    "print(\"\\nColonnes disponibles dans la table modifiée :\")\n",
    "print(df_exploded.columns)\n",
    "\n",
    "# Vérification du nombre de lignes\n",
    "print(f\"\\nNombre total de lignes dans df_exploded : {df_exploded.shape[0]}\")\n",
    "\n"
   ]
  },
  {
   "cell_type": "code",
   "execution_count": null,
   "metadata": {},
   "outputs": [],
   "source": [
    "import pandas as pd\n",
    "\n",
    "# Fusionner df_title_principals avec df_exploded sur 'nconst' avec une jointure externe\n",
    "df_combined_actors_outer = pd.merge(df_title_principals, df_exploded, on='nconst', how='outer')\n",
    "\n",
    "\n",
    "# Fusionner df_combined_actors_outer avec df_title_basics sur 'tconst'\n",
    "df_final_combined = pd.merge(df_combined_actors_outer, df_title_basics, on='tconst', how='outer')\n",
    "\n",
    "#df_final_combined.columns\n",
    "df_final_combined\n",
    "\n",
    "\n",
    "\n"
   ]
  },
  {
   "cell_type": "code",
   "execution_count": null,
   "metadata": {},
   "outputs": [],
   "source": [
    "import pandas as pd\n",
    "\n",
    "# Fusionner df_title_principals avec df_exploded sur 'nconst' avec une jointure externe\n",
    "df_combined_actors_outer = pd.merge(df_title_principals, df_exploded, on='nconst', how='outer')\n",
    "\n",
    "\n",
    "# Fusionner df_combined_actors_outer avec df_title_basics sur 'tconst'\n",
    "df_final_combined = pd.merge(df_combined_actors_outer, df_title_basics, on='tconst', how='outer')\n",
    "\n",
    "#df_final_combined.columns\n",
    "df_final_combined\n",
    "\n",
    "\n",
    "\n"
   ]
  }
 ],
 "metadata": {
  "kernelspec": {
   "display_name": "base",
   "language": "python",
   "name": "python3"
  },
  "language_info": {
   "name": "python",
   "version": "3.12.4"
  }
 },
 "nbformat": 4,
 "nbformat_minor": 2
}
