{
 "cells": [
  {
   "cell_type": "code",
   "execution_count": 1,
   "metadata": {},
   "outputs": [],
   "source": [
    "chemin_bd = r\"/Users/anaellepinceloup/Documents/GitHub/IMBd_a_ignorer_df/\"\n",
    "#chemin_bd = r\"C:/Users/aure_/OneDrive/Documents/GitHub/projet2_WAAA/IMBd_a_ignorer_df/\"\n",
    "#chemin_bd = r\"C:/Users/Lahbib/Documents/GitHub/projet2_WAAA/IMBd_a_ignorer_df/\"\n",
    "\n",
    "\n",
    "\n"
   ]
  },
  {
   "cell_type": "code",
   "execution_count": 2,
   "metadata": {},
   "outputs": [],
   "source": [
    "import pandas as pd\n",
    "from datetime import datetime\n",
    "\n"
   ]
  },
  {
   "cell_type": "code",
   "execution_count": 3,
   "metadata": {},
   "outputs": [],
   "source": [
    "df_title_principals= pd.read_csv(chemin_bd + 'title.principals.tsv.gz', compression='gzip', sep='\\t')\n",
    "\n",
    "\n",
    "\n"
   ]
  },
  {
   "cell_type": "code",
   "execution_count": 4,
   "metadata": {},
   "outputs": [],
   "source": [
    "# on supprime les colonnes non necessaires a la table title principals\n",
    "df_ttp2= df_title_principals.drop(columns = ['ordering', 'job', 'characters'])\n",
    "\n",
    "\n"
   ]
  },
  {
   "cell_type": "code",
   "execution_count": 5,
   "metadata": {},
   "outputs": [
    {
     "name": "stdout",
     "output_type": "stream",
     "text": [
      "<class 'pandas.core.frame.DataFrame'>\n",
      "RangeIndex: 89216353 entries, 0 to 89216352\n",
      "Data columns (total 3 columns):\n",
      " #   Column    Dtype \n",
      "---  ------    ----- \n",
      " 0   tconst    object\n",
      " 1   nconst    object\n",
      " 2   category  object\n",
      "dtypes: object(3)\n",
      "memory usage: 2.0+ GB\n"
     ]
    }
   ],
   "source": [
    "# on cree une table finale avec moins de colonnes avant de changer en csv\n",
    "\n",
    "df_ttp2.info()\n",
    "\n",
    "df_ttpa = df_ttp2[df_ttp2['category'].isin(['actor','actress'])]\n",
    "\n",
    "\n",
    "\n"
   ]
  },
  {
   "cell_type": "code",
   "execution_count": 13,
   "metadata": {},
   "outputs": [],
   "source": [
    "# chemins tables plus courtes\n",
    "chemin_bd2 = r\"/Users/anaellepinceloup/Documents/GitHub/\"\n",
    "# chemin_bd2 = r\"C:/Users/aure_/OneDrive/Documents/GitHub/projet2_WAAA/\"\n",
    "# chemin_bd2 = r\"C:/Users/Lahbib/Documents/GitHub/projet2_WAAA/\"\n",
    "\n",
    "\n",
    "\n",
    "\n"
   ]
  },
  {
   "cell_type": "code",
   "execution_count": 15,
   "metadata": {},
   "outputs": [],
   "source": [
    "df_ttpa = df_ttpa.to_csv(chemin_bd2 + 'df_ttpa.csv', index=False)\n"
   ]
  }
 ],
 "metadata": {
  "kernelspec": {
   "display_name": "base",
   "language": "python",
   "name": "python3"
  },
  "language_info": {
   "codemirror_mode": {
    "name": "ipython",
    "version": 3
   },
   "file_extension": ".py",
   "mimetype": "text/x-python",
   "name": "python",
   "nbconvert_exporter": "python",
   "pygments_lexer": "ipython3",
   "version": "3.12.4"
  }
 },
 "nbformat": 4,
 "nbformat_minor": 2
}
