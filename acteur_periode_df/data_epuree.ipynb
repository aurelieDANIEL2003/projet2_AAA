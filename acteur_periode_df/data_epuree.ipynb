{
 "cells": [
  {
   "cell_type": "code",
   "execution_count": null,
   "metadata": {},
   "outputs": [],
   "source": [
    "# chemin_bd = r\"/Users/anaellepinceloup/Documents/GitHub/IMBd_a_ignorer_df/\"\n",
    "#chemin_bd = r\"C:/Users/aure_/OneDrive/Documents/GitHub/projet2_WAAA/IMBd_a_ignorer_df/\"\n",
    "chemin_bd = r\"C:/Users/Lahbib/Documents/GitHub/projet2_WAAA/IMBd_a_ignorer_df/\"\n",
    "\n",
    "\n",
    "\n"
   ]
  },
  {
   "cell_type": "code",
   "execution_count": null,
   "metadata": {},
   "outputs": [],
   "source": [
    "import pandas as pd\n",
    "from datetime import datetime\n",
    "\n"
   ]
  },
  {
   "cell_type": "code",
   "execution_count": null,
   "metadata": {},
   "outputs": [],
   "source": [
    "df_title_principals= pd.read_csv(chemin_bd + 'title.principals.tsv.gz', compression='gzip', sep='\\t')\n",
    "\n",
    "\n",
    "\n"
   ]
  },
  {
   "cell_type": "code",
   "execution_count": null,
   "metadata": {},
   "outputs": [],
   "source": [
    "# on supprime les colonnes non necessaires a la table title principals\n",
    "df_ttp2= df_title_principals.drop(columns = ['ordering', 'job', 'characters'])\n",
    "\n",
    "\n"
   ]
  },
  {
   "cell_type": "code",
   "execution_count": null,
   "metadata": {},
   "outputs": [],
   "source": [
    "# on cree une table finale avec moins de colonnes avant de changer en csv\n",
    "\n",
    "df_ttp2.info()\n",
    "\n",
    "df_ttpa = df_ttp2[df_ttp2['category'].isin(['actor','actress'])]\n",
    "\n",
    "\n",
    "\n"
   ]
  },
  {
   "cell_type": "code",
   "execution_count": null,
   "metadata": {},
   "outputs": [],
   "source": [
    "# chemins tables plus courtes\n",
    "# chemin_bd2 = r\"/Users/anaellepinceloup/Documents/GitHub/\"\n",
    "chemin_bd2 = r\"C:/Users/aure_/OneDrive/Documents/GitHub/projet2_WAAA/\"\n",
    "# chemin_bd2 = r\"C:/Users/Lahbib/Documents/GitHub/projet2_WAAA/\"\n",
    "\n",
    "\n",
    "\n",
    "\n"
   ]
  },
  {
   "cell_type": "code",
   "execution_count": null,
   "metadata": {},
   "outputs": [],
   "source": [
    "df_ttpa = pd.read_csv(chemin_bd2 + 'df_ttpa.csv')\n"
   ]
  }
 ],
 "metadata": {
  "language_info": {
   "name": "python"
  }
 },
 "nbformat": 4,
 "nbformat_minor": 2
}
